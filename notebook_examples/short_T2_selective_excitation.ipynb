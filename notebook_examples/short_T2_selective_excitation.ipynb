{
 "cells": [
  {
   "cell_type": "code",
   "execution_count": 28,
   "metadata": {},
   "outputs": [],
   "source": [
    "import numpy as np\n",
    "from plotly import express as px\n",
    "import copy\n",
    "#import jax.numpy as jnp\n",
    "import pandas as pd\n",
    "\n",
    "from grape import controlField as cf\n",
    "from grape import optimalControl as COPT\n",
    "from grape import rf\n",
    "from grape import Analysis\n",
    "from grape import Bruker\n",
    "from grape import config\n",
    "from grape import propagation\n"
   ]
  },
  {
   "cell_type": "markdown",
   "metadata": {},
   "source": [
    "# Set-up global parameters"
   ]
  },
  {
   "cell_type": "code",
   "execution_count": 29,
   "metadata": {},
   "outputs": [],
   "source": [
    "# Define global parameters\n",
    "global_parameters = config.Global(\n",
    "    application = 'selective_excitation',\n",
    "    N           = 256,\n",
    "    T_s         = 5e-3,\n",
    "    nucleus     = 'H',\n",
    "    refoc_f     = 0.5, # 0.5232,\n",
    ")"
   ]
  },
  {
   "cell_type": "markdown",
   "metadata": {},
   "source": [
    "# Set-up control fields parameters (w1x, w1y, gz)"
   ]
  },
  {
   "cell_type": "code",
   "execution_count": 30,
   "metadata": {},
   "outputs": [],
   "source": [
    "## Set control fields\n",
    "# w1x in rad/s\n",
    "TBP=15 #Possible values 5,10,15\n",
    "pulse_slr_matlab=pd.read_csv('wx_slr_matlab_tbp'+str(TBP)+'.csv',delimiter=',',header=None)\n",
    "w1x_initial_temp_value =pulse_slr_matlab.to_numpy()[0]\n",
    "\n",
    "param_w1x = {'name':'wavelet','wavelet_nbLevels':5, 'wavelet_type':'db16'} #To use temporal discretization change 'wavelet' to 'temp'\n",
    "w1x       = cf.ControlField(global_parameters=global_parameters, initial_temp_value=w1x_initial_temp_value, optimize=True, parametrization=param_w1x)\n",
    "\n",
    "# w1y in rad/s\n",
    "w1y_initial_temp_value = np.zeros(global_parameters.N) \n",
    "\n",
    "param_w1y = {'name':'temp', 'wavelet_nbLevels':5, 'wavelet_type':'db16'}\n",
    "w1y       = cf.ControlField(global_parameters=global_parameters, initial_temp_value=w1y_initial_temp_value, optimize=False,parametrization=param_w1y)\n",
    "\n",
    "# gz in T/m\n",
    "gamma                 = 267.513e6 # 'H'\n",
    "sliceThickness_mm     = 1 \n",
    "g_init                = 2*np.pi*TBP/(gamma * 1e-3*(sliceThickness_mm)*global_parameters.T_s)\n",
    "gz_initial_temp_value = g_init*np.ones(global_parameters.N) # in T/m\n",
    "\n",
    "param_gz = {'name':'temp'}\n",
    "gz       = cf.ControlField(global_parameters=global_parameters, initial_temp_value=gz_initial_temp_value,optimize=False,parametrization=param_gz)\n",
    "\n",
    "# Define control fields dictionary\n",
    "initial_control_fields = {'w1x':w1x, 'w1y':w1y, 'gz':gz}\n",
    "\n",
    "trW_mm={15:0.1,10:0.1,5:0.2}"
   ]
  },
  {
   "cell_type": "markdown",
   "metadata": {},
   "source": [
    "# Set-up isochromat properties"
   ]
  },
  {
   "cell_type": "code",
   "execution_count": 31,
   "metadata": {},
   "outputs": [],
   "source": [
    "# Define different isochromat populations\n",
    "population_1 = config.Population(\n",
    "    application=global_parameters.application,\n",
    "    T2=2e-3\n",
    ")\n",
    "\n",
    "# Generate global population list\n",
    "population_list = []\n",
    "population_list.append(population_1)\n",
    "\n",
    "# Set up the problem geometry\n",
    "geometry_parameters = config.Geometry(\n",
    "    application         = global_parameters.application,\n",
    "    transitionWidth_mm  = trW_mm[TBP], \n",
    "    max_stopBand_mm     = 5,\n",
    "    nb_in_slice         = 41,\n",
    "    nb_stopBand         = 200,\n",
    "    sliceThickness_mm   = sliceThickness_mm,\n",
    "    halfPos             = True #True use the isocromats in [0,5], False use: [-5,5]\n",
    ")"
   ]
  },
  {
   "cell_type": "markdown",
   "metadata": {},
   "source": [
    "# Set-up reference pulse"
   ]
  },
  {
   "cell_type": "code",
   "execution_count": 32,
   "metadata": {},
   "outputs": [
    {
     "data": {
      "application/vnd.plotly.v1+json": {
       "config": {
        "plotlyServerURL": "https://plot.ly"
       },
       "data": [
        {
         "hovertemplate": "population_idx=0<br>Position (mm)=%{x}<br>Transverse magn.=%{y}<extra></extra>",
         "legendgroup": "0",
         "line": {
          "color": "#636efa",
          "dash": "solid"
         },
         "marker": {
          "symbol": "circle"
         },
         "mode": "lines",
         "name": "0",
         "orientation": "v",
         "showlegend": true,
         "type": "scatter",
         "x": [
          0,
          0.025,
          0.05,
          0.075,
          0.1,
          0.125,
          0.15,
          0.175,
          0.2,
          0.225,
          0.25,
          0.275,
          0.3,
          0.325,
          0.35,
          0.375,
          0.4,
          0.425,
          0.45,
          0.475,
          0.5,
          0.6,
          0.6129886735,
          0.6262585231,
          0.6398156356,
          0.6536662295,
          0.6678166583,
          0.6822734125,
          0.6970431235,
          0.7121325661,
          0.7275486617,
          0.7432984818,
          0.7593892506,
          0.775828349,
          0.7926233175,
          0.80978186,
          0.827311847,
          0.8452213194,
          0.8635184924,
          0.8822117586,
          0.9013096928,
          0.920821055,
          0.9407547951,
          0.9611200565,
          0.9819261809,
          1.0031827118,
          1.0248993997,
          1.0470862058,
          1.0697533073,
          1.0929111013,
          1.1165702104,
          1.1407414869,
          1.1654360182,
          1.1906651314,
          1.2164403991,
          1.2427736444,
          1.2696769463,
          1.2971626451,
          1.3252433486,
          1.3539319372,
          1.3832415703,
          1.4131856922,
          1.4437780382,
          1.4750326407,
          1.5069638364,
          1.5395862718,
          1.5729149108,
          1.6069650412,
          1.6417522816,
          1.6772925889,
          1.7136022653,
          1.7506979658,
          1.7885967063,
          1.8273158707,
          1.8668732194,
          1.9072868973,
          1.948575442,
          1.9907577923,
          2.0338532973,
          2.0778817247,
          2.1228632702,
          2.1688185667,
          2.2157686938,
          2.2637351874,
          2.3127400494,
          2.3628057584,
          2.4139552794,
          2.4662120743,
          2.5196001134,
          2.5741438854,
          2.6298684096,
          2.6867992465,
          2.7449625101,
          2.8043848798,
          2.8650936125,
          2.9271165549,
          2.990482157,
          3.0552194843,
          3.1213582316,
          3.1889287365,
          3.2579619935,
          3.3284896679,
          3.4005441105,
          3.4741583724,
          3.5493662205,
          3.6262021521,
          3.7047014118,
          3.7849000069,
          3.8668347243,
          3.9505431472,
          4.0360636724,
          4.1234355278,
          4.2126987908,
          4.3038944061,
          4.3970642048,
          4.4922509237,
          4.5894982247,
          4.6888507146,
          4.7903539664,
          4.8940545391,
          5
         ],
         "xaxis": "x",
         "y": [
          0.825452539249159,
          0.8255554863637609,
          0.8246210195162315,
          0.8227916628309075,
          0.8210895916570238,
          0.8180867081351779,
          0.8142070597690281,
          0.8101862078969672,
          0.8044017408054667,
          0.7975273815998049,
          0.7898940796730455,
          0.779567483943593,
          0.7673378052697448,
          0.7527832859153017,
          0.733134803613063,
          0.7086948389404261,
          0.6767372441605076,
          0.6311089997342813,
          0.566875315986596,
          0.46221685398475604,
          0.30177617735063417,
          0.02261202291223608,
          0.026471549664127035,
          0.02897425413026311,
          0.029835186637566263,
          0.030493582923664372,
          0.031917123717101134,
          0.03329903504610028,
          0.03358797181878123,
          0.0331690435810375,
          0.03325823841688094,
          0.0338781513612689,
          0.033823290867459506,
          0.03286078986900506,
          0.03229571137115673,
          0.03255525936992943,
          0.032138438511671856,
          0.03054517259650524,
          0.029551161152502586,
          0.029543600749632082,
          0.028265872347316142,
          0.025707293236441754,
          0.02454512171246413,
          0.023758349169362744,
          0.020681804471054915,
          0.01790155894321219,
          0.017122922273788557,
          0.01410716023947423,
          0.010671581922218754,
          0.01101216606797521,
          0.008804167898590965,
          0.006329629210487324,
          0.00788572628795925,
          0.006163229004277592,
          0.007393664659930424,
          0.008400807844080125,
          0.007513940924443431,
          0.009327415900965957,
          0.008288174728135837,
          0.008936180937125945,
          0.008432582505196832,
          0.00828495735137332,
          0.0083360123239876,
          0.007695353655960224,
          0.00829179556877356,
          0.007239510569236488,
          0.008053905963068243,
          0.006898673836163511,
          0.007502975976029153,
          0.0067651546870181965,
          0.007049445389679273,
          0.006980875627939207,
          0.006421902538665229,
          0.007113117332665277,
          0.005963006399242387,
          0.006740817687039491,
          0.006258394864909847,
          0.00576361626572351,
          0.00648874562545379,
          0.005709348295457865,
          0.005473288349751564,
          0.006096491970318006,
          0.005567903778663494,
          0.004989987455620625,
          0.00545547395437906,
          0.00563248154330895,
          0.005063261937835872,
          0.004598717150669093,
          0.004778586776308387,
          0.005090230533105248,
          0.005069856756709462,
          0.004769765934229646,
          0.004391710710111079,
          0.00411866109284411,
          0.003984122545361301,
          0.003951583156956682,
          0.003946542666324321,
          0.003915288629696554,
          0.00384699367941088,
          0.003741926625145459,
          0.0036088715735552055,
          0.003469473291340882,
          0.003375638288200322,
          0.0033939584151860243,
          0.0035386987307668392,
          0.0036888271302593654,
          0.003626589658532987,
          0.0032653874032481938,
          0.002976595265370649,
          0.0032139709464402977,
          0.003352857425682075,
          0.002890720112424982,
          0.0029133829039978076,
          0.0031392985902175988,
          0.0026295650757068266,
          0.0029807808072765457,
          0.002613404036296352,
          0.002807602776743497,
          0.002491347292805711,
          0.002757614085325596,
          0.0023111872803565536
         ],
         "yaxis": "y"
        }
       ],
       "layout": {
        "legend": {
         "title": {
          "text": "population_idx"
         },
         "tracegroupgap": 0
        },
        "template": {
         "data": {
          "bar": [
           {
            "error_x": {
             "color": "#2a3f5f"
            },
            "error_y": {
             "color": "#2a3f5f"
            },
            "marker": {
             "line": {
              "color": "#E5ECF6",
              "width": 0.5
             },
             "pattern": {
              "fillmode": "overlay",
              "size": 10,
              "solidity": 0.2
             }
            },
            "type": "bar"
           }
          ],
          "barpolar": [
           {
            "marker": {
             "line": {
              "color": "#E5ECF6",
              "width": 0.5
             },
             "pattern": {
              "fillmode": "overlay",
              "size": 10,
              "solidity": 0.2
             }
            },
            "type": "barpolar"
           }
          ],
          "carpet": [
           {
            "aaxis": {
             "endlinecolor": "#2a3f5f",
             "gridcolor": "white",
             "linecolor": "white",
             "minorgridcolor": "white",
             "startlinecolor": "#2a3f5f"
            },
            "baxis": {
             "endlinecolor": "#2a3f5f",
             "gridcolor": "white",
             "linecolor": "white",
             "minorgridcolor": "white",
             "startlinecolor": "#2a3f5f"
            },
            "type": "carpet"
           }
          ],
          "choropleth": [
           {
            "colorbar": {
             "outlinewidth": 0,
             "ticks": ""
            },
            "type": "choropleth"
           }
          ],
          "contour": [
           {
            "colorbar": {
             "outlinewidth": 0,
             "ticks": ""
            },
            "colorscale": [
             [
              0,
              "#0d0887"
             ],
             [
              0.1111111111111111,
              "#46039f"
             ],
             [
              0.2222222222222222,
              "#7201a8"
             ],
             [
              0.3333333333333333,
              "#9c179e"
             ],
             [
              0.4444444444444444,
              "#bd3786"
             ],
             [
              0.5555555555555556,
              "#d8576b"
             ],
             [
              0.6666666666666666,
              "#ed7953"
             ],
             [
              0.7777777777777778,
              "#fb9f3a"
             ],
             [
              0.8888888888888888,
              "#fdca26"
             ],
             [
              1,
              "#f0f921"
             ]
            ],
            "type": "contour"
           }
          ],
          "contourcarpet": [
           {
            "colorbar": {
             "outlinewidth": 0,
             "ticks": ""
            },
            "type": "contourcarpet"
           }
          ],
          "heatmap": [
           {
            "colorbar": {
             "outlinewidth": 0,
             "ticks": ""
            },
            "colorscale": [
             [
              0,
              "#0d0887"
             ],
             [
              0.1111111111111111,
              "#46039f"
             ],
             [
              0.2222222222222222,
              "#7201a8"
             ],
             [
              0.3333333333333333,
              "#9c179e"
             ],
             [
              0.4444444444444444,
              "#bd3786"
             ],
             [
              0.5555555555555556,
              "#d8576b"
             ],
             [
              0.6666666666666666,
              "#ed7953"
             ],
             [
              0.7777777777777778,
              "#fb9f3a"
             ],
             [
              0.8888888888888888,
              "#fdca26"
             ],
             [
              1,
              "#f0f921"
             ]
            ],
            "type": "heatmap"
           }
          ],
          "heatmapgl": [
           {
            "colorbar": {
             "outlinewidth": 0,
             "ticks": ""
            },
            "colorscale": [
             [
              0,
              "#0d0887"
             ],
             [
              0.1111111111111111,
              "#46039f"
             ],
             [
              0.2222222222222222,
              "#7201a8"
             ],
             [
              0.3333333333333333,
              "#9c179e"
             ],
             [
              0.4444444444444444,
              "#bd3786"
             ],
             [
              0.5555555555555556,
              "#d8576b"
             ],
             [
              0.6666666666666666,
              "#ed7953"
             ],
             [
              0.7777777777777778,
              "#fb9f3a"
             ],
             [
              0.8888888888888888,
              "#fdca26"
             ],
             [
              1,
              "#f0f921"
             ]
            ],
            "type": "heatmapgl"
           }
          ],
          "histogram": [
           {
            "marker": {
             "pattern": {
              "fillmode": "overlay",
              "size": 10,
              "solidity": 0.2
             }
            },
            "type": "histogram"
           }
          ],
          "histogram2d": [
           {
            "colorbar": {
             "outlinewidth": 0,
             "ticks": ""
            },
            "colorscale": [
             [
              0,
              "#0d0887"
             ],
             [
              0.1111111111111111,
              "#46039f"
             ],
             [
              0.2222222222222222,
              "#7201a8"
             ],
             [
              0.3333333333333333,
              "#9c179e"
             ],
             [
              0.4444444444444444,
              "#bd3786"
             ],
             [
              0.5555555555555556,
              "#d8576b"
             ],
             [
              0.6666666666666666,
              "#ed7953"
             ],
             [
              0.7777777777777778,
              "#fb9f3a"
             ],
             [
              0.8888888888888888,
              "#fdca26"
             ],
             [
              1,
              "#f0f921"
             ]
            ],
            "type": "histogram2d"
           }
          ],
          "histogram2dcontour": [
           {
            "colorbar": {
             "outlinewidth": 0,
             "ticks": ""
            },
            "colorscale": [
             [
              0,
              "#0d0887"
             ],
             [
              0.1111111111111111,
              "#46039f"
             ],
             [
              0.2222222222222222,
              "#7201a8"
             ],
             [
              0.3333333333333333,
              "#9c179e"
             ],
             [
              0.4444444444444444,
              "#bd3786"
             ],
             [
              0.5555555555555556,
              "#d8576b"
             ],
             [
              0.6666666666666666,
              "#ed7953"
             ],
             [
              0.7777777777777778,
              "#fb9f3a"
             ],
             [
              0.8888888888888888,
              "#fdca26"
             ],
             [
              1,
              "#f0f921"
             ]
            ],
            "type": "histogram2dcontour"
           }
          ],
          "mesh3d": [
           {
            "colorbar": {
             "outlinewidth": 0,
             "ticks": ""
            },
            "type": "mesh3d"
           }
          ],
          "parcoords": [
           {
            "line": {
             "colorbar": {
              "outlinewidth": 0,
              "ticks": ""
             }
            },
            "type": "parcoords"
           }
          ],
          "pie": [
           {
            "automargin": true,
            "type": "pie"
           }
          ],
          "scatter": [
           {
            "fillpattern": {
             "fillmode": "overlay",
             "size": 10,
             "solidity": 0.2
            },
            "type": "scatter"
           }
          ],
          "scatter3d": [
           {
            "line": {
             "colorbar": {
              "outlinewidth": 0,
              "ticks": ""
             }
            },
            "marker": {
             "colorbar": {
              "outlinewidth": 0,
              "ticks": ""
             }
            },
            "type": "scatter3d"
           }
          ],
          "scattercarpet": [
           {
            "marker": {
             "colorbar": {
              "outlinewidth": 0,
              "ticks": ""
             }
            },
            "type": "scattercarpet"
           }
          ],
          "scattergeo": [
           {
            "marker": {
             "colorbar": {
              "outlinewidth": 0,
              "ticks": ""
             }
            },
            "type": "scattergeo"
           }
          ],
          "scattergl": [
           {
            "marker": {
             "colorbar": {
              "outlinewidth": 0,
              "ticks": ""
             }
            },
            "type": "scattergl"
           }
          ],
          "scattermapbox": [
           {
            "marker": {
             "colorbar": {
              "outlinewidth": 0,
              "ticks": ""
             }
            },
            "type": "scattermapbox"
           }
          ],
          "scatterpolar": [
           {
            "marker": {
             "colorbar": {
              "outlinewidth": 0,
              "ticks": ""
             }
            },
            "type": "scatterpolar"
           }
          ],
          "scatterpolargl": [
           {
            "marker": {
             "colorbar": {
              "outlinewidth": 0,
              "ticks": ""
             }
            },
            "type": "scatterpolargl"
           }
          ],
          "scatterternary": [
           {
            "marker": {
             "colorbar": {
              "outlinewidth": 0,
              "ticks": ""
             }
            },
            "type": "scatterternary"
           }
          ],
          "surface": [
           {
            "colorbar": {
             "outlinewidth": 0,
             "ticks": ""
            },
            "colorscale": [
             [
              0,
              "#0d0887"
             ],
             [
              0.1111111111111111,
              "#46039f"
             ],
             [
              0.2222222222222222,
              "#7201a8"
             ],
             [
              0.3333333333333333,
              "#9c179e"
             ],
             [
              0.4444444444444444,
              "#bd3786"
             ],
             [
              0.5555555555555556,
              "#d8576b"
             ],
             [
              0.6666666666666666,
              "#ed7953"
             ],
             [
              0.7777777777777778,
              "#fb9f3a"
             ],
             [
              0.8888888888888888,
              "#fdca26"
             ],
             [
              1,
              "#f0f921"
             ]
            ],
            "type": "surface"
           }
          ],
          "table": [
           {
            "cells": {
             "fill": {
              "color": "#EBF0F8"
             },
             "line": {
              "color": "white"
             }
            },
            "header": {
             "fill": {
              "color": "#C8D4E3"
             },
             "line": {
              "color": "white"
             }
            },
            "type": "table"
           }
          ]
         },
         "layout": {
          "annotationdefaults": {
           "arrowcolor": "#2a3f5f",
           "arrowhead": 0,
           "arrowwidth": 1
          },
          "autotypenumbers": "strict",
          "coloraxis": {
           "colorbar": {
            "outlinewidth": 0,
            "ticks": ""
           }
          },
          "colorscale": {
           "diverging": [
            [
             0,
             "#8e0152"
            ],
            [
             0.1,
             "#c51b7d"
            ],
            [
             0.2,
             "#de77ae"
            ],
            [
             0.3,
             "#f1b6da"
            ],
            [
             0.4,
             "#fde0ef"
            ],
            [
             0.5,
             "#f7f7f7"
            ],
            [
             0.6,
             "#e6f5d0"
            ],
            [
             0.7,
             "#b8e186"
            ],
            [
             0.8,
             "#7fbc41"
            ],
            [
             0.9,
             "#4d9221"
            ],
            [
             1,
             "#276419"
            ]
           ],
           "sequential": [
            [
             0,
             "#0d0887"
            ],
            [
             0.1111111111111111,
             "#46039f"
            ],
            [
             0.2222222222222222,
             "#7201a8"
            ],
            [
             0.3333333333333333,
             "#9c179e"
            ],
            [
             0.4444444444444444,
             "#bd3786"
            ],
            [
             0.5555555555555556,
             "#d8576b"
            ],
            [
             0.6666666666666666,
             "#ed7953"
            ],
            [
             0.7777777777777778,
             "#fb9f3a"
            ],
            [
             0.8888888888888888,
             "#fdca26"
            ],
            [
             1,
             "#f0f921"
            ]
           ],
           "sequentialminus": [
            [
             0,
             "#0d0887"
            ],
            [
             0.1111111111111111,
             "#46039f"
            ],
            [
             0.2222222222222222,
             "#7201a8"
            ],
            [
             0.3333333333333333,
             "#9c179e"
            ],
            [
             0.4444444444444444,
             "#bd3786"
            ],
            [
             0.5555555555555556,
             "#d8576b"
            ],
            [
             0.6666666666666666,
             "#ed7953"
            ],
            [
             0.7777777777777778,
             "#fb9f3a"
            ],
            [
             0.8888888888888888,
             "#fdca26"
            ],
            [
             1,
             "#f0f921"
            ]
           ]
          },
          "colorway": [
           "#636efa",
           "#EF553B",
           "#00cc96",
           "#ab63fa",
           "#FFA15A",
           "#19d3f3",
           "#FF6692",
           "#B6E880",
           "#FF97FF",
           "#FECB52"
          ],
          "font": {
           "color": "#2a3f5f"
          },
          "geo": {
           "bgcolor": "white",
           "lakecolor": "white",
           "landcolor": "#E5ECF6",
           "showlakes": true,
           "showland": true,
           "subunitcolor": "white"
          },
          "hoverlabel": {
           "align": "left"
          },
          "hovermode": "closest",
          "mapbox": {
           "style": "light"
          },
          "paper_bgcolor": "white",
          "plot_bgcolor": "#E5ECF6",
          "polar": {
           "angularaxis": {
            "gridcolor": "white",
            "linecolor": "white",
            "ticks": ""
           },
           "bgcolor": "#E5ECF6",
           "radialaxis": {
            "gridcolor": "white",
            "linecolor": "white",
            "ticks": ""
           }
          },
          "scene": {
           "xaxis": {
            "backgroundcolor": "#E5ECF6",
            "gridcolor": "white",
            "gridwidth": 2,
            "linecolor": "white",
            "showbackground": true,
            "ticks": "",
            "zerolinecolor": "white"
           },
           "yaxis": {
            "backgroundcolor": "#E5ECF6",
            "gridcolor": "white",
            "gridwidth": 2,
            "linecolor": "white",
            "showbackground": true,
            "ticks": "",
            "zerolinecolor": "white"
           },
           "zaxis": {
            "backgroundcolor": "#E5ECF6",
            "gridcolor": "white",
            "gridwidth": 2,
            "linecolor": "white",
            "showbackground": true,
            "ticks": "",
            "zerolinecolor": "white"
           }
          },
          "shapedefaults": {
           "line": {
            "color": "#2a3f5f"
           }
          },
          "ternary": {
           "aaxis": {
            "gridcolor": "white",
            "linecolor": "white",
            "ticks": ""
           },
           "baxis": {
            "gridcolor": "white",
            "linecolor": "white",
            "ticks": ""
           },
           "bgcolor": "#E5ECF6",
           "caxis": {
            "gridcolor": "white",
            "linecolor": "white",
            "ticks": ""
           }
          },
          "title": {
           "x": 0.05
          },
          "xaxis": {
           "automargin": true,
           "gridcolor": "white",
           "linecolor": "white",
           "ticks": "",
           "title": {
            "standoff": 15
           },
           "zerolinecolor": "white",
           "zerolinewidth": 2
          },
          "yaxis": {
           "automargin": true,
           "gridcolor": "white",
           "linecolor": "white",
           "ticks": "",
           "title": {
            "standoff": 15
           },
           "zerolinecolor": "white",
           "zerolinewidth": 2
          }
         }
        },
        "title": {
         "text": "Final magnetization"
        },
        "xaxis": {
         "anchor": "y",
         "domain": [
          0,
          1
         ],
         "title": {
          "text": "Position (mm)"
         }
        },
        "yaxis": {
         "anchor": "x",
         "domain": [
          0,
          1
         ],
         "title": {
          "text": "Transverse magn."
         }
        }
       }
      }
     },
     "metadata": {},
     "output_type": "display_data"
    }
   ],
   "source": [
    "isoList_ref=propagation.generate_isoList(population_list, geometry_parameters, global_parameters)\n",
    "isoList_ref=propagation.propagate_par(initial_control_fields,isoList_ref,global_parameters)\n",
    "df=Analysis.plot_final_magn(isoList_ref)"
   ]
  },
  {
   "cell_type": "markdown",
   "metadata": {},
   "source": [
    "# Set-up optimization parameters"
   ]
  },
  {
   "cell_type": "code",
   "execution_count": 33,
   "metadata": {},
   "outputs": [],
   "source": [
    "# Set up the cost parameters\n",
    "cost_parameters = config.Cost(\n",
    "    application = global_parameters.application,\n",
    "    cost_function='min_max_amplitude',#'min_max_amplitude',#'min_energy',\n",
    ")\n",
    "sol_folder='paper_solutions_TBP_'+str(TBP) #Folder to be used to save the solutions.\n",
    "\n",
    "# Set up the algorithm & output parameters\n",
    "algo_parameters = config.Algo(\n",
    "    gradient_tolerance=1e-6,\n",
    "    max_iter=2000,\n",
    "    tolerance =1e-6,\n",
    "    method='IPOPT',#'trust-constr'#'SLSQP'#'trust-constr'#,\n",
    "    sol_folder=sol_folder\n",
    ")\n",
    "\n",
    "# Constraints\n",
    "constraints = {\n",
    "    'Mxy_inSlice_lb': {\n",
    "         'isoList_comp':isoList_ref\n",
    "       },  \n",
    "    'Mxy_outSlice_ub':{\n",
    "         'bound':0.02#*np.ones(geometry_parameters.nb_stopBand//2)              \n",
    "    },\n",
    "}\n",
    "\n",
    "# Regroup all parameters\n",
    "optim_parameters = {}\n",
    "optim_parameters['global']      = global_parameters\n",
    "optim_parameters['cost']        = cost_parameters\n",
    "optim_parameters['geometry']    = geometry_parameters\n",
    "optim_parameters['algo']        = algo_parameters\n",
    "optim_parameters['constraints'] = constraints"
   ]
  },
  {
   "cell_type": "markdown",
   "metadata": {},
   "source": [
    "# Run Optimization"
   ]
  },
  {
   "cell_type": "code",
   "execution_count": 34,
   "metadata": {
    "scrolled": true
   },
   "outputs": [
    {
     "name": "stdout",
     "output_type": "stream",
     "text": [
      "Mxy_inSlice_lb: bounds are set by isoList_comp, any other bounds will be overwritten.\n",
      "max amplitude = 17.89399 (uT)\n",
      "max amplitude = 17.89399 (uT)\n",
      "max amplitude = 16.67602 (uT)\n",
      "max amplitude = 15.82707 (uT)\n",
      "max amplitude = 14.57086 (uT)\n",
      "max amplitude = 14.25502 (uT)\n",
      "max amplitude = 14.27414 (uT)\n",
      "max amplitude = 14.98823 (uT)\n",
      "max amplitude = 14.90916 (uT)\n",
      "max amplitude = 14.64020 (uT)\n",
      "max amplitude = 14.80180 (uT)\n",
      "max amplitude = 14.52321 (uT)\n",
      "max amplitude = 14.53021 (uT)\n",
      "max amplitude = 14.41006 (uT)\n",
      "max amplitude = 14.37470 (uT)\n",
      "max amplitude = 14.39413 (uT)\n",
      "max amplitude = 14.41360 (uT)\n",
      "max amplitude = 14.45374 (uT)\n",
      "max amplitude = 14.41399 (uT)\n",
      "max amplitude = 14.39126 (uT)\n",
      "max amplitude = 14.38534 (uT)\n",
      "max amplitude = 14.38136 (uT)\n",
      "max amplitude = 14.38075 (uT)\n",
      "max amplitude = 14.38143 (uT)\n",
      "max amplitude = 14.38098 (uT)\n",
      "max amplitude = 14.38095 (uT)\n",
      "max amplitude = 14.38094 (uT)\n",
      "max amplitude = 14.38094 (uT)\n",
      "max amplitude = 14.38094 (uT)\n",
      "max amplitude = 14.38094 (uT)\n"
     ]
    },
    {
     "data": {
      "application/vnd.plotly.v1+json": {
       "config": {
        "plotlyServerURL": "https://plot.ly"
       },
       "data": [
        {
         "hovertemplate": "x=%{x}<br>y=%{y}<extra></extra>",
         "legendgroup": "",
         "line": {
          "color": "#636efa",
          "dash": "solid"
         },
         "marker": {
          "symbol": "circle"
         },
         "mode": "lines",
         "name": "",
         "orientation": "v",
         "showlegend": false,
         "type": "scatter",
         "x": [
          0,
          0.025,
          0.05,
          0.075,
          0.1,
          0.125,
          0.15,
          0.175,
          0.2,
          0.225,
          0.25,
          0.275,
          0.3,
          0.325,
          0.35,
          0.375,
          0.4,
          0.425,
          0.45,
          0.475,
          0.5,
          0.6,
          0.6129886735,
          0.6262585231,
          0.6398156356,
          0.6536662295,
          0.6678166583,
          0.6822734125,
          0.6970431235,
          0.7121325661,
          0.7275486617,
          0.7432984818,
          0.7593892506,
          0.775828349,
          0.7926233175,
          0.80978186,
          0.827311847,
          0.8452213194,
          0.8635184924,
          0.8822117586,
          0.9013096928,
          0.920821055,
          0.9407547951,
          0.9611200565,
          0.9819261809,
          1.0031827118,
          1.0248993997,
          1.0470862058,
          1.0697533073,
          1.0929111013,
          1.1165702104,
          1.1407414869,
          1.1654360182,
          1.1906651314,
          1.2164403991,
          1.2427736444,
          1.2696769463,
          1.2971626451,
          1.3252433486,
          1.3539319372,
          1.3832415703,
          1.4131856922,
          1.4437780382,
          1.4750326407,
          1.5069638364,
          1.5395862718,
          1.5729149108,
          1.6069650412,
          1.6417522816,
          1.6772925889,
          1.7136022653,
          1.7506979658,
          1.7885967063,
          1.8273158707,
          1.8668732194,
          1.9072868973,
          1.948575442,
          1.9907577923,
          2.0338532973,
          2.0778817247,
          2.1228632702,
          2.1688185667,
          2.2157686938,
          2.2637351874,
          2.3127400494,
          2.3628057584,
          2.4139552794,
          2.4662120743,
          2.5196001134,
          2.5741438854,
          2.6298684096,
          2.6867992465,
          2.7449625101,
          2.8043848798,
          2.8650936125,
          2.9271165549,
          2.990482157,
          3.0552194843,
          3.1213582316,
          3.1889287365,
          3.2579619935,
          3.3284896679,
          3.4005441105,
          3.4741583724,
          3.5493662205,
          3.6262021521,
          3.7047014118,
          3.7849000069,
          3.8668347243,
          3.9505431472,
          4.0360636724,
          4.1234355278,
          4.2126987908,
          4.3038944061,
          4.3970642048,
          4.4922509237,
          4.5894982247,
          4.6888507146,
          4.7903539664,
          4.8940545391,
          5
         ],
         "xaxis": "x",
         "y": [
          0.8270046517060904,
          0.8255554731300121,
          0.8246210063121091,
          0.8241217429406574,
          0.8210895786478246,
          0.8183333590929907,
          0.8151505180714622,
          0.810186196389643,
          0.8053087849531932,
          0.798344489792573,
          0.7898940630671583,
          0.7809685120274934,
          0.7676861482096754,
          0.7527832649740553,
          0.7356240413886165,
          0.7086948238540094,
          0.6767372289449937,
          0.6355512754831735,
          0.5668752940585371,
          0.4901023196931374,
          0.4298769656107095,
          0.020000002907846356,
          0.020000002755911274,
          0.020000002565782386,
          0.01975848743429526,
          0.020000002549834493,
          0.01941286559270861,
          0.019064702287308954,
          0.020000002551647175,
          0.020000002536870645,
          0.018104486862878383,
          0.01775312248209897,
          0.02000000254555789,
          0.02000000258408084,
          0.016633719669699544,
          0.016334893888570776,
          0.020000002491291094,
          0.020000002714758467,
          0.016838851122011004,
          0.01809502697312,
          0.02000001104720455,
          0.0167144242225405,
          0.015951262501079828,
          0.020000005416007435,
          0.01820057996200022,
          0.01534605997669345,
          0.020000006924307413,
          0.019827623923238148,
          0.016432682414755515,
          0.020000005692509874,
          0.01974078226738177,
          0.01759865983241138,
          0.020000004425939494,
          0.018141811641421115,
          0.01870348695504951,
          0.01921956723299452,
          0.017096363235456533,
          0.01945084819190966,
          0.017149126842473904,
          0.0185648161355295,
          0.017407879068838176,
          0.01701272670454636,
          0.017480202707729067,
          0.01577288564611467,
          0.017134940589322686,
          0.014827989924818341,
          0.016341287145733772,
          0.014238831699758652,
          0.01587779779034035,
          0.01429359643765772,
          0.014858266371234087,
          0.014505145519100449,
          0.013429025608971683,
          0.014757754340773815,
          0.012382585364243323,
          0.014042048710015902,
          0.012951967431766607,
          0.0120245149668193,
          0.013504857583663868,
          0.011840054238436355,
          0.011436058919542632,
          0.012708192779951716,
          0.011557078501643572,
          0.010406928420735515,
          0.01140390209801679,
          0.011727003783602327,
          0.010517167307208777,
          0.009585550406057722,
          0.009995878240014114,
          0.010647772226903536,
          0.010605506589946476,
          0.009905166339485131,
          0.009123008154483676,
          0.008562494183731739,
          0.008306974593144556,
          0.008243046029546572,
          0.00822903127444714,
          0.008169335551096984,
          0.008036973991505082,
          0.007821973589572312,
          0.007541576142264662,
          0.007246742183299834,
          0.0070420678040937455,
          0.007069626353753465,
          0.007367308526346475,
          0.007687994523051282,
          0.007573372964313077,
          0.006827724593443937,
          0.006209794530403323,
          0.006692317877132607,
          0.006998544812934664,
          0.006041167365353035,
          0.006066725442436587,
          0.0065533370099888555,
          0.0054887692345193485,
          0.00621207540416552,
          0.005460538576558992,
          0.005849163653969695,
          0.005204657719362835,
          0.0057483851375110286,
          0.004821107081286188
         ],
         "yaxis": "y"
        }
       ],
       "layout": {
        "legend": {
         "tracegroupgap": 0
        },
        "margin": {
         "t": 60
        },
        "template": {
         "data": {
          "bar": [
           {
            "error_x": {
             "color": "#2a3f5f"
            },
            "error_y": {
             "color": "#2a3f5f"
            },
            "marker": {
             "line": {
              "color": "#E5ECF6",
              "width": 0.5
             },
             "pattern": {
              "fillmode": "overlay",
              "size": 10,
              "solidity": 0.2
             }
            },
            "type": "bar"
           }
          ],
          "barpolar": [
           {
            "marker": {
             "line": {
              "color": "#E5ECF6",
              "width": 0.5
             },
             "pattern": {
              "fillmode": "overlay",
              "size": 10,
              "solidity": 0.2
             }
            },
            "type": "barpolar"
           }
          ],
          "carpet": [
           {
            "aaxis": {
             "endlinecolor": "#2a3f5f",
             "gridcolor": "white",
             "linecolor": "white",
             "minorgridcolor": "white",
             "startlinecolor": "#2a3f5f"
            },
            "baxis": {
             "endlinecolor": "#2a3f5f",
             "gridcolor": "white",
             "linecolor": "white",
             "minorgridcolor": "white",
             "startlinecolor": "#2a3f5f"
            },
            "type": "carpet"
           }
          ],
          "choropleth": [
           {
            "colorbar": {
             "outlinewidth": 0,
             "ticks": ""
            },
            "type": "choropleth"
           }
          ],
          "contour": [
           {
            "colorbar": {
             "outlinewidth": 0,
             "ticks": ""
            },
            "colorscale": [
             [
              0,
              "#0d0887"
             ],
             [
              0.1111111111111111,
              "#46039f"
             ],
             [
              0.2222222222222222,
              "#7201a8"
             ],
             [
              0.3333333333333333,
              "#9c179e"
             ],
             [
              0.4444444444444444,
              "#bd3786"
             ],
             [
              0.5555555555555556,
              "#d8576b"
             ],
             [
              0.6666666666666666,
              "#ed7953"
             ],
             [
              0.7777777777777778,
              "#fb9f3a"
             ],
             [
              0.8888888888888888,
              "#fdca26"
             ],
             [
              1,
              "#f0f921"
             ]
            ],
            "type": "contour"
           }
          ],
          "contourcarpet": [
           {
            "colorbar": {
             "outlinewidth": 0,
             "ticks": ""
            },
            "type": "contourcarpet"
           }
          ],
          "heatmap": [
           {
            "colorbar": {
             "outlinewidth": 0,
             "ticks": ""
            },
            "colorscale": [
             [
              0,
              "#0d0887"
             ],
             [
              0.1111111111111111,
              "#46039f"
             ],
             [
              0.2222222222222222,
              "#7201a8"
             ],
             [
              0.3333333333333333,
              "#9c179e"
             ],
             [
              0.4444444444444444,
              "#bd3786"
             ],
             [
              0.5555555555555556,
              "#d8576b"
             ],
             [
              0.6666666666666666,
              "#ed7953"
             ],
             [
              0.7777777777777778,
              "#fb9f3a"
             ],
             [
              0.8888888888888888,
              "#fdca26"
             ],
             [
              1,
              "#f0f921"
             ]
            ],
            "type": "heatmap"
           }
          ],
          "heatmapgl": [
           {
            "colorbar": {
             "outlinewidth": 0,
             "ticks": ""
            },
            "colorscale": [
             [
              0,
              "#0d0887"
             ],
             [
              0.1111111111111111,
              "#46039f"
             ],
             [
              0.2222222222222222,
              "#7201a8"
             ],
             [
              0.3333333333333333,
              "#9c179e"
             ],
             [
              0.4444444444444444,
              "#bd3786"
             ],
             [
              0.5555555555555556,
              "#d8576b"
             ],
             [
              0.6666666666666666,
              "#ed7953"
             ],
             [
              0.7777777777777778,
              "#fb9f3a"
             ],
             [
              0.8888888888888888,
              "#fdca26"
             ],
             [
              1,
              "#f0f921"
             ]
            ],
            "type": "heatmapgl"
           }
          ],
          "histogram": [
           {
            "marker": {
             "pattern": {
              "fillmode": "overlay",
              "size": 10,
              "solidity": 0.2
             }
            },
            "type": "histogram"
           }
          ],
          "histogram2d": [
           {
            "colorbar": {
             "outlinewidth": 0,
             "ticks": ""
            },
            "colorscale": [
             [
              0,
              "#0d0887"
             ],
             [
              0.1111111111111111,
              "#46039f"
             ],
             [
              0.2222222222222222,
              "#7201a8"
             ],
             [
              0.3333333333333333,
              "#9c179e"
             ],
             [
              0.4444444444444444,
              "#bd3786"
             ],
             [
              0.5555555555555556,
              "#d8576b"
             ],
             [
              0.6666666666666666,
              "#ed7953"
             ],
             [
              0.7777777777777778,
              "#fb9f3a"
             ],
             [
              0.8888888888888888,
              "#fdca26"
             ],
             [
              1,
              "#f0f921"
             ]
            ],
            "type": "histogram2d"
           }
          ],
          "histogram2dcontour": [
           {
            "colorbar": {
             "outlinewidth": 0,
             "ticks": ""
            },
            "colorscale": [
             [
              0,
              "#0d0887"
             ],
             [
              0.1111111111111111,
              "#46039f"
             ],
             [
              0.2222222222222222,
              "#7201a8"
             ],
             [
              0.3333333333333333,
              "#9c179e"
             ],
             [
              0.4444444444444444,
              "#bd3786"
             ],
             [
              0.5555555555555556,
              "#d8576b"
             ],
             [
              0.6666666666666666,
              "#ed7953"
             ],
             [
              0.7777777777777778,
              "#fb9f3a"
             ],
             [
              0.8888888888888888,
              "#fdca26"
             ],
             [
              1,
              "#f0f921"
             ]
            ],
            "type": "histogram2dcontour"
           }
          ],
          "mesh3d": [
           {
            "colorbar": {
             "outlinewidth": 0,
             "ticks": ""
            },
            "type": "mesh3d"
           }
          ],
          "parcoords": [
           {
            "line": {
             "colorbar": {
              "outlinewidth": 0,
              "ticks": ""
             }
            },
            "type": "parcoords"
           }
          ],
          "pie": [
           {
            "automargin": true,
            "type": "pie"
           }
          ],
          "scatter": [
           {
            "fillpattern": {
             "fillmode": "overlay",
             "size": 10,
             "solidity": 0.2
            },
            "type": "scatter"
           }
          ],
          "scatter3d": [
           {
            "line": {
             "colorbar": {
              "outlinewidth": 0,
              "ticks": ""
             }
            },
            "marker": {
             "colorbar": {
              "outlinewidth": 0,
              "ticks": ""
             }
            },
            "type": "scatter3d"
           }
          ],
          "scattercarpet": [
           {
            "marker": {
             "colorbar": {
              "outlinewidth": 0,
              "ticks": ""
             }
            },
            "type": "scattercarpet"
           }
          ],
          "scattergeo": [
           {
            "marker": {
             "colorbar": {
              "outlinewidth": 0,
              "ticks": ""
             }
            },
            "type": "scattergeo"
           }
          ],
          "scattergl": [
           {
            "marker": {
             "colorbar": {
              "outlinewidth": 0,
              "ticks": ""
             }
            },
            "type": "scattergl"
           }
          ],
          "scattermapbox": [
           {
            "marker": {
             "colorbar": {
              "outlinewidth": 0,
              "ticks": ""
             }
            },
            "type": "scattermapbox"
           }
          ],
          "scatterpolar": [
           {
            "marker": {
             "colorbar": {
              "outlinewidth": 0,
              "ticks": ""
             }
            },
            "type": "scatterpolar"
           }
          ],
          "scatterpolargl": [
           {
            "marker": {
             "colorbar": {
              "outlinewidth": 0,
              "ticks": ""
             }
            },
            "type": "scatterpolargl"
           }
          ],
          "scatterternary": [
           {
            "marker": {
             "colorbar": {
              "outlinewidth": 0,
              "ticks": ""
             }
            },
            "type": "scatterternary"
           }
          ],
          "surface": [
           {
            "colorbar": {
             "outlinewidth": 0,
             "ticks": ""
            },
            "colorscale": [
             [
              0,
              "#0d0887"
             ],
             [
              0.1111111111111111,
              "#46039f"
             ],
             [
              0.2222222222222222,
              "#7201a8"
             ],
             [
              0.3333333333333333,
              "#9c179e"
             ],
             [
              0.4444444444444444,
              "#bd3786"
             ],
             [
              0.5555555555555556,
              "#d8576b"
             ],
             [
              0.6666666666666666,
              "#ed7953"
             ],
             [
              0.7777777777777778,
              "#fb9f3a"
             ],
             [
              0.8888888888888888,
              "#fdca26"
             ],
             [
              1,
              "#f0f921"
             ]
            ],
            "type": "surface"
           }
          ],
          "table": [
           {
            "cells": {
             "fill": {
              "color": "#EBF0F8"
             },
             "line": {
              "color": "white"
             }
            },
            "header": {
             "fill": {
              "color": "#C8D4E3"
             },
             "line": {
              "color": "white"
             }
            },
            "type": "table"
           }
          ]
         },
         "layout": {
          "annotationdefaults": {
           "arrowcolor": "#2a3f5f",
           "arrowhead": 0,
           "arrowwidth": 1
          },
          "autotypenumbers": "strict",
          "coloraxis": {
           "colorbar": {
            "outlinewidth": 0,
            "ticks": ""
           }
          },
          "colorscale": {
           "diverging": [
            [
             0,
             "#8e0152"
            ],
            [
             0.1,
             "#c51b7d"
            ],
            [
             0.2,
             "#de77ae"
            ],
            [
             0.3,
             "#f1b6da"
            ],
            [
             0.4,
             "#fde0ef"
            ],
            [
             0.5,
             "#f7f7f7"
            ],
            [
             0.6,
             "#e6f5d0"
            ],
            [
             0.7,
             "#b8e186"
            ],
            [
             0.8,
             "#7fbc41"
            ],
            [
             0.9,
             "#4d9221"
            ],
            [
             1,
             "#276419"
            ]
           ],
           "sequential": [
            [
             0,
             "#0d0887"
            ],
            [
             0.1111111111111111,
             "#46039f"
            ],
            [
             0.2222222222222222,
             "#7201a8"
            ],
            [
             0.3333333333333333,
             "#9c179e"
            ],
            [
             0.4444444444444444,
             "#bd3786"
            ],
            [
             0.5555555555555556,
             "#d8576b"
            ],
            [
             0.6666666666666666,
             "#ed7953"
            ],
            [
             0.7777777777777778,
             "#fb9f3a"
            ],
            [
             0.8888888888888888,
             "#fdca26"
            ],
            [
             1,
             "#f0f921"
            ]
           ],
           "sequentialminus": [
            [
             0,
             "#0d0887"
            ],
            [
             0.1111111111111111,
             "#46039f"
            ],
            [
             0.2222222222222222,
             "#7201a8"
            ],
            [
             0.3333333333333333,
             "#9c179e"
            ],
            [
             0.4444444444444444,
             "#bd3786"
            ],
            [
             0.5555555555555556,
             "#d8576b"
            ],
            [
             0.6666666666666666,
             "#ed7953"
            ],
            [
             0.7777777777777778,
             "#fb9f3a"
            ],
            [
             0.8888888888888888,
             "#fdca26"
            ],
            [
             1,
             "#f0f921"
            ]
           ]
          },
          "colorway": [
           "#636efa",
           "#EF553B",
           "#00cc96",
           "#ab63fa",
           "#FFA15A",
           "#19d3f3",
           "#FF6692",
           "#B6E880",
           "#FF97FF",
           "#FECB52"
          ],
          "font": {
           "color": "#2a3f5f"
          },
          "geo": {
           "bgcolor": "white",
           "lakecolor": "white",
           "landcolor": "#E5ECF6",
           "showlakes": true,
           "showland": true,
           "subunitcolor": "white"
          },
          "hoverlabel": {
           "align": "left"
          },
          "hovermode": "closest",
          "mapbox": {
           "style": "light"
          },
          "paper_bgcolor": "white",
          "plot_bgcolor": "#E5ECF6",
          "polar": {
           "angularaxis": {
            "gridcolor": "white",
            "linecolor": "white",
            "ticks": ""
           },
           "bgcolor": "#E5ECF6",
           "radialaxis": {
            "gridcolor": "white",
            "linecolor": "white",
            "ticks": ""
           }
          },
          "scene": {
           "xaxis": {
            "backgroundcolor": "#E5ECF6",
            "gridcolor": "white",
            "gridwidth": 2,
            "linecolor": "white",
            "showbackground": true,
            "ticks": "",
            "zerolinecolor": "white"
           },
           "yaxis": {
            "backgroundcolor": "#E5ECF6",
            "gridcolor": "white",
            "gridwidth": 2,
            "linecolor": "white",
            "showbackground": true,
            "ticks": "",
            "zerolinecolor": "white"
           },
           "zaxis": {
            "backgroundcolor": "#E5ECF6",
            "gridcolor": "white",
            "gridwidth": 2,
            "linecolor": "white",
            "showbackground": true,
            "ticks": "",
            "zerolinecolor": "white"
           }
          },
          "shapedefaults": {
           "line": {
            "color": "#2a3f5f"
           }
          },
          "ternary": {
           "aaxis": {
            "gridcolor": "white",
            "linecolor": "white",
            "ticks": ""
           },
           "baxis": {
            "gridcolor": "white",
            "linecolor": "white",
            "ticks": ""
           },
           "bgcolor": "#E5ECF6",
           "caxis": {
            "gridcolor": "white",
            "linecolor": "white",
            "ticks": ""
           }
          },
          "title": {
           "x": 0.05
          },
          "xaxis": {
           "automargin": true,
           "gridcolor": "white",
           "linecolor": "white",
           "ticks": "",
           "title": {
            "standoff": 15
           },
           "zerolinecolor": "white",
           "zerolinewidth": 2
          },
          "yaxis": {
           "automargin": true,
           "gridcolor": "white",
           "linecolor": "white",
           "ticks": "",
           "title": {
            "standoff": 15
           },
           "zerolinecolor": "white",
           "zerolinewidth": 2
          }
         }
        },
        "xaxis": {
         "anchor": "y",
         "domain": [
          0,
          1
         ],
         "title": {
          "text": "x"
         }
        },
        "yaxis": {
         "anchor": "x",
         "domain": [
          0,
          1
         ],
         "title": {
          "text": "y"
         }
        }
       }
      }
     },
     "metadata": {},
     "output_type": "display_data"
    }
   ],
   "source": [
    "oc = COPT.OC(optim_parameters=optim_parameters, population_list=population_list, control_fields=initial_control_fields)\n",
    "optimized_control_fields = oc.run_optimization(control_fields=initial_control_fields)\n",
    "\n",
    "\n",
    "t, rf_oc = optimized_control_fields['w1x'].plot_tempControl(plot=False)\n",
    "df_oc= Analysis.plot_final_magn(isoList=oc.isoList,plot=False)\n",
    "fig_m = px.line(x=df_oc['Position (mm)'], y=df_oc['Transverse magn.'])\n",
    "fig_m.show()"
   ]
  },
  {
   "cell_type": "markdown",
   "metadata": {},
   "source": []
  },
  {
   "cell_type": "markdown",
   "metadata": {},
   "source": [
    "# Analysis"
   ]
  },
  {
   "cell_type": "code",
   "execution_count": 35,
   "metadata": {},
   "outputs": [
    {
     "data": {
      "application/vnd.plotly.v1+json": {
       "config": {
        "plotlyServerURL": "https://plot.ly"
       },
       "data": [
        {
         "hovertemplate": "variable=wide_variable_0<br>Time (ms)=%{x}<br>value=%{y}<extra></extra>",
         "legendgroup": "wide_variable_0",
         "line": {
          "color": "#636efa",
          "dash": "solid"
         },
         "marker": {
          "symbol": "circle"
         },
         "mode": "lines",
         "name": "wide_variable_0",
         "orientation": "v",
         "showlegend": true,
         "type": "scatter",
         "x": [
          0,
          0.00001953125,
          0.0000390625,
          0.00005859375,
          0.000078125,
          0.00009765625,
          0.0001171875,
          0.00013671875,
          0.00015625,
          0.00017578125,
          0.0001953125,
          0.00021484375,
          0.000234375,
          0.00025390625,
          0.0002734375,
          0.00029296875,
          0.0003125,
          0.00033203125,
          0.0003515625,
          0.00037109375,
          0.000390625,
          0.00041015625,
          0.0004296875,
          0.00044921875,
          0.00046875,
          0.00048828125,
          0.0005078125,
          0.00052734375,
          0.000546875,
          0.00056640625,
          0.0005859375,
          0.00060546875,
          0.000625,
          0.00064453125,
          0.0006640625,
          0.0006835937500000001,
          0.000703125,
          0.00072265625,
          0.0007421875,
          0.00076171875,
          0.00078125,
          0.0008007812500000001,
          0.0008203125,
          0.00083984375,
          0.000859375,
          0.00087890625,
          0.0008984375,
          0.0009179687500000001,
          0.0009375,
          0.00095703125,
          0.0009765625,
          0.00099609375,
          0.001015625,
          0.00103515625,
          0.0010546875,
          0.00107421875,
          0.00109375,
          0.0011132812500000001,
          0.0011328125,
          0.00115234375,
          0.001171875,
          0.00119140625,
          0.0012109375,
          0.00123046875,
          0.00125,
          0.00126953125,
          0.0012890625,
          0.00130859375,
          0.001328125,
          0.0013476562500000001,
          0.0013671875000000001,
          0.00138671875,
          0.00140625,
          0.00142578125,
          0.0014453125,
          0.00146484375,
          0.001484375,
          0.00150390625,
          0.0015234375,
          0.00154296875,
          0.0015625,
          0.00158203125,
          0.0016015625000000001,
          0.0016210937500000001,
          0.001640625,
          0.00166015625,
          0.0016796875,
          0.00169921875,
          0.00171875,
          0.00173828125,
          0.0017578125,
          0.00177734375,
          0.001796875,
          0.00181640625,
          0.0018359375000000001,
          0.0018554687500000001,
          0.001875,
          0.00189453125,
          0.0019140625,
          0.00193359375,
          0.001953125,
          0.00197265625,
          0.0019921875,
          0.00201171875,
          0.00203125,
          0.00205078125,
          0.0020703125,
          0.00208984375,
          0.002109375,
          0.00212890625,
          0.0021484375,
          0.00216796875,
          0.0021875,
          0.0022070312500000002,
          0.0022265625000000002,
          0.0022460937500000003,
          0.002265625,
          0.00228515625,
          0.0023046875,
          0.00232421875,
          0.00234375,
          0.00236328125,
          0.0023828125,
          0.00240234375,
          0.002421875,
          0.00244140625,
          0.0024609375,
          0.00248046875,
          0.0025,
          0.00251953125,
          0.0025390625,
          0.00255859375,
          0.002578125,
          0.00259765625,
          0.0026171875,
          0.00263671875,
          0.00265625,
          0.00267578125,
          0.0026953125000000002,
          0.0027148437500000002,
          0.0027343750000000003,
          0.00275390625,
          0.0027734375,
          0.00279296875,
          0.0028125,
          0.00283203125,
          0.0028515625,
          0.00287109375,
          0.002890625,
          0.00291015625,
          0.0029296875,
          0.00294921875,
          0.00296875,
          0.00298828125,
          0.0030078125,
          0.00302734375,
          0.003046875,
          0.00306640625,
          0.0030859375,
          0.00310546875,
          0.003125,
          0.00314453125,
          0.0031640625,
          0.0031835937500000002,
          0.0032031250000000002,
          0.0032226562500000003,
          0.0032421875000000003,
          0.00326171875,
          0.00328125,
          0.00330078125,
          0.0033203125,
          0.00333984375,
          0.003359375,
          0.00337890625,
          0.0033984375,
          0.00341796875,
          0.0034375,
          0.00345703125,
          0.0034765625,
          0.00349609375,
          0.003515625,
          0.00353515625,
          0.0035546875,
          0.00357421875,
          0.00359375,
          0.00361328125,
          0.0036328125,
          0.00365234375,
          0.0036718750000000002,
          0.0036914062500000002,
          0.0037109375000000003,
          0.0037304687500000003,
          0.00375,
          0.00376953125,
          0.0037890625,
          0.00380859375,
          0.003828125,
          0.00384765625,
          0.0038671875,
          0.00388671875,
          0.00390625,
          0.0039257812500000005,
          0.0039453125,
          0.0039648437500000005,
          0.003984375,
          0.00400390625,
          0.0040234375,
          0.00404296875,
          0.0040625,
          0.00408203125,
          0.0041015625,
          0.00412109375,
          0.004140625,
          0.00416015625,
          0.0041796875,
          0.00419921875,
          0.00421875,
          0.00423828125,
          0.0042578125,
          0.00427734375,
          0.004296875,
          0.00431640625,
          0.0043359375,
          0.00435546875,
          0.004375,
          0.00439453125,
          0.0044140625000000005,
          0.00443359375,
          0.0044531250000000005,
          0.00447265625,
          0.0044921875000000005,
          0.00451171875,
          0.00453125,
          0.00455078125,
          0.0045703125,
          0.00458984375,
          0.004609375,
          0.00462890625,
          0.0046484375,
          0.00466796875,
          0.0046875,
          0.00470703125,
          0.0047265625,
          0.00474609375,
          0.004765625,
          0.00478515625,
          0.0048046875,
          0.00482421875,
          0.00484375,
          0.00486328125,
          0.0048828125,
          0.0049023437500000005,
          0.004921875,
          0.0049414062500000005,
          0.0049609375,
          0.0049804687500000005
         ],
         "xaxis": "x",
         "y": [
          1.7000985787359317,
          1.4201236286640107,
          1.1956993901396051,
          1.0163205609541253,
          0.8709599157669369,
          0.748686698136072,
          0.6395502166128159,
          0.5354026691131917,
          0.4303869718395665,
          0.32122670813749554,
          0.20722222555907685,
          0.08988866861938913,
          -0.02753680061543722,
          -0.14081311420148487,
          -0.2457575127644861,
          -0.3391983818928613,
          -0.4194587304929113,
          -0.48640009742843265,
          -0.5409533158587675,
          -0.5843618391312831,
          -0.617696240397579,
          -0.6414905668644023,
          -0.6552035911210063,
          -0.6568900677214621,
          -0.6431697104866003,
          -0.6095831105947775,
          -0.5518263106346264,
          -0.46721155122498237,
          -0.35538136224568867,
          -0.21853471872942995,
          -0.06121755149917295,
          0.1102935670443447,
          0.2881445553344574,
          0.4630305922474154,
          0.6252616735352191,
          0.7659616730087451,
          0.877983312080494,
          0.9566566035958557,
          0.9994767367872606,
          1.0053068421418623,
          0.9744666063887502,
          0.9089440339359658,
          0.8122606983857191,
          0.6894390071386235,
          0.5463149315067595,
          0.3885329339868054,
          0.22155758454373578,
          0.05091687741062145,
          -0.11795185062204001,
          -0.27964528578958975,
          -0.4290613250594863,
          -0.5619399179101068,
          -0.6746273427502736,
          -0.7636804984789801,
          -0.8259537922267857,
          -0.8586201135743028,
          -0.8593960899038148,
          -0.8271155571106373,
          -0.7619288602165071,
          -0.6653374531756452,
          -0.5404102200025042,
          -0.3917378965415161,
          -0.22519870859861346,
          -0.0477769685941244,
          0.1327975131818385,
          0.3085311752991785,
          0.47161056527176043,
          0.6148945935292273,
          0.7323852577669702,
          0.8195022741013198,
          0.8731224080721601,
          0.8915313790041489,
          0.8744578164686698,
          0.8231240435515798,
          0.7402479093240055,
          0.6299662731340795,
          0.49749307343371313,
          0.3486535132149827,
          0.18961778903480914,
          0.02668621348639002,
          -0.13394839126810712,
          -0.28634480096108855,
          -0.42506176883262053,
          -0.545439220624983,
          -0.6436232403428263,
          -0.7165188446053689,
          -0.7617872238536197,
          -0.7777988895641357,
          -0.7637258471086656,
          -0.7197727987225538,
          -0.6473247589918973,
          -0.5490354114792181,
          -0.4288180634671118,
          -0.2916441636385503,
          -0.14328009006891435,
          0.009984661365959928,
          0.16162455740794146,
          0.30515993440479594,
          0.43452005514501135,
          0.5444220567787166,
          0.6306297057990448,
          0.6900854548531443,
          0.7208436291262733,
          0.7219172304309923,
          0.6933050665769156,
          0.6361045548336847,
          0.5525855521774763,
          0.4462403886124468,
          0.3216138964585926,
          0.18398194769898865,
          0.03917964968148736,
          -0.10656163956549483,
          -0.24685770023884984,
          -0.37539855591361104,
          -0.48634553921751456,
          -0.5747912687017646,
          -0.6369594318977854,
          -0.6702826741515031,
          -0.6734341056961041,
          -0.6462562396620646,
          -0.5898189181450413,
          -0.5065510625471804,
          -0.4001844453977152,
          -0.27560987981378043,
          -0.13864696433697957,
          0.004331152559798447,
          0.1466955719677729,
          0.28180545027545767,
          0.4033348382805526,
          0.5055693537936738,
          0.5837004446085734,
          0.634123697614467,
          0.6545622296057968,
          0.6440589952699971,
          0.6029248904372853,
          0.532631195621607,
          0.4357706888473505,
          0.31609447817967,
          0.17848997446134515,
          0.028887224066747905,
          -0.12596834833186454,
          -0.27888620674992576,
          -0.4225892430517426,
          -0.5500553056612973,
          -0.6548503770037768,
          -0.7314164646511552,
          -0.7754153805240395,
          -0.7840488936697925,
          -0.7561850256132264,
          -0.6923384799264174,
          -0.5944977780794771,
          -0.46586723649191286,
          -0.31076920972941713,
          -0.13464559781888438,
          0.05599478842594363,
          0.2536646678047739,
          0.45016602548265305,
          0.6370131062323328,
          0.8057514661823375,
          0.948257668160772,
          1.057092205408074,
          1.1258267945780946,
          1.1494973117503162,
          1.125066393079904,
          1.051594973976497,
          0.9302257999482421,
          0.7640341715917471,
          0.557759350503024,
          0.31770156871929317,
          0.05171586618770644,
          -0.2309561466673604,
          -0.5199257355917117,
          -0.8040226675034687,
          -1.0718097948136327,
          -1.3119568429782604,
          -1.5135643705430957,
          -1.6666193227679293,
          -1.7624506491481327,
          -1.7942562182028914,
          -1.7576398837426426,
          -1.650838564152282,
          -1.474731770621304,
          -1.2327753171841276,
          -0.9308180670058119,
          -0.5770014689642048,
          -0.18172287958173103,
          0.24260300600328022,
          0.6819065771034212,
          1.120926033669795,
          1.543818739455908,
          1.934689673790016,
          2.2780658471096986,
          2.5594781938666533,
          2.76603263158213,
          2.886988824271498,
          2.914312743627308,
          2.8429529382115146,
          2.67090034699487,
          2.399163345720199,
          2.0316561275142937,
          1.5751805839330904,
          1.039498330000653,
          0.43727437645295414,
          -0.21609267345323038,
          -0.9027980022142507,
          -1.6031481018171183,
          -2.2960561148569694,
          -2.959555385317769,
          -3.571444741520336,
          -4.1099900542512025,
          -4.554761930137752,
          -4.887497195580457,
          -5.092676925822004,
          -5.157882198232691,
          -5.073998206361815,
          -4.835285904155867,
          -4.439588158354187,
          -3.8885943119168096,
          -3.1878787853396813,
          -2.346800364364151,
          -1.378221707614056,
          -0.29803294269118047,
          0.8752033663726354,
          2.1205807337605815,
          3.415359350707078,
          4.73550594777755,
          6.056329717420068,
          7.353176007727557,
          8.601852109335924,
          9.778902051107782,
          10.861920525093877,
          11.829872533394216,
          12.66362985021939,
          13.346725671622686,
          13.866031867184901,
          14.212361661638228,
          14.380938558694773,
          14.371628790410895,
          14.189123171889134,
          13.842985762711555,
          13.347380274938795,
          12.72051665814613,
          11.98372099991298,
          11.160273652886382,
          10.27440666344415,
          9.3504254587047,
          8.41191117381543,
          7.481049666911143,
          6.577841955803575,
          5.7193514835454025,
          4.919366065103147,
          4.188276101191642,
          3.5330819421257638,
          2.95757876584385,
          2.4623913676741584,
          2.0449954538423754
         ],
         "yaxis": "y"
        },
        {
         "hovertemplate": "variable=wide_variable_1<br>Time (ms)=%{x}<br>value=%{y}<extra></extra>",
         "legendgroup": "wide_variable_1",
         "line": {
          "color": "#EF553B",
          "dash": "solid"
         },
         "marker": {
          "symbol": "circle"
         },
         "mode": "lines",
         "name": "wide_variable_1",
         "orientation": "v",
         "showlegend": true,
         "type": "scatter",
         "x": [
          0,
          0.00001953125,
          0.0000390625,
          0.00005859375,
          0.000078125,
          0.00009765625,
          0.0001171875,
          0.00013671875,
          0.00015625,
          0.00017578125,
          0.0001953125,
          0.00021484375,
          0.000234375,
          0.00025390625,
          0.0002734375,
          0.00029296875,
          0.0003125,
          0.00033203125,
          0.0003515625,
          0.00037109375,
          0.000390625,
          0.00041015625,
          0.0004296875,
          0.00044921875,
          0.00046875,
          0.00048828125,
          0.0005078125,
          0.00052734375,
          0.000546875,
          0.00056640625,
          0.0005859375,
          0.00060546875,
          0.000625,
          0.00064453125,
          0.0006640625,
          0.0006835937500000001,
          0.000703125,
          0.00072265625,
          0.0007421875,
          0.00076171875,
          0.00078125,
          0.0008007812500000001,
          0.0008203125,
          0.00083984375,
          0.000859375,
          0.00087890625,
          0.0008984375,
          0.0009179687500000001,
          0.0009375,
          0.00095703125,
          0.0009765625,
          0.00099609375,
          0.001015625,
          0.00103515625,
          0.0010546875,
          0.00107421875,
          0.00109375,
          0.0011132812500000001,
          0.0011328125,
          0.00115234375,
          0.001171875,
          0.00119140625,
          0.0012109375,
          0.00123046875,
          0.00125,
          0.00126953125,
          0.0012890625,
          0.00130859375,
          0.001328125,
          0.0013476562500000001,
          0.0013671875000000001,
          0.00138671875,
          0.00140625,
          0.00142578125,
          0.0014453125,
          0.00146484375,
          0.001484375,
          0.00150390625,
          0.0015234375,
          0.00154296875,
          0.0015625,
          0.00158203125,
          0.0016015625000000001,
          0.0016210937500000001,
          0.001640625,
          0.00166015625,
          0.0016796875,
          0.00169921875,
          0.00171875,
          0.00173828125,
          0.0017578125,
          0.00177734375,
          0.001796875,
          0.00181640625,
          0.0018359375000000001,
          0.0018554687500000001,
          0.001875,
          0.00189453125,
          0.0019140625,
          0.00193359375,
          0.001953125,
          0.00197265625,
          0.0019921875,
          0.00201171875,
          0.00203125,
          0.00205078125,
          0.0020703125,
          0.00208984375,
          0.002109375,
          0.00212890625,
          0.0021484375,
          0.00216796875,
          0.0021875,
          0.0022070312500000002,
          0.0022265625000000002,
          0.0022460937500000003,
          0.002265625,
          0.00228515625,
          0.0023046875,
          0.00232421875,
          0.00234375,
          0.00236328125,
          0.0023828125,
          0.00240234375,
          0.002421875,
          0.00244140625,
          0.0024609375,
          0.00248046875,
          0.0025,
          0.00251953125,
          0.0025390625,
          0.00255859375,
          0.002578125,
          0.00259765625,
          0.0026171875,
          0.00263671875,
          0.00265625,
          0.00267578125,
          0.0026953125000000002,
          0.0027148437500000002,
          0.0027343750000000003,
          0.00275390625,
          0.0027734375,
          0.00279296875,
          0.0028125,
          0.00283203125,
          0.0028515625,
          0.00287109375,
          0.002890625,
          0.00291015625,
          0.0029296875,
          0.00294921875,
          0.00296875,
          0.00298828125,
          0.0030078125,
          0.00302734375,
          0.003046875,
          0.00306640625,
          0.0030859375,
          0.00310546875,
          0.003125,
          0.00314453125,
          0.0031640625,
          0.0031835937500000002,
          0.0032031250000000002,
          0.0032226562500000003,
          0.0032421875000000003,
          0.00326171875,
          0.00328125,
          0.00330078125,
          0.0033203125,
          0.00333984375,
          0.003359375,
          0.00337890625,
          0.0033984375,
          0.00341796875,
          0.0034375,
          0.00345703125,
          0.0034765625,
          0.00349609375,
          0.003515625,
          0.00353515625,
          0.0035546875,
          0.00357421875,
          0.00359375,
          0.00361328125,
          0.0036328125,
          0.00365234375,
          0.0036718750000000002,
          0.0036914062500000002,
          0.0037109375000000003,
          0.0037304687500000003,
          0.00375,
          0.00376953125,
          0.0037890625,
          0.00380859375,
          0.003828125,
          0.00384765625,
          0.0038671875,
          0.00388671875,
          0.00390625,
          0.0039257812500000005,
          0.0039453125,
          0.0039648437500000005,
          0.003984375,
          0.00400390625,
          0.0040234375,
          0.00404296875,
          0.0040625,
          0.00408203125,
          0.0041015625,
          0.00412109375,
          0.004140625,
          0.00416015625,
          0.0041796875,
          0.00419921875,
          0.00421875,
          0.00423828125,
          0.0042578125,
          0.00427734375,
          0.004296875,
          0.00431640625,
          0.0043359375,
          0.00435546875,
          0.004375,
          0.00439453125,
          0.0044140625000000005,
          0.00443359375,
          0.0044531250000000005,
          0.00447265625,
          0.0044921875000000005,
          0.00451171875,
          0.00453125,
          0.00455078125,
          0.0045703125,
          0.00458984375,
          0.004609375,
          0.00462890625,
          0.0046484375,
          0.00466796875,
          0.0046875,
          0.00470703125,
          0.0047265625,
          0.00474609375,
          0.004765625,
          0.00478515625,
          0.0048046875,
          0.00482421875,
          0.00484375,
          0.00486328125,
          0.0048828125,
          0.0049023437500000005,
          0.004921875,
          0.0049414062500000005,
          0.0049609375,
          0.0049804687500000005
         ],
         "xaxis": "x",
         "y": [
          0.726072038891277,
          0.44535982217656483,
          0.25039910043229413,
          0.13030346142349936,
          0.07325565121277856,
          0.06715697940684269,
          0.09990873956555264,
          0.15963112805058371,
          0.23507104088675448,
          0.3159925614809297,
          0.39356321274290545,
          0.4607094378618979,
          0.5121092880819373,
          0.5440249025938092,
          0.5543485832533688,
          0.5426050784081713,
          0.5098217430202643,
          0.45840223783894146,
          0.39175361134440806,
          0.31378195939940084,
          0.22863429845918307,
          0.14047895165040847,
          0.05320800030186094,
          -0.02976166948134046,
          -0.10573799770324814,
          -0.1730240004259397,
          -0.23092388143643836,
          -0.2795815228557951,
          -0.319732797424754,
          -0.35226947866288344,
          -0.3777761202696794,
          -0.39619726973343083,
          -0.4066503775292126,
          -0.4074761415718367,
          -0.39652495011710537,
          -0.371555139336617,
          -0.33064775187821627,
          -0.2726482417163499,
          -0.19766201683717488,
          -0.10742959741522258,
          -0.005419306147394997,
          0.10342463399671432,
          0.21337992811360723,
          0.31879213585684163,
          0.4145834061588516,
          0.4965116006925412,
          0.5613093493523995,
          0.6066681793919041,
          0.6313809367468025,
          0.6354529044135958,
          0.6196593683080989,
          0.5849897122486223,
          0.5323558921479387,
          0.46245213411965697,
          0.3761206776748428,
          0.2749373049332597,
          0.1612010306560689,
          0.037730247038358075,
          -0.09213599103950171,
          -0.22464963404613522,
          -0.3555569534504381,
          -0.47990792410823085,
          -0.5925366898351283,
          -0.6887050898987381,
          -0.764347574939671,
          -0.8162911140746741,
          -0.842229324391137,
          -0.8404576813073317,
          -0.8100803039571954,
          -0.7513326121393283,
          -0.6655056039144989,
          -0.5548811124176505,
          -0.4226026613385223,
          -0.27237475269154515,
          -0.10851012393591078,
          0.06392195351310016,
          0.23930586721227923,
          0.4117172698619933,
          0.5751661067752594,
          0.7239719954846714,
          0.8529090436925225,
          0.957224687287299,
          1.0328616736466132,
          1.0766463230700303,
          1.0863846123925445,
          1.0609977252804503,
          1.0004972614822103,
          0.9058629433870932,
          0.7790673645963793,
          0.6231125368198953,
          0.4420165083474423,
          0.24082120991421213,
          0.025475745271247775,
          -0.1973899556966606,
          -0.4206434942386224,
          -0.6368543261446903,
          -0.8385441106761198,
          -1.0184261262380243,
          -1.169721761759437,
          -1.2865034342228112,
          -1.363930100489361,
          -1.3984172133519395,
          -1.3877413279992976,
          -1.3310725051139651,
          -1.229046389133445,
          -1.083837893751528,
          -0.8991370445314021,
          -0.6800669441586319,
          -0.43301904077536,
          -0.1654036492722658,
          0.11456601766904274,
          0.3980902388840515,
          0.6760621592316636,
          0.9393502197153349,
          1.1791079837589302,
          1.3871010909136283,
          1.5559455825552566,
          1.6792924920082237,
          1.7520093844430245,
          1.7703316958843032,
          1.7320339610065034,
          1.6366211764877414,
          1.4854545277803517,
          1.2818059901402314,
          1.0308249226208284,
          0.739391376362497,
          0.41591568323377426,
          0.07009692983410212,
          -0.28736938101477705,
          -0.6451178187848942,
          -0.9915057488984523,
          -1.3150394695710539,
          -1.6047586875247408,
          -1.8505796495136784,
          -2.0435751269108073,
          -2.176211795105487,
          -2.2426352278865878,
          -2.238959979400451,
          -2.1634921563883136,
          -2.016879381860664,
          -1.8021127499756533,
          -1.5243947684363213,
          -1.190991850973719,
          -0.8110441494719334,
          -0.39531998213070063,
          0.044046058692620384,
          0.4939073216239411,
          0.940522196682254,
          1.3699333796078828,
          1.7683465683897306,
          2.1225009866147277,
          2.420023143165975,
          2.6498554088454958,
          2.802725835646732,
          2.8715742991880786,
          2.85191444055262,
          2.7420423231843083,
          2.5430807408059843,
          2.2589549153159774,
          1.896297541949109,
          1.4643044452549494,
          0.9745531599387954,
          0.4406862946631857,
          -0.12200419031674425,
          -0.6970157014733117,
          -1.2671130679767255,
          -1.8147771297431743,
          -2.3226435432529327,
          -2.774049951779912,
          -3.1536261457864074,
          -3.4478616435105773,
          -3.6456298505864204,
          -3.738532239818527,
          -3.72108012364601,
          -3.5908424021972762,
          -3.3485317378035226,
          -2.9980608262283592,
          -2.5465892053102035,
          -2.004423759420081,
          -1.3847925072852587,
          -0.7035557937563243,
          0.021187539255813934,
          0.7695271752156476,
          1.520202316091482,
          2.2512014383201944,
          2.940448231974962,
          3.566531614938387,
          4.109439972282023,
          4.551146023122314,
          4.876047487730423,
          5.071350611456513,
          5.127395182530422,
          5.038005340892599,
          4.8008482585334695,
          4.417638433014969,
          3.89420443412303,
          3.2404234660869764,
          2.469996355240596,
          1.6001967627518137,
          0.6515541208285867,
          -0.35265329042454324,
          -1.3870236395884699,
          -2.424782618652131,
          -3.438614442085252,
          -4.401367966074053,
          -5.286668284177909,
          -6.069517774828599,
          -6.726844068340886,
          -7.238086251590284,
          -7.585789605234296,
          -7.756017469225289,
          -7.7386121687980305,
          -7.5273235658102875,
          -7.119772748800452,
          -6.51740775023509,
          -5.725464962191783,
          -4.752857009387431,
          -3.612068124802811,
          -2.319031873767284,
          -0.8929572302275107,
          0.6438124206359122,
          2.2659570806310976,
          3.9454323624882526,
          5.6518600040721525,
          7.353183566577267,
          9.01661194596304,
          10.609756907359177,
          12.10183013927994,
          13.464680648247233,
          14.673632557765131,
          15.70820646181298,
          16.55266290060056,
          17.196391368744756,
          17.634059466433207,
          17.865275584990513,
          17.89399124356608,
          17.72794545290103,
          17.37811511084912,
          16.858322698344505,
          16.18494538859997,
          15.3763557042208,
          14.45234197687132,
          13.433815973192457,
          12.342560589746903,
          11.2010402004573,
          10.032242809455274,
          8.859135984346098,
          7.703955280433292,
          6.587696165377128,
          5.529531005402761,
          4.546148422678919,
          3.6512397251351656,
          2.8549668911036448,
          2.1635804544503796,
          1.5795319449364384,
          1.101782872893107
         ],
         "yaxis": "y"
        }
       ],
       "layout": {
        "legend": {
         "title": {
          "text": "variable"
         },
         "tracegroupgap": 0
        },
        "template": {
         "data": {
          "bar": [
           {
            "error_x": {
             "color": "#2a3f5f"
            },
            "error_y": {
             "color": "#2a3f5f"
            },
            "marker": {
             "line": {
              "color": "#E5ECF6",
              "width": 0.5
             },
             "pattern": {
              "fillmode": "overlay",
              "size": 10,
              "solidity": 0.2
             }
            },
            "type": "bar"
           }
          ],
          "barpolar": [
           {
            "marker": {
             "line": {
              "color": "#E5ECF6",
              "width": 0.5
             },
             "pattern": {
              "fillmode": "overlay",
              "size": 10,
              "solidity": 0.2
             }
            },
            "type": "barpolar"
           }
          ],
          "carpet": [
           {
            "aaxis": {
             "endlinecolor": "#2a3f5f",
             "gridcolor": "white",
             "linecolor": "white",
             "minorgridcolor": "white",
             "startlinecolor": "#2a3f5f"
            },
            "baxis": {
             "endlinecolor": "#2a3f5f",
             "gridcolor": "white",
             "linecolor": "white",
             "minorgridcolor": "white",
             "startlinecolor": "#2a3f5f"
            },
            "type": "carpet"
           }
          ],
          "choropleth": [
           {
            "colorbar": {
             "outlinewidth": 0,
             "ticks": ""
            },
            "type": "choropleth"
           }
          ],
          "contour": [
           {
            "colorbar": {
             "outlinewidth": 0,
             "ticks": ""
            },
            "colorscale": [
             [
              0,
              "#0d0887"
             ],
             [
              0.1111111111111111,
              "#46039f"
             ],
             [
              0.2222222222222222,
              "#7201a8"
             ],
             [
              0.3333333333333333,
              "#9c179e"
             ],
             [
              0.4444444444444444,
              "#bd3786"
             ],
             [
              0.5555555555555556,
              "#d8576b"
             ],
             [
              0.6666666666666666,
              "#ed7953"
             ],
             [
              0.7777777777777778,
              "#fb9f3a"
             ],
             [
              0.8888888888888888,
              "#fdca26"
             ],
             [
              1,
              "#f0f921"
             ]
            ],
            "type": "contour"
           }
          ],
          "contourcarpet": [
           {
            "colorbar": {
             "outlinewidth": 0,
             "ticks": ""
            },
            "type": "contourcarpet"
           }
          ],
          "heatmap": [
           {
            "colorbar": {
             "outlinewidth": 0,
             "ticks": ""
            },
            "colorscale": [
             [
              0,
              "#0d0887"
             ],
             [
              0.1111111111111111,
              "#46039f"
             ],
             [
              0.2222222222222222,
              "#7201a8"
             ],
             [
              0.3333333333333333,
              "#9c179e"
             ],
             [
              0.4444444444444444,
              "#bd3786"
             ],
             [
              0.5555555555555556,
              "#d8576b"
             ],
             [
              0.6666666666666666,
              "#ed7953"
             ],
             [
              0.7777777777777778,
              "#fb9f3a"
             ],
             [
              0.8888888888888888,
              "#fdca26"
             ],
             [
              1,
              "#f0f921"
             ]
            ],
            "type": "heatmap"
           }
          ],
          "heatmapgl": [
           {
            "colorbar": {
             "outlinewidth": 0,
             "ticks": ""
            },
            "colorscale": [
             [
              0,
              "#0d0887"
             ],
             [
              0.1111111111111111,
              "#46039f"
             ],
             [
              0.2222222222222222,
              "#7201a8"
             ],
             [
              0.3333333333333333,
              "#9c179e"
             ],
             [
              0.4444444444444444,
              "#bd3786"
             ],
             [
              0.5555555555555556,
              "#d8576b"
             ],
             [
              0.6666666666666666,
              "#ed7953"
             ],
             [
              0.7777777777777778,
              "#fb9f3a"
             ],
             [
              0.8888888888888888,
              "#fdca26"
             ],
             [
              1,
              "#f0f921"
             ]
            ],
            "type": "heatmapgl"
           }
          ],
          "histogram": [
           {
            "marker": {
             "pattern": {
              "fillmode": "overlay",
              "size": 10,
              "solidity": 0.2
             }
            },
            "type": "histogram"
           }
          ],
          "histogram2d": [
           {
            "colorbar": {
             "outlinewidth": 0,
             "ticks": ""
            },
            "colorscale": [
             [
              0,
              "#0d0887"
             ],
             [
              0.1111111111111111,
              "#46039f"
             ],
             [
              0.2222222222222222,
              "#7201a8"
             ],
             [
              0.3333333333333333,
              "#9c179e"
             ],
             [
              0.4444444444444444,
              "#bd3786"
             ],
             [
              0.5555555555555556,
              "#d8576b"
             ],
             [
              0.6666666666666666,
              "#ed7953"
             ],
             [
              0.7777777777777778,
              "#fb9f3a"
             ],
             [
              0.8888888888888888,
              "#fdca26"
             ],
             [
              1,
              "#f0f921"
             ]
            ],
            "type": "histogram2d"
           }
          ],
          "histogram2dcontour": [
           {
            "colorbar": {
             "outlinewidth": 0,
             "ticks": ""
            },
            "colorscale": [
             [
              0,
              "#0d0887"
             ],
             [
              0.1111111111111111,
              "#46039f"
             ],
             [
              0.2222222222222222,
              "#7201a8"
             ],
             [
              0.3333333333333333,
              "#9c179e"
             ],
             [
              0.4444444444444444,
              "#bd3786"
             ],
             [
              0.5555555555555556,
              "#d8576b"
             ],
             [
              0.6666666666666666,
              "#ed7953"
             ],
             [
              0.7777777777777778,
              "#fb9f3a"
             ],
             [
              0.8888888888888888,
              "#fdca26"
             ],
             [
              1,
              "#f0f921"
             ]
            ],
            "type": "histogram2dcontour"
           }
          ],
          "mesh3d": [
           {
            "colorbar": {
             "outlinewidth": 0,
             "ticks": ""
            },
            "type": "mesh3d"
           }
          ],
          "parcoords": [
           {
            "line": {
             "colorbar": {
              "outlinewidth": 0,
              "ticks": ""
             }
            },
            "type": "parcoords"
           }
          ],
          "pie": [
           {
            "automargin": true,
            "type": "pie"
           }
          ],
          "scatter": [
           {
            "fillpattern": {
             "fillmode": "overlay",
             "size": 10,
             "solidity": 0.2
            },
            "type": "scatter"
           }
          ],
          "scatter3d": [
           {
            "line": {
             "colorbar": {
              "outlinewidth": 0,
              "ticks": ""
             }
            },
            "marker": {
             "colorbar": {
              "outlinewidth": 0,
              "ticks": ""
             }
            },
            "type": "scatter3d"
           }
          ],
          "scattercarpet": [
           {
            "marker": {
             "colorbar": {
              "outlinewidth": 0,
              "ticks": ""
             }
            },
            "type": "scattercarpet"
           }
          ],
          "scattergeo": [
           {
            "marker": {
             "colorbar": {
              "outlinewidth": 0,
              "ticks": ""
             }
            },
            "type": "scattergeo"
           }
          ],
          "scattergl": [
           {
            "marker": {
             "colorbar": {
              "outlinewidth": 0,
              "ticks": ""
             }
            },
            "type": "scattergl"
           }
          ],
          "scattermapbox": [
           {
            "marker": {
             "colorbar": {
              "outlinewidth": 0,
              "ticks": ""
             }
            },
            "type": "scattermapbox"
           }
          ],
          "scatterpolar": [
           {
            "marker": {
             "colorbar": {
              "outlinewidth": 0,
              "ticks": ""
             }
            },
            "type": "scatterpolar"
           }
          ],
          "scatterpolargl": [
           {
            "marker": {
             "colorbar": {
              "outlinewidth": 0,
              "ticks": ""
             }
            },
            "type": "scatterpolargl"
           }
          ],
          "scatterternary": [
           {
            "marker": {
             "colorbar": {
              "outlinewidth": 0,
              "ticks": ""
             }
            },
            "type": "scatterternary"
           }
          ],
          "surface": [
           {
            "colorbar": {
             "outlinewidth": 0,
             "ticks": ""
            },
            "colorscale": [
             [
              0,
              "#0d0887"
             ],
             [
              0.1111111111111111,
              "#46039f"
             ],
             [
              0.2222222222222222,
              "#7201a8"
             ],
             [
              0.3333333333333333,
              "#9c179e"
             ],
             [
              0.4444444444444444,
              "#bd3786"
             ],
             [
              0.5555555555555556,
              "#d8576b"
             ],
             [
              0.6666666666666666,
              "#ed7953"
             ],
             [
              0.7777777777777778,
              "#fb9f3a"
             ],
             [
              0.8888888888888888,
              "#fdca26"
             ],
             [
              1,
              "#f0f921"
             ]
            ],
            "type": "surface"
           }
          ],
          "table": [
           {
            "cells": {
             "fill": {
              "color": "#EBF0F8"
             },
             "line": {
              "color": "white"
             }
            },
            "header": {
             "fill": {
              "color": "#C8D4E3"
             },
             "line": {
              "color": "white"
             }
            },
            "type": "table"
           }
          ]
         },
         "layout": {
          "annotationdefaults": {
           "arrowcolor": "#2a3f5f",
           "arrowhead": 0,
           "arrowwidth": 1
          },
          "autotypenumbers": "strict",
          "coloraxis": {
           "colorbar": {
            "outlinewidth": 0,
            "ticks": ""
           }
          },
          "colorscale": {
           "diverging": [
            [
             0,
             "#8e0152"
            ],
            [
             0.1,
             "#c51b7d"
            ],
            [
             0.2,
             "#de77ae"
            ],
            [
             0.3,
             "#f1b6da"
            ],
            [
             0.4,
             "#fde0ef"
            ],
            [
             0.5,
             "#f7f7f7"
            ],
            [
             0.6,
             "#e6f5d0"
            ],
            [
             0.7,
             "#b8e186"
            ],
            [
             0.8,
             "#7fbc41"
            ],
            [
             0.9,
             "#4d9221"
            ],
            [
             1,
             "#276419"
            ]
           ],
           "sequential": [
            [
             0,
             "#0d0887"
            ],
            [
             0.1111111111111111,
             "#46039f"
            ],
            [
             0.2222222222222222,
             "#7201a8"
            ],
            [
             0.3333333333333333,
             "#9c179e"
            ],
            [
             0.4444444444444444,
             "#bd3786"
            ],
            [
             0.5555555555555556,
             "#d8576b"
            ],
            [
             0.6666666666666666,
             "#ed7953"
            ],
            [
             0.7777777777777778,
             "#fb9f3a"
            ],
            [
             0.8888888888888888,
             "#fdca26"
            ],
            [
             1,
             "#f0f921"
            ]
           ],
           "sequentialminus": [
            [
             0,
             "#0d0887"
            ],
            [
             0.1111111111111111,
             "#46039f"
            ],
            [
             0.2222222222222222,
             "#7201a8"
            ],
            [
             0.3333333333333333,
             "#9c179e"
            ],
            [
             0.4444444444444444,
             "#bd3786"
            ],
            [
             0.5555555555555556,
             "#d8576b"
            ],
            [
             0.6666666666666666,
             "#ed7953"
            ],
            [
             0.7777777777777778,
             "#fb9f3a"
            ],
            [
             0.8888888888888888,
             "#fdca26"
            ],
            [
             1,
             "#f0f921"
            ]
           ]
          },
          "colorway": [
           "#636efa",
           "#EF553B",
           "#00cc96",
           "#ab63fa",
           "#FFA15A",
           "#19d3f3",
           "#FF6692",
           "#B6E880",
           "#FF97FF",
           "#FECB52"
          ],
          "font": {
           "color": "#2a3f5f"
          },
          "geo": {
           "bgcolor": "white",
           "lakecolor": "white",
           "landcolor": "#E5ECF6",
           "showlakes": true,
           "showland": true,
           "subunitcolor": "white"
          },
          "hoverlabel": {
           "align": "left"
          },
          "hovermode": "closest",
          "mapbox": {
           "style": "light"
          },
          "paper_bgcolor": "white",
          "plot_bgcolor": "#E5ECF6",
          "polar": {
           "angularaxis": {
            "gridcolor": "white",
            "linecolor": "white",
            "ticks": ""
           },
           "bgcolor": "#E5ECF6",
           "radialaxis": {
            "gridcolor": "white",
            "linecolor": "white",
            "ticks": ""
           }
          },
          "scene": {
           "xaxis": {
            "backgroundcolor": "#E5ECF6",
            "gridcolor": "white",
            "gridwidth": 2,
            "linecolor": "white",
            "showbackground": true,
            "ticks": "",
            "zerolinecolor": "white"
           },
           "yaxis": {
            "backgroundcolor": "#E5ECF6",
            "gridcolor": "white",
            "gridwidth": 2,
            "linecolor": "white",
            "showbackground": true,
            "ticks": "",
            "zerolinecolor": "white"
           },
           "zaxis": {
            "backgroundcolor": "#E5ECF6",
            "gridcolor": "white",
            "gridwidth": 2,
            "linecolor": "white",
            "showbackground": true,
            "ticks": "",
            "zerolinecolor": "white"
           }
          },
          "shapedefaults": {
           "line": {
            "color": "#2a3f5f"
           }
          },
          "ternary": {
           "aaxis": {
            "gridcolor": "white",
            "linecolor": "white",
            "ticks": ""
           },
           "baxis": {
            "gridcolor": "white",
            "linecolor": "white",
            "ticks": ""
           },
           "bgcolor": "#E5ECF6",
           "caxis": {
            "gridcolor": "white",
            "linecolor": "white",
            "ticks": ""
           }
          },
          "title": {
           "x": 0.05
          },
          "xaxis": {
           "automargin": true,
           "gridcolor": "white",
           "linecolor": "white",
           "ticks": "",
           "title": {
            "standoff": 15
           },
           "zerolinecolor": "white",
           "zerolinewidth": 2
          },
          "yaxis": {
           "automargin": true,
           "gridcolor": "white",
           "linecolor": "white",
           "ticks": "",
           "title": {
            "standoff": 15
           },
           "zerolinecolor": "white",
           "zerolinewidth": 2
          }
         }
        },
        "title": {
         "text": "Controls w_x"
        },
        "xaxis": {
         "anchor": "y",
         "domain": [
          0,
          1
         ],
         "title": {
          "text": "Time (ms)"
         }
        },
        "yaxis": {
         "anchor": "x",
         "domain": [
          0,
          1
         ],
         "title": {
          "text": "value"
         }
        }
       }
      }
     },
     "metadata": {},
     "output_type": "display_data"
    },
    {
     "data": {
      "application/vnd.plotly.v1+json": {
       "config": {
        "plotlyServerURL": "https://plot.ly"
       },
       "data": [
        {
         "hovertemplate": "variable=wide_variable_0<br>x=%{x}<br>value=%{y}<extra></extra>",
         "legendgroup": "wide_variable_0",
         "line": {
          "color": "#636efa",
          "dash": "solid"
         },
         "marker": {
          "symbol": "circle"
         },
         "mode": "lines",
         "name": "wide_variable_0",
         "showlegend": true,
         "type": "scattergl",
         "x": [
          -10,
          -9.8876475392,
          -9.776557386,
          -9.6667153579,
          -9.5581074321,
          -9.4507197431,
          -9.3445385811,
          -9.2395503907,
          -9.1357417684,
          -9.0330994615,
          -8.9316103662,
          -8.8312615259,
          -8.7320401295,
          -8.6339335098,
          -8.5369291422,
          -8.4410146426,
          -8.3461777659,
          -8.2524064049,
          -8.1596885882,
          -8.068012479,
          -7.9773663734,
          -7.8877386991,
          -7.7991180139,
          -7.7114930038,
          -7.6248524822,
          -7.5391853883,
          -7.4544807852,
          -7.3707278592,
          -7.2879159179,
          -7.2060343892,
          -7.1250728196,
          -7.0450208731,
          -6.96586833,
          -6.8876050852,
          -6.8102211471,
          -6.7337066367,
          -6.6580517856,
          -6.5832469354,
          -6.5092825361,
          -6.436149145,
          -6.3638374256,
          -6.2923381461,
          -6.2216421786,
          -6.1517404977,
          -6.0826241794,
          -6.0142844,
          -5.9467124347,
          -5.8798996572,
          -5.8138375376,
          -5.7485176422,
          -5.6839316319,
          -5.6200712613,
          -5.5569283777,
          -5.49449492,
          -5.4327629175,
          -5.3717244892,
          -5.3113718427,
          -5.251697273,
          -5.1926931618,
          -5.1343519764,
          -5.0766662685,
          -5.0196286737,
          -4.9632319103,
          -4.9074687784,
          -4.8523321591,
          -4.7978150132,
          -4.7439103809,
          -4.6906113804,
          -4.6379112073,
          -4.5858031336,
          -4.5342805069,
          -4.4833367496,
          -4.432965358,
          -4.3831599013,
          -4.3339140213,
          -4.2852214307,
          -4.2370759135,
          -4.1894713229,
          -4.1424015817,
          -4.0958606805,
          -4.0498426779,
          -4.0043416988,
          -3.9593519345,
          -3.9148676412,
          -3.8708831399,
          -3.8273928152,
          -3.7843911151,
          -3.7418725497,
          -3.6998316908,
          -3.6582631713,
          -3.6171616844,
          -3.5765219827,
          -3.5363388781,
          -3.4966072406,
          -3.4573219978,
          -3.4184781344,
          -3.3800706914,
          -3.3420947654,
          -3.3045455083,
          -3.2674181263,
          -3.2307078796,
          -3.1944100816,
          -3.1585200982,
          -3.1230333477,
          -3.0879452995,
          -3.0532514742,
          -3.0189474426,
          -2.9850288251,
          -2.9514912917,
          -2.9183305608,
          -2.8855423988,
          -2.8531226199,
          -2.8210670851,
          -2.7893717022,
          -2.7580324248,
          -2.7270452518,
          -2.6964062273,
          -2.6661114398,
          -2.6361570217,
          -2.6065391489,
          -2.5772540401,
          -2.5482979568,
          -2.5196672022,
          -2.4913581211,
          -2.4633670995,
          -2.435690564,
          -2.4083249811,
          -2.3812668573,
          -2.3545127382,
          -2.3280592082,
          -2.3019028901,
          -2.2760404447,
          -2.2504685702,
          -2.225184002,
          -2.2001835122,
          -2.175463909,
          -2.1510220367,
          -2.1268547748,
          -2.102959038,
          -2.0793317757,
          -2.0559699715,
          -2.032870643,
          -2.0100308411,
          -1.9874476499,
          -1.9651181865,
          -1.9430396001,
          -1.9212090721,
          -1.8996238154,
          -1.8782810744,
          -1.8571781243,
          -1.836312271,
          -1.8156808508,
          -1.7952812296,
          -1.7751108033,
          -1.7551669966,
          -1.7354472634,
          -1.7159490864,
          -1.6966699761,
          -1.6776074714,
          -1.6587591387,
          -1.6401225716,
          -1.6216953909,
          -1.6034752441,
          -1.5854598052,
          -1.5676467741,
          -1.5500338768,
          -1.5326188648,
          -1.5153995147,
          -1.4983736282,
          -1.4815390318,
          -1.4648935762,
          -1.4484351364,
          -1.4321616112,
          -1.4160709231,
          -1.4001610178,
          -1.3844298642,
          -1.368875454,
          -1.3534958014,
          -1.338288943,
          -1.3232529374,
          -1.3083858651,
          -1.2936858279,
          -1.2791509493,
          -1.2647793736,
          -1.2505692661,
          -1.2365188127,
          -1.2226262195,
          -1.2088897131,
          -1.1953075397,
          -1.1818779653,
          -1.1685992756,
          -1.1554697751,
          -1.1424877879,
          -1.1296516564,
          -1.1169597421,
          -1.1044104245,
          -1.0920021016,
          -1.0797331893,
          -1.0676021212,
          -1.0556073487,
          -1.0437473403,
          -1.0320205821,
          -1.0204255769,
          -1.0089608445,
          -0.9976249211,
          -0.9864163596,
          -0.9753337291,
          -0.9643756146,
          -0.9535406173,
          -0.9428273538,
          -0.9322344565,
          -0.921760573,
          -0.9114043661,
          -0.9011645138,
          -0.8910397087,
          -0.8810286583,
          -0.8711300845,
          -0.8613427237,
          -0.8516653262,
          -0.8420966567,
          -0.8326354935,
          -0.8232806289,
          -0.8140308684,
          -0.8048850313,
          -0.7958419499,
          -0.7869004697,
          -0.7780594493,
          -0.7693177599,
          -0.7606742856,
          -0.7521279228,
          -0.7436775805,
          -0.7353221799,
          -0.7270606543,
          -0.7188919489,
          -0.710815021,
          -0.7028288393,
          -0.6949323843,
          -0.687124648,
          -0.6794046335,
          -0.6717713552,
          -0.6642238387,
          -0.6567611205,
          -0.6493822477,
          -0.6420862783,
          -0.634872281,
          -0.6277393347,
          -0.6206865288,
          -0.6137129629,
          -0.6068177467,
          -0.6,
          -0.5958333333,
          -0.5916666667,
          -0.5875,
          -0.5833333333,
          -0.5791666667,
          -0.575,
          -0.5708333333,
          -0.5666666667,
          -0.5625,
          -0.5583333333,
          -0.5541666667,
          -0.55,
          -0.5458333333,
          -0.5416666667,
          -0.5375,
          -0.5333333333,
          -0.5291666667,
          -0.525,
          -0.5208333333,
          -0.5166666667,
          -0.5125,
          -0.5083333333,
          -0.5041666667,
          -0.5,
          -0.475,
          -0.45,
          -0.425,
          -0.4,
          -0.375,
          -0.35,
          -0.325,
          -0.3,
          -0.275,
          -0.25,
          -0.225,
          -0.2,
          -0.175,
          -0.15,
          -0.125,
          -0.1,
          -0.075,
          -0.05,
          -0.025,
          0,
          0.025,
          0.05,
          0.075,
          0.1,
          0.125,
          0.15,
          0.175,
          0.2,
          0.225,
          0.25,
          0.275,
          0.3,
          0.325,
          0.35,
          0.375,
          0.4,
          0.425,
          0.45,
          0.475,
          0.5,
          0.5041666667,
          0.5083333333,
          0.5125,
          0.5166666667,
          0.5208333333,
          0.525,
          0.5291666667,
          0.5333333333,
          0.5375,
          0.5416666667,
          0.5458333333,
          0.55,
          0.5541666667,
          0.5583333333,
          0.5625,
          0.5666666667,
          0.5708333333,
          0.575,
          0.5791666667,
          0.5833333333,
          0.5875,
          0.5916666667,
          0.5958333333,
          0.6,
          0.6068177467,
          0.6137129629,
          0.6206865288,
          0.6277393347,
          0.634872281,
          0.6420862783,
          0.6493822477,
          0.6567611205,
          0.6642238387,
          0.6717713552,
          0.6794046335,
          0.687124648,
          0.6949323843,
          0.7028288393,
          0.710815021,
          0.7188919489,
          0.7270606543,
          0.7353221799,
          0.7436775805,
          0.7521279228,
          0.7606742856,
          0.7693177599,
          0.7780594493,
          0.7869004697,
          0.7958419499,
          0.8048850313,
          0.8140308684,
          0.8232806289,
          0.8326354935,
          0.8420966567,
          0.8516653262,
          0.8613427237,
          0.8711300845,
          0.8810286583,
          0.8910397087,
          0.9011645138,
          0.9114043661,
          0.921760573,
          0.9322344565,
          0.9428273538,
          0.9535406173,
          0.9643756146,
          0.9753337291,
          0.9864163596,
          0.9976249211,
          1.0089608445,
          1.0204255769,
          1.0320205821,
          1.0437473403,
          1.0556073487,
          1.0676021212,
          1.0797331893,
          1.0920021016,
          1.1044104245,
          1.1169597421,
          1.1296516564,
          1.1424877879,
          1.1554697751,
          1.1685992756,
          1.1818779653,
          1.1953075397,
          1.2088897131,
          1.2226262195,
          1.2365188127,
          1.2505692661,
          1.2647793736,
          1.2791509493,
          1.2936858279,
          1.3083858651,
          1.3232529374,
          1.338288943,
          1.3534958014,
          1.368875454,
          1.3844298642,
          1.4001610178,
          1.4160709231,
          1.4321616112,
          1.4484351364,
          1.4648935762,
          1.4815390318,
          1.4983736282,
          1.5153995147,
          1.5326188648,
          1.5500338768,
          1.5676467741,
          1.5854598052,
          1.6034752441,
          1.6216953909,
          1.6401225716,
          1.6587591387,
          1.6776074714,
          1.6966699761,
          1.7159490864,
          1.7354472634,
          1.7551669966,
          1.7751108033,
          1.7952812296,
          1.8156808508,
          1.836312271,
          1.8571781243,
          1.8782810744,
          1.8996238154,
          1.9212090721,
          1.9430396001,
          1.9651181865,
          1.9874476499,
          2.0100308411,
          2.032870643,
          2.0559699715,
          2.0793317757,
          2.102959038,
          2.1268547748,
          2.1510220367,
          2.175463909,
          2.2001835122,
          2.225184002,
          2.2504685702,
          2.2760404447,
          2.3019028901,
          2.3280592082,
          2.3545127382,
          2.3812668573,
          2.4083249811,
          2.435690564,
          2.4633670995,
          2.4913581211,
          2.5196672022,
          2.5482979568,
          2.5772540401,
          2.6065391489,
          2.6361570217,
          2.6661114398,
          2.6964062273,
          2.7270452518,
          2.7580324248,
          2.7893717022,
          2.8210670851,
          2.8531226199,
          2.8855423988,
          2.9183305608,
          2.9514912917,
          2.9850288251,
          3.0189474426,
          3.0532514742,
          3.0879452995,
          3.1230333477,
          3.1585200982,
          3.1944100816,
          3.2307078796,
          3.2674181263,
          3.3045455083,
          3.3420947654,
          3.3800706914,
          3.4184781344,
          3.4573219978,
          3.4966072406,
          3.5363388781,
          3.5765219827,
          3.6171616844,
          3.6582631713,
          3.6998316908,
          3.7418725497,
          3.7843911151,
          3.8273928152,
          3.8708831399,
          3.9148676412,
          3.9593519345,
          4.0043416988,
          4.0498426779,
          4.0958606805,
          4.1424015817,
          4.1894713229,
          4.2370759135,
          4.2852214307,
          4.3339140213,
          4.3831599013,
          4.432965358,
          4.4833367496,
          4.5342805069,
          4.5858031336,
          4.6379112073,
          4.6906113804,
          4.7439103809,
          4.7978150132,
          4.8523321591,
          4.9074687784,
          4.9632319103,
          5.0196286737,
          5.0766662685,
          5.1343519764,
          5.1926931618,
          5.251697273,
          5.3113718427,
          5.3717244892,
          5.4327629175,
          5.49449492,
          5.5569283777,
          5.6200712613,
          5.6839316319,
          5.7485176422,
          5.8138375376,
          5.8798996572,
          5.9467124347,
          6.0142844,
          6.0826241794,
          6.1517404977,
          6.2216421786,
          6.2923381461,
          6.3638374256,
          6.436149145,
          6.5092825361,
          6.5832469354,
          6.6580517856,
          6.7337066367,
          6.8102211471,
          6.8876050852,
          6.96586833,
          7.0450208731,
          7.1250728196,
          7.2060343892,
          7.2879159179,
          7.3707278592,
          7.4544807852,
          7.5391853883,
          7.6248524822,
          7.7114930038,
          7.7991180139,
          7.8877386991,
          7.9773663734,
          8.068012479,
          8.1596885882,
          8.2524064049,
          8.3461777659,
          8.4410146426,
          8.5369291422,
          8.6339335098,
          8.7320401295,
          8.8312615259,
          8.9316103662,
          9.0330994615,
          9.1357417684,
          9.2395503907,
          9.3445385811,
          9.4507197431,
          9.5581074321,
          9.6667153579,
          9.776557386,
          9.8876475392,
          10
         ],
         "xaxis": "x",
         "y": [
          0.002416850585563391,
          0.0027594282118223075,
          0.002828507040313045,
          0.0025005563116188225,
          0.0029184164914549974,
          0.0027772734728267797,
          0.0027149222614129627,
          0.0030464098161102904,
          0.002653693356694438,
          0.003155058428469967,
          0.0027096373867040962,
          0.0032235759460078495,
          0.0027702085807994265,
          0.003300428947635148,
          0.002849058477926796,
          0.0033140181347579463,
          0.0030779482401480534,
          0.0031388532613447007,
          0.0034437605634847325,
          0.00299939430866379,
          0.0034499082034267253,
          0.003462626448939956,
          0.003100179109437108,
          0.0035509090108612777,
          0.003660404509554548,
          0.0032549935455991027,
          0.003418972927326136,
          0.003844232164341858,
          0.0037515046542489277,
          0.0034081488080756387,
          0.003481548489441019,
          0.0038804323775302584,
          0.004089144671649598,
          0.003960925333292143,
          0.0036987101048633806,
          0.0035885894615799146,
          0.003732362724411881,
          0.00400739882677887,
          0.004258531686231961,
          0.004411841392602756,
          0.004465009837027224,
          0.004449538383171442,
          0.004403024815591637,
          0.004355097971975936,
          0.004323453371815771,
          0.004315783421335119,
          0.004333960696725517,
          0.004378072262536433,
          0.004448734576114358,
          0.004546294077448574,
          0.004671869213628292,
          0.004821637835666477,
          0.004983173935830619,
          0.005133083780879914,
          0.005235197595160372,
          0.005248540321836975,
          0.005145647668267721,
          0.004944046962535358,
          0.00473897115763345,
          0.004699592347054966,
          0.0049455769466043645,
          0.005376879700931119,
          0.005707598019771681,
          0.00568479290138037,
          0.00531892635478234,
          0.005029350959737839,
          0.005310622388510238,
          0.005905513846040464,
          0.006076809560189371,
          0.005617205941305158,
          0.005313103648730142,
          0.005883375498118071,
          0.006400581536547312,
          0.005994254528389119,
          0.0055531556292936985,
          0.0062391493666420945,
          0.0066574947057353616,
          0.005973479191039871,
          0.006008165176770226,
          0.0068877679648731175,
          0.0064769218036919655,
          0.006055976438955627,
          0.007047809284194601,
          0.006779357892896639,
          0.006257943026949679,
          0.007324094018945172,
          0.006855758309212316,
          0.006616809914694194,
          0.007643629859654026,
          0.006726900552171166,
          0.007294726241204936,
          0.007658235230747893,
          0.006809457925373315,
          0.008054994996435399,
          0.007148763729232795,
          0.007785061046828364,
          0.007906062112907307,
          0.007400651082410428,
          0.00846872888342175,
          0.007322266033955992,
          0.008708501051621171,
          0.00756371974306342,
          0.008753883996747563,
          0.007937383738251105,
          0.008758841346623372,
          0.0082958101557276,
          0.008813920580889405,
          0.008580968393431471,
          0.008960610121303428,
          0.008765317043528925,
          0.009201578356524773,
          0.008856485862645045,
          0.009541229037293823,
          0.008858645439476861,
          0.00994240068582654,
          0.008814193038319134,
          0.010314377704425755,
          0.008877041172989791,
          0.010572360879913839,
          0.009282700230705364,
          0.010455974829595245,
          0.01007214644742453,
          0.009990474536692301,
          0.010977654102409027,
          0.009626446284186529,
          0.011405205378587684,
          0.010114590619033616,
          0.010950485604225192,
          0.01135137155436802,
          0.010209603122004711,
          0.012031905213740472,
          0.010739131280206555,
          0.011316926155145606,
          0.01222965094683526,
          0.010663617923726294,
          0.012367685255778343,
          0.012053665675605106,
          0.011153766858136922,
          0.013051686072643696,
          0.011963759333461629,
          0.011792010404102462,
          0.013516866832296293,
          0.012099765313550259,
          0.012321905047382908,
          0.013936065892415025,
          0.012449857809208261,
          0.01266252281758993,
          0.014371397946739218,
          0.01301951879306845,
          0.012817693438512228,
          0.01475261175563094,
          0.01385557508503214,
          0.01290508268017987,
          0.014888774528472447,
          0.014918995513399,
          0.013263427437999614,
          0.01457997730921703,
          0.015871266307678596,
          0.014325141860353264,
          0.013985287790929082,
          0.016018970932132944,
          0.015857695404120527,
          0.013984585899517968,
          0.014858109667604492,
          0.016669037598326823,
          0.015853406181875602,
          0.014584322863309226,
          0.016136935076317097,
          0.017584404860576955,
          0.016462742104832322,
          0.015331371215840018,
          0.01688528129443756,
          0.018309159253768297,
          0.017335824693640256,
          0.016058317447822573,
          0.0172494486362348,
          0.01893079999439585,
          0.018525034531379565,
          0.017038641711589426,
          0.017324500674732898,
          0.018995952388838857,
          0.019330024777628716,
          0.017898015651286577,
          0.017039854548053464,
          0.018290393013636736,
          0.019688996847223653,
          0.019336163495758212,
          0.017930796867716543,
          0.01774901228390689,
          0.019158819828343377,
          0.020049848410994935,
          0.019191078756103267,
          0.01771130297866428,
          0.01787080804563226,
          0.019683213119679625,
          0.020828331812977725,
          0.01985950975188801,
          0.017532224781997684,
          0.016446027515288925,
          0.018080173491592428,
          0.020372618939545784,
          0.0208954574532791,
          0.01905121445678936,
          0.016238052471648595,
          0.01525291305040744,
          0.01713617464813869,
          0.019526031706502543,
          0.020229826060376564,
          0.018786787013175352,
          0.016351235996312545,
          0.015190881772925125,
          0.0165137971149477,
          0.01876986381688001,
          0.020005576239348562,
          0.019517386077668057,
          0.01788649177191967,
          0.01663801409305342,
          0.01710005953225232,
          0.01886132911243466,
          0.020389939808581784,
          0.02058666329081222,
          0.019274501146546344,
          0.017182110695109127,
          0.0157314779659243,
          0.016091992307600722,
          0.017864206707198342,
          0.019671462888140666,
          0.020515605808858858,
          0.020142987545293003,
          0.018953755050265923,
          0.017790104808187858,
          0.01747442237566824,
          0.018165027348995905,
          0.019275780800552554,
          0.02009312433240036,
          0.0202577251415783,
          0.019855936381418658,
          0.019291972392638152,
          0.019014537092308305,
          0.019195483210514775,
          0.019626789604349586,
          0.019952170949399602,
          0.019977266364836554,
          0.019805938413071746,
          0.01973339788705835,
          0.019935442064233068,
          0.02019843475116116,
          0.020051127486551273,
          0.019439426804306364,
          0.020000002907846356,
          0.02260759554980818,
          0.027987877746247017,
          0.036348762715862355,
          0.04751394962248216,
          0.06123011578780706,
          0.07725616561486452,
          0.09535289912854353,
          0.11526192965968111,
          0.13669431485598613,
          0.15932893612406657,
          0.18281783253823114,
          0.20679607744270143,
          0.2308943161101838,
          0.25475243731689834,
          0.2780330924270896,
          0.30043405607927576,
          0.32169878481560626,
          0.3416249036039183,
          0.3600707109027551,
          0.3769600323599946,
          0.39228573190825716,
          0.4061118960800676,
          0.41857416125048086,
          0.4298769656107095,
          0.4901023196931374,
          0.5668752940585371,
          0.6355512754831735,
          0.6767372289449937,
          0.7086948238540094,
          0.7356240413886165,
          0.7527832649740553,
          0.7676861482096754,
          0.7809685120274934,
          0.7898940630671583,
          0.798344489792573,
          0.8053087849531932,
          0.810186196389643,
          0.8151505180714622,
          0.8183333590929907,
          0.8210895786478246,
          0.8241217429406574,
          0.8246210063121091,
          0.8255554731300121,
          0.8270046517060904,
          0.8255554731300121,
          0.8246210063121091,
          0.8241217429406574,
          0.8210895786478246,
          0.8183333590929907,
          0.8151505180714622,
          0.810186196389643,
          0.8053087849531932,
          0.798344489792573,
          0.7898940630671583,
          0.7809685120274934,
          0.7676861482096754,
          0.7527832649740553,
          0.7356240413886165,
          0.7086948238540094,
          0.6767372289449937,
          0.6355512754831735,
          0.5668752940585371,
          0.4901023196931374,
          0.4298769656107095,
          0.41857416125048086,
          0.4061118960800676,
          0.39228573190825716,
          0.3769600323599946,
          0.3600707109027551,
          0.3416249036039183,
          0.32169878481560626,
          0.30043405607927576,
          0.2780330924270896,
          0.25475243731689834,
          0.2308943161101838,
          0.20679607744270143,
          0.18281783253823114,
          0.15932893612406657,
          0.13669431485598613,
          0.11526192965968111,
          0.09535289912854353,
          0.07725616561486452,
          0.06123011578780706,
          0.04751394962248216,
          0.036348762715862355,
          0.027987877746247017,
          0.02260759554980818,
          0.020000002907846356,
          0.019439426804306364,
          0.020051127486551273,
          0.02019843475116116,
          0.019935442064233068,
          0.01973339788705835,
          0.019805938413071746,
          0.019977266364836554,
          0.019952170949399602,
          0.019626789604349586,
          0.019195483210514775,
          0.019014537092308305,
          0.019291972392638152,
          0.019855936381418658,
          0.0202577251415783,
          0.02009312433240036,
          0.019275780800552554,
          0.018165027348995905,
          0.01747442237566824,
          0.017790104808187858,
          0.018953755050265923,
          0.020142987545293003,
          0.020515605808858858,
          0.019671462888140666,
          0.017864206707198342,
          0.016091992307600722,
          0.0157314779659243,
          0.017182110695109127,
          0.019274501146546344,
          0.02058666329081222,
          0.020389939808581784,
          0.01886132911243466,
          0.01710005953225232,
          0.01663801409305342,
          0.01788649177191967,
          0.019517386077668057,
          0.020005576239348562,
          0.01876986381688001,
          0.0165137971149477,
          0.015190881772925125,
          0.016351235996312545,
          0.018786787013175352,
          0.020229826060376564,
          0.019526031706502543,
          0.01713617464813869,
          0.01525291305040744,
          0.016238052471648595,
          0.01905121445678936,
          0.0208954574532791,
          0.020372618939545784,
          0.018080173491592428,
          0.016446027515288925,
          0.017532224781997684,
          0.01985950975188801,
          0.020828331812977725,
          0.019683213119679625,
          0.01787080804563226,
          0.01771130297866428,
          0.019191078756103267,
          0.020049848410994935,
          0.019158819828343377,
          0.01774901228390689,
          0.017930796867716543,
          0.019336163495758212,
          0.019688996847223653,
          0.018290393013636736,
          0.017039854548053464,
          0.017898015651286577,
          0.019330024777628716,
          0.018995952388838857,
          0.017324500674732898,
          0.017038641711589426,
          0.018525034531379565,
          0.01893079999439585,
          0.0172494486362348,
          0.016058317447822573,
          0.017335824693640256,
          0.018309159253768297,
          0.01688528129443756,
          0.015331371215840018,
          0.016462742104832322,
          0.017584404860576955,
          0.016136935076317097,
          0.014584322863309226,
          0.015853406181875602,
          0.016669037598326823,
          0.014858109667604492,
          0.013984585899517968,
          0.015857695404120527,
          0.016018970932132944,
          0.013985287790929082,
          0.014325141860353264,
          0.015871266307678596,
          0.01457997730921703,
          0.013263427437999614,
          0.014918995513399,
          0.014888774528472447,
          0.01290508268017987,
          0.01385557508503214,
          0.01475261175563094,
          0.012817693438512228,
          0.01301951879306845,
          0.014371397946739218,
          0.01266252281758993,
          0.012449857809208261,
          0.013936065892415025,
          0.012321905047382908,
          0.012099765313550259,
          0.013516866832296293,
          0.011792010404102462,
          0.011963759333461629,
          0.013051686072643696,
          0.011153766858136922,
          0.012053665675605106,
          0.012367685255778343,
          0.010663617923726294,
          0.01222965094683526,
          0.011316926155145606,
          0.010739131280206555,
          0.012031905213740472,
          0.010209603122004711,
          0.01135137155436802,
          0.010950485604225192,
          0.010114590619033616,
          0.011405205378587684,
          0.009626446284186529,
          0.010977654102409027,
          0.009990474536692301,
          0.01007214644742453,
          0.010455974829595245,
          0.009282700230705364,
          0.010572360879913839,
          0.008877041172989791,
          0.010314377704425755,
          0.008814193038319134,
          0.00994240068582654,
          0.008858645439476861,
          0.009541229037293823,
          0.008856485862645045,
          0.009201578356524773,
          0.008765317043528925,
          0.008960610121303428,
          0.008580968393431471,
          0.008813920580889405,
          0.0082958101557276,
          0.008758841346623372,
          0.007937383738251105,
          0.008753883996747563,
          0.00756371974306342,
          0.008708501051621171,
          0.007322266033955992,
          0.00846872888342175,
          0.007400651082410428,
          0.007906062112907307,
          0.007785061046828364,
          0.007148763729232795,
          0.008054994996435399,
          0.006809457925373315,
          0.007658235230747893,
          0.007294726241204936,
          0.006726900552171166,
          0.007643629859654026,
          0.006616809914694194,
          0.006855758309212316,
          0.007324094018945172,
          0.006257943026949679,
          0.006779357892896639,
          0.007047809284194601,
          0.006055976438955627,
          0.0064769218036919655,
          0.0068877679648731175,
          0.006008165176770226,
          0.005973479191039871,
          0.0066574947057353616,
          0.0062391493666420945,
          0.0055531556292936985,
          0.005994254528389119,
          0.006400581536547312,
          0.005883375498118071,
          0.005313103648730142,
          0.005617205941305158,
          0.006076809560189371,
          0.005905513846040464,
          0.005310622388510238,
          0.005029350959737839,
          0.00531892635478234,
          0.00568479290138037,
          0.005707598019771681,
          0.005376879700931119,
          0.0049455769466043645,
          0.004699592347054966,
          0.00473897115763345,
          0.004944046962535358,
          0.005145647668267721,
          0.005248540321836975,
          0.005235197595160372,
          0.005133083780879914,
          0.004983173935830619,
          0.004821637835666477,
          0.004671869213628292,
          0.004546294077448574,
          0.004448734576114358,
          0.004378072262536433,
          0.004333960696725517,
          0.004315783421335119,
          0.004323453371815771,
          0.004355097971975936,
          0.004403024815591637,
          0.004449538383171442,
          0.004465009837027224,
          0.004411841392602756,
          0.004258531686231961,
          0.00400739882677887,
          0.003732362724411881,
          0.0035885894615799146,
          0.0036987101048633806,
          0.003960925333292143,
          0.004089144671649598,
          0.0038804323775302584,
          0.003481548489441019,
          0.0034081488080756387,
          0.0037515046542489277,
          0.003844232164341858,
          0.003418972927326136,
          0.0032549935455991027,
          0.003660404509554548,
          0.0035509090108612777,
          0.003100179109437108,
          0.003462626448939956,
          0.0034499082034267253,
          0.00299939430866379,
          0.0034437605634847325,
          0.0031388532613447007,
          0.0030779482401480534,
          0.0033140181347579463,
          0.002849058477926796,
          0.003300428947635148,
          0.0027702085807994265,
          0.0032235759460078495,
          0.0027096373867040962,
          0.003155058428469967,
          0.002653693356694438,
          0.0030464098161102904,
          0.0027149222614129627,
          0.0027772734728267797,
          0.0029184164914549974,
          0.0025005563116188225,
          0.002828507040313045,
          0.0027594282118223075,
          0.002416850585563391
         ],
         "yaxis": "y"
        },
        {
         "hovertemplate": "variable=wide_variable_1<br>x=%{x}<br>value=%{y}<extra></extra>",
         "legendgroup": "wide_variable_1",
         "line": {
          "color": "#EF553B",
          "dash": "solid"
         },
         "marker": {
          "symbol": "circle"
         },
         "mode": "lines",
         "name": "wide_variable_1",
         "showlegend": true,
         "type": "scattergl",
         "x": [
          -10,
          -9.8876475392,
          -9.776557386,
          -9.6667153579,
          -9.5581074321,
          -9.4507197431,
          -9.3445385811,
          -9.2395503907,
          -9.1357417684,
          -9.0330994615,
          -8.9316103662,
          -8.8312615259,
          -8.7320401295,
          -8.6339335098,
          -8.5369291422,
          -8.4410146426,
          -8.3461777659,
          -8.2524064049,
          -8.1596885882,
          -8.068012479,
          -7.9773663734,
          -7.8877386991,
          -7.7991180139,
          -7.7114930038,
          -7.6248524822,
          -7.5391853883,
          -7.4544807852,
          -7.3707278592,
          -7.2879159179,
          -7.2060343892,
          -7.1250728196,
          -7.0450208731,
          -6.96586833,
          -6.8876050852,
          -6.8102211471,
          -6.7337066367,
          -6.6580517856,
          -6.5832469354,
          -6.5092825361,
          -6.436149145,
          -6.3638374256,
          -6.2923381461,
          -6.2216421786,
          -6.1517404977,
          -6.0826241794,
          -6.0142844,
          -5.9467124347,
          -5.8798996572,
          -5.8138375376,
          -5.7485176422,
          -5.6839316319,
          -5.6200712613,
          -5.5569283777,
          -5.49449492,
          -5.4327629175,
          -5.3717244892,
          -5.3113718427,
          -5.251697273,
          -5.1926931618,
          -5.1343519764,
          -5.0766662685,
          -5.0196286737,
          -4.9632319103,
          -4.9074687784,
          -4.8523321591,
          -4.7978150132,
          -4.7439103809,
          -4.6906113804,
          -4.6379112073,
          -4.5858031336,
          -4.5342805069,
          -4.4833367496,
          -4.432965358,
          -4.3831599013,
          -4.3339140213,
          -4.2852214307,
          -4.2370759135,
          -4.1894713229,
          -4.1424015817,
          -4.0958606805,
          -4.0498426779,
          -4.0043416988,
          -3.9593519345,
          -3.9148676412,
          -3.8708831399,
          -3.8273928152,
          -3.7843911151,
          -3.7418725497,
          -3.6998316908,
          -3.6582631713,
          -3.6171616844,
          -3.5765219827,
          -3.5363388781,
          -3.4966072406,
          -3.4573219978,
          -3.4184781344,
          -3.3800706914,
          -3.3420947654,
          -3.3045455083,
          -3.2674181263,
          -3.2307078796,
          -3.1944100816,
          -3.1585200982,
          -3.1230333477,
          -3.0879452995,
          -3.0532514742,
          -3.0189474426,
          -2.9850288251,
          -2.9514912917,
          -2.9183305608,
          -2.8855423988,
          -2.8531226199,
          -2.8210670851,
          -2.7893717022,
          -2.7580324248,
          -2.7270452518,
          -2.6964062273,
          -2.6661114398,
          -2.6361570217,
          -2.6065391489,
          -2.5772540401,
          -2.5482979568,
          -2.5196672022,
          -2.4913581211,
          -2.4633670995,
          -2.435690564,
          -2.4083249811,
          -2.3812668573,
          -2.3545127382,
          -2.3280592082,
          -2.3019028901,
          -2.2760404447,
          -2.2504685702,
          -2.225184002,
          -2.2001835122,
          -2.175463909,
          -2.1510220367,
          -2.1268547748,
          -2.102959038,
          -2.0793317757,
          -2.0559699715,
          -2.032870643,
          -2.0100308411,
          -1.9874476499,
          -1.9651181865,
          -1.9430396001,
          -1.9212090721,
          -1.8996238154,
          -1.8782810744,
          -1.8571781243,
          -1.836312271,
          -1.8156808508,
          -1.7952812296,
          -1.7751108033,
          -1.7551669966,
          -1.7354472634,
          -1.7159490864,
          -1.6966699761,
          -1.6776074714,
          -1.6587591387,
          -1.6401225716,
          -1.6216953909,
          -1.6034752441,
          -1.5854598052,
          -1.5676467741,
          -1.5500338768,
          -1.5326188648,
          -1.5153995147,
          -1.4983736282,
          -1.4815390318,
          -1.4648935762,
          -1.4484351364,
          -1.4321616112,
          -1.4160709231,
          -1.4001610178,
          -1.3844298642,
          -1.368875454,
          -1.3534958014,
          -1.338288943,
          -1.3232529374,
          -1.3083858651,
          -1.2936858279,
          -1.2791509493,
          -1.2647793736,
          -1.2505692661,
          -1.2365188127,
          -1.2226262195,
          -1.2088897131,
          -1.1953075397,
          -1.1818779653,
          -1.1685992756,
          -1.1554697751,
          -1.1424877879,
          -1.1296516564,
          -1.1169597421,
          -1.1044104245,
          -1.0920021016,
          -1.0797331893,
          -1.0676021212,
          -1.0556073487,
          -1.0437473403,
          -1.0320205821,
          -1.0204255769,
          -1.0089608445,
          -0.9976249211,
          -0.9864163596,
          -0.9753337291,
          -0.9643756146,
          -0.9535406173,
          -0.9428273538,
          -0.9322344565,
          -0.921760573,
          -0.9114043661,
          -0.9011645138,
          -0.8910397087,
          -0.8810286583,
          -0.8711300845,
          -0.8613427237,
          -0.8516653262,
          -0.8420966567,
          -0.8326354935,
          -0.8232806289,
          -0.8140308684,
          -0.8048850313,
          -0.7958419499,
          -0.7869004697,
          -0.7780594493,
          -0.7693177599,
          -0.7606742856,
          -0.7521279228,
          -0.7436775805,
          -0.7353221799,
          -0.7270606543,
          -0.7188919489,
          -0.710815021,
          -0.7028288393,
          -0.6949323843,
          -0.687124648,
          -0.6794046335,
          -0.6717713552,
          -0.6642238387,
          -0.6567611205,
          -0.6493822477,
          -0.6420862783,
          -0.634872281,
          -0.6277393347,
          -0.6206865288,
          -0.6137129629,
          -0.6068177467,
          -0.6,
          -0.5958333333,
          -0.5916666667,
          -0.5875,
          -0.5833333333,
          -0.5791666667,
          -0.575,
          -0.5708333333,
          -0.5666666667,
          -0.5625,
          -0.5583333333,
          -0.5541666667,
          -0.55,
          -0.5458333333,
          -0.5416666667,
          -0.5375,
          -0.5333333333,
          -0.5291666667,
          -0.525,
          -0.5208333333,
          -0.5166666667,
          -0.5125,
          -0.5083333333,
          -0.5041666667,
          -0.5,
          -0.475,
          -0.45,
          -0.425,
          -0.4,
          -0.375,
          -0.35,
          -0.325,
          -0.3,
          -0.275,
          -0.25,
          -0.225,
          -0.2,
          -0.175,
          -0.15,
          -0.125,
          -0.1,
          -0.075,
          -0.05,
          -0.025,
          0,
          0.025,
          0.05,
          0.075,
          0.1,
          0.125,
          0.15,
          0.175,
          0.2,
          0.225,
          0.25,
          0.275,
          0.3,
          0.325,
          0.35,
          0.375,
          0.4,
          0.425,
          0.45,
          0.475,
          0.5,
          0.5041666667,
          0.5083333333,
          0.5125,
          0.5166666667,
          0.5208333333,
          0.525,
          0.5291666667,
          0.5333333333,
          0.5375,
          0.5416666667,
          0.5458333333,
          0.55,
          0.5541666667,
          0.5583333333,
          0.5625,
          0.5666666667,
          0.5708333333,
          0.575,
          0.5791666667,
          0.5833333333,
          0.5875,
          0.5916666667,
          0.5958333333,
          0.6,
          0.6068177467,
          0.6137129629,
          0.6206865288,
          0.6277393347,
          0.634872281,
          0.6420862783,
          0.6493822477,
          0.6567611205,
          0.6642238387,
          0.6717713552,
          0.6794046335,
          0.687124648,
          0.6949323843,
          0.7028288393,
          0.710815021,
          0.7188919489,
          0.7270606543,
          0.7353221799,
          0.7436775805,
          0.7521279228,
          0.7606742856,
          0.7693177599,
          0.7780594493,
          0.7869004697,
          0.7958419499,
          0.8048850313,
          0.8140308684,
          0.8232806289,
          0.8326354935,
          0.8420966567,
          0.8516653262,
          0.8613427237,
          0.8711300845,
          0.8810286583,
          0.8910397087,
          0.9011645138,
          0.9114043661,
          0.921760573,
          0.9322344565,
          0.9428273538,
          0.9535406173,
          0.9643756146,
          0.9753337291,
          0.9864163596,
          0.9976249211,
          1.0089608445,
          1.0204255769,
          1.0320205821,
          1.0437473403,
          1.0556073487,
          1.0676021212,
          1.0797331893,
          1.0920021016,
          1.1044104245,
          1.1169597421,
          1.1296516564,
          1.1424877879,
          1.1554697751,
          1.1685992756,
          1.1818779653,
          1.1953075397,
          1.2088897131,
          1.2226262195,
          1.2365188127,
          1.2505692661,
          1.2647793736,
          1.2791509493,
          1.2936858279,
          1.3083858651,
          1.3232529374,
          1.338288943,
          1.3534958014,
          1.368875454,
          1.3844298642,
          1.4001610178,
          1.4160709231,
          1.4321616112,
          1.4484351364,
          1.4648935762,
          1.4815390318,
          1.4983736282,
          1.5153995147,
          1.5326188648,
          1.5500338768,
          1.5676467741,
          1.5854598052,
          1.6034752441,
          1.6216953909,
          1.6401225716,
          1.6587591387,
          1.6776074714,
          1.6966699761,
          1.7159490864,
          1.7354472634,
          1.7551669966,
          1.7751108033,
          1.7952812296,
          1.8156808508,
          1.836312271,
          1.8571781243,
          1.8782810744,
          1.8996238154,
          1.9212090721,
          1.9430396001,
          1.9651181865,
          1.9874476499,
          2.0100308411,
          2.032870643,
          2.0559699715,
          2.0793317757,
          2.102959038,
          2.1268547748,
          2.1510220367,
          2.175463909,
          2.2001835122,
          2.225184002,
          2.2504685702,
          2.2760404447,
          2.3019028901,
          2.3280592082,
          2.3545127382,
          2.3812668573,
          2.4083249811,
          2.435690564,
          2.4633670995,
          2.4913581211,
          2.5196672022,
          2.5482979568,
          2.5772540401,
          2.6065391489,
          2.6361570217,
          2.6661114398,
          2.6964062273,
          2.7270452518,
          2.7580324248,
          2.7893717022,
          2.8210670851,
          2.8531226199,
          2.8855423988,
          2.9183305608,
          2.9514912917,
          2.9850288251,
          3.0189474426,
          3.0532514742,
          3.0879452995,
          3.1230333477,
          3.1585200982,
          3.1944100816,
          3.2307078796,
          3.2674181263,
          3.3045455083,
          3.3420947654,
          3.3800706914,
          3.4184781344,
          3.4573219978,
          3.4966072406,
          3.5363388781,
          3.5765219827,
          3.6171616844,
          3.6582631713,
          3.6998316908,
          3.7418725497,
          3.7843911151,
          3.8273928152,
          3.8708831399,
          3.9148676412,
          3.9593519345,
          4.0043416988,
          4.0498426779,
          4.0958606805,
          4.1424015817,
          4.1894713229,
          4.2370759135,
          4.2852214307,
          4.3339140213,
          4.3831599013,
          4.432965358,
          4.4833367496,
          4.5342805069,
          4.5858031336,
          4.6379112073,
          4.6906113804,
          4.7439103809,
          4.7978150132,
          4.8523321591,
          4.9074687784,
          4.9632319103,
          5.0196286737,
          5.0766662685,
          5.1343519764,
          5.1926931618,
          5.251697273,
          5.3113718427,
          5.3717244892,
          5.4327629175,
          5.49449492,
          5.5569283777,
          5.6200712613,
          5.6839316319,
          5.7485176422,
          5.8138375376,
          5.8798996572,
          5.9467124347,
          6.0142844,
          6.0826241794,
          6.1517404977,
          6.2216421786,
          6.2923381461,
          6.3638374256,
          6.436149145,
          6.5092825361,
          6.5832469354,
          6.6580517856,
          6.7337066367,
          6.8102211471,
          6.8876050852,
          6.96586833,
          7.0450208731,
          7.1250728196,
          7.2060343892,
          7.2879159179,
          7.3707278592,
          7.4544807852,
          7.5391853883,
          7.6248524822,
          7.7114930038,
          7.7991180139,
          7.8877386991,
          7.9773663734,
          8.068012479,
          8.1596885882,
          8.2524064049,
          8.3461777659,
          8.4410146426,
          8.5369291422,
          8.6339335098,
          8.7320401295,
          8.8312615259,
          8.9316103662,
          9.0330994615,
          9.1357417684,
          9.2395503907,
          9.3445385811,
          9.4507197431,
          9.5581074321,
          9.6667153579,
          9.776557386,
          9.8876475392,
          10
         ],
         "xaxis": "x",
         "y": [
          0.001158909736678941,
          0.0013240762459469366,
          0.0013554808361761928,
          0.0011990561662176148,
          0.0014001498068273734,
          0.0013305994442338424,
          0.001302877877055749,
          0.0014601602645432775,
          0.0012727788361513745,
          0.0015128899750819751,
          0.0012990871704050843,
          0.0015459483949631801,
          0.001328177502815425,
          0.001582492958694827,
          0.0013666557945359826,
          0.001588195859289544,
          0.0014772840530804673,
          0.0015036301733758015,
          0.001652145856783079,
          0.0014384496909262863,
          0.001652941207062993,
          0.0016617482399218766,
          0.0014864049940456223,
          0.0017012005016480306,
          0.0017563051468916274,
          0.0015617696732913465,
          0.0016376741928141474,
          0.001842610144994171,
          0.0018004559781035407,
          0.0016353121816869937,
          0.0016678978761138878,
          0.0018588520171924055,
          0.0019607946607123872,
          0.0019010598576682115,
          0.0017753365117747688,
          0.0017207697196698441,
          0.0017878547505069907,
          0.0019191214584193502,
          0.0020400897167482616,
          0.002114719259446121,
          0.002141400733405221,
          0.002134954254011159,
          0.0021133043773086243,
          0.002090678980679198,
          0.0020756521748378663,
          0.002072032910798536,
          0.0020809112188087137,
          0.0021021520191126116,
          0.0021356672922490825,
          0.0021826798020696103,
          0.00224293387610061,
          0.0023142892834577505,
          0.002391425242454622,
          0.0024624094642568244,
          0.0025095689303808503,
          0.002514059044538254,
          0.0024635032329882703,
          0.002366205177825281,
          0.0022690849634074864,
          0.0022532669898910683,
          0.00237410519975895,
          0.0025812244459447018,
          0.002737183949439921,
          0.0027225081460833253,
          0.00254549532927779,
          0.002410026108053748,
          0.0025496774574210947,
          0.0028341557250236003,
          0.0029110473236653527,
          0.0026879028990617155,
          0.0025474285792076324,
          0.0028251439130404284,
          0.0030681220553078602,
          0.0028680431321861494,
          0.0026622750187210065,
          0.002995870550219445,
          0.0031891942440706216,
          0.002858273063009025,
          0.002884569944083609,
          0.003303385784176244,
          0.003098317947864215,
          0.0029055063004543597,
          0.0033817143777785026,
          0.003242898718874301,
          0.0030023445026666935,
          0.0035135743031256433,
          0.0032787978665097233,
          0.00317687153280331,
          0.0036632706232109357,
          0.0032184320441080855,
          0.0035036159798293846,
          0.003664077030580372,
          0.0032660583318897393,
          0.003862411834522064,
          0.0034192533040859085,
          0.003739022430833618,
          0.0037806097852101463,
          0.003553950732145146,
          0.004055357265869522,
          0.0035112087055727587,
          0.004178033502704163,
          0.003621613126091405,
          0.004207227634470952,
          0.0038003007461678796,
          0.004213311843201455,
          0.00397468535376306,
          0.00423949924210724,
          0.00411264245537375,
          0.004308680285926599,
          0.004199517654616669,
          0.004430447043879289,
          0.004236852406676568,
          0.0045923042927748904,
          0.004241483402138431,
          0.004778676214708533,
          0.0042286734109438584,
          0.004959888122444468,
          0.004251852047317996,
          0.005047229089523187,
          0.004441465827912103,
          0.0049944635289275886,
          0.004843165573173663,
          0.004776013759324915,
          0.0052768734894102776,
          0.004613630800252112,
          0.005468079059109214,
          0.004866563147713713,
          0.005237253813128052,
          0.005462533255105886,
          0.004890712932036062,
          0.005770366428122768,
          0.00517030713486244,
          0.005412011364072367,
          0.005882850649814753,
          0.005120460020702633,
          0.005922305873760465,
          0.005808517507765969,
          0.005343679721892334,
          0.006262071335005967,
          0.005769656935523113,
          0.005646284846570525,
          0.006496640629432732,
          0.005839142891156507,
          0.00590261710698392,
          0.006706131454935004,
          0.006013946768613743,
          0.006069485132854055,
          0.006916646560264859,
          0.006294350438470526,
          0.006145845821070438,
          0.0070884137084029734,
          0.006694387342033242,
          0.0061877979838460846,
          0.007123711074676488,
          0.007177593427591079,
          0.006347896577819933,
          0.006917295381787219,
          0.0075469049215230784,
          0.006781412096911913,
          0.006555576938290129,
          0.0075786040726437565,
          0.0076016372382398095,
          0.00679308960424606,
          0.0072942289054292765,
          0.008223934825276492,
          0.0078070807905996015,
          0.007064140494324164,
          0.007770303787345753,
          0.008560919229079374,
          0.008058868754712073,
          0.007391466934398385,
          0.008043784057569864,
          0.008794083516190997,
          0.00842815320632035,
          0.007837110813809146,
          0.008360091755145545,
          0.009133605882727503,
          0.008916464527907356,
          0.0081960610414052,
          0.008380325334182438,
          0.009201655165913928,
          0.00921430071781104,
          0.008166062878860727,
          0.007389423509768563,
          0.007938850037205472,
          0.008589022220513826,
          0.008029776478522712,
          0.006536543943097907,
          0.005918731639043543,
          0.006971304253578481,
          0.007859733830929557,
          0.0074536726552637735,
          0.006408854112114526,
          0.0067505838274906785,
          0.008737716135860666,
          0.010493418672196542,
          0.011007953671184626,
          0.01064324278278521,
          0.010803891272830093,
          0.012437307001898658,
          0.014748731228812546,
          0.01652484663938905,
          0.01733423237671026,
          0.01764190128214379,
          0.018347521308136452,
          0.01989748156775566,
          0.02184671512368938,
          0.02343008133891811,
          0.02425325210944152,
          0.024512147233169076,
          0.024796185821500085,
          0.02560452660041865,
          0.026921063409929325,
          0.028283109445756495,
          0.02921400305336035,
          0.02955824441997861,
          0.029540553890113966,
          0.02958848718266682,
          0.030024731963393527,
          0.03083877886256978,
          0.031731574963825754,
          0.03236401058915445,
          0.03257889481183165,
          0.03247156987990197,
          0.03231094672830639,
          0.03236494837231699,
          0.03272965231082659,
          0.03327973821032639,
          0.0337695696149378,
          0.0339921879296105,
          0.03388926484868036,
          0.03356957393058395,
          0.03324251009809397,
          0.03309896095192328,
          0.033199711918482165,
          0.03344072436069675,
          0.03361635286794905,
          0.033531507703243486,
          0.03309575417344702,
          0.03236280650436297,
          0.031507442391043874,
          0.030745255196146515,
          0.030219710399620618,
          0.029912572968308012,
          0.029638853353780466,
          0.029132545756166948,
          0.028167857549660835,
          0.026658332078644632,
          0.024709095438810568,
          0.02261202291223608,
          0.021416703047098088,
          0.02039469155425083,
          0.019603133949077377,
          0.019052996032241424,
          0.018716158698136063,
          0.018567597226534005,
          0.018663481734933055,
          0.019239989387681317,
          0.02077792679088053,
          0.02392303613782123,
          0.029242466260782942,
          0.0370474152658264,
          0.04743392685080427,
          0.060396776906868274,
          0.07588960472162296,
          0.09383552602742985,
          0.11412004939913566,
          0.1365823741937209,
          0.16100998421236085,
          0.18713753337325348,
          0.21464999264172446,
          0.24318979344522623,
          0.2723676019087063,
          0.30177617735063417,
          0.46221685398475604,
          0.566875315986596,
          0.6311089997342813,
          0.6767372441605076,
          0.7086948389404261,
          0.733134803613063,
          0.7527832859153017,
          0.7673378052697448,
          0.779567483943593,
          0.7898940796730455,
          0.7975273815998049,
          0.8044017408054667,
          0.8101862078969672,
          0.8142070597690281,
          0.8180867081351779,
          0.8210895916570238,
          0.8227916628309075,
          0.8246210195162315,
          0.8255554863637609,
          0.825452539249159,
          0.8255554863637609,
          0.8246210195162315,
          0.8227916628309075,
          0.8210895916570238,
          0.8180867081351779,
          0.8142070597690281,
          0.8101862078969672,
          0.8044017408054667,
          0.7975273815998049,
          0.7898940796730455,
          0.779567483943593,
          0.7673378052697448,
          0.7527832859153017,
          0.733134803613063,
          0.7086948389404261,
          0.6767372441605076,
          0.6311089997342813,
          0.566875315986596,
          0.46221685398475604,
          0.30177617735063417,
          0.2723676019087063,
          0.24318979344522623,
          0.21464999264172446,
          0.18713753337325348,
          0.16100998421236085,
          0.1365823741937209,
          0.11412004939913566,
          0.09383552602742985,
          0.07588960472162296,
          0.060396776906868274,
          0.04743392685080427,
          0.0370474152658264,
          0.029242466260782942,
          0.02392303613782123,
          0.02077792679088053,
          0.019239989387681317,
          0.018663481734933055,
          0.018567597226534005,
          0.018716158698136063,
          0.019052996032241424,
          0.019603133949077377,
          0.02039469155425083,
          0.021416703047098088,
          0.02261202291223608,
          0.024709095438810568,
          0.026658332078644632,
          0.028167857549660835,
          0.029132545756166948,
          0.029638853353780466,
          0.029912572968308012,
          0.030219710399620618,
          0.030745255196146515,
          0.031507442391043874,
          0.03236280650436297,
          0.03309575417344702,
          0.033531507703243486,
          0.03361635286794905,
          0.03344072436069675,
          0.033199711918482165,
          0.03309896095192328,
          0.03324251009809397,
          0.03356957393058395,
          0.03388926484868036,
          0.0339921879296105,
          0.0337695696149378,
          0.03327973821032639,
          0.03272965231082659,
          0.03236494837231699,
          0.03231094672830639,
          0.03247156987990197,
          0.03257889481183165,
          0.03236401058915445,
          0.031731574963825754,
          0.03083877886256978,
          0.030024731963393527,
          0.02958848718266682,
          0.029540553890113966,
          0.02955824441997861,
          0.02921400305336035,
          0.028283109445756495,
          0.026921063409929325,
          0.02560452660041865,
          0.024796185821500085,
          0.024512147233169076,
          0.02425325210944152,
          0.02343008133891811,
          0.02184671512368938,
          0.01989748156775566,
          0.018347521308136452,
          0.01764190128214379,
          0.01733423237671026,
          0.01652484663938905,
          0.014748731228812546,
          0.012437307001898658,
          0.010803891272830093,
          0.01064324278278521,
          0.011007953671184626,
          0.010493418672196542,
          0.008737716135860666,
          0.0067505838274906785,
          0.006408854112114526,
          0.0074536726552637735,
          0.007859733830929557,
          0.006971304253578481,
          0.005918731639043543,
          0.006536543943097907,
          0.008029776478522712,
          0.008589022220513826,
          0.007938850037205472,
          0.007389423509768563,
          0.008166062878860727,
          0.00921430071781104,
          0.009201655165913928,
          0.008380325334182438,
          0.0081960610414052,
          0.008916464527907356,
          0.009133605882727503,
          0.008360091755145545,
          0.007837110813809146,
          0.00842815320632035,
          0.008794083516190997,
          0.008043784057569864,
          0.007391466934398385,
          0.008058868754712073,
          0.008560919229079374,
          0.007770303787345753,
          0.007064140494324164,
          0.0078070807905996015,
          0.008223934825276492,
          0.0072942289054292765,
          0.00679308960424606,
          0.0076016372382398095,
          0.0075786040726437565,
          0.006555576938290129,
          0.006781412096911913,
          0.0075469049215230784,
          0.006917295381787219,
          0.006347896577819933,
          0.007177593427591079,
          0.007123711074676488,
          0.0061877979838460846,
          0.006694387342033242,
          0.0070884137084029734,
          0.006145845821070438,
          0.006294350438470526,
          0.006916646560264859,
          0.006069485132854055,
          0.006013946768613743,
          0.006706131454935004,
          0.00590261710698392,
          0.005839142891156507,
          0.006496640629432732,
          0.005646284846570525,
          0.005769656935523113,
          0.006262071335005967,
          0.005343679721892334,
          0.005808517507765969,
          0.005922305873760465,
          0.005120460020702633,
          0.005882850649814753,
          0.005412011364072367,
          0.00517030713486244,
          0.005770366428122768,
          0.004890712932036062,
          0.005462533255105886,
          0.005237253813128052,
          0.004866563147713713,
          0.005468079059109214,
          0.004613630800252112,
          0.0052768734894102776,
          0.004776013759324915,
          0.004843165573173663,
          0.0049944635289275886,
          0.004441465827912103,
          0.005047229089523187,
          0.004251852047317996,
          0.004959888122444468,
          0.0042286734109438584,
          0.004778676214708533,
          0.004241483402138431,
          0.0045923042927748904,
          0.004236852406676568,
          0.004430447043879289,
          0.004199517654616669,
          0.004308680285926599,
          0.00411264245537375,
          0.00423949924210724,
          0.00397468535376306,
          0.004213311843201455,
          0.0038003007461678796,
          0.004207227634470952,
          0.003621613126091405,
          0.004178033502704163,
          0.0035112087055727587,
          0.004055357265869522,
          0.003553950732145146,
          0.0037806097852101463,
          0.003739022430833618,
          0.0034192533040859085,
          0.003862411834522064,
          0.0032660583318897393,
          0.003664077030580372,
          0.0035036159798293846,
          0.0032184320441080855,
          0.0036632706232109357,
          0.00317687153280331,
          0.0032787978665097233,
          0.0035135743031256433,
          0.0030023445026666935,
          0.003242898718874301,
          0.0033817143777785026,
          0.0029055063004543597,
          0.003098317947864215,
          0.003303385784176244,
          0.002884569944083609,
          0.002858273063009025,
          0.0031891942440706216,
          0.002995870550219445,
          0.0026622750187210065,
          0.0028680431321861494,
          0.0030681220553078602,
          0.0028251439130404284,
          0.0025474285792076324,
          0.0026879028990617155,
          0.0029110473236653527,
          0.0028341557250236003,
          0.0025496774574210947,
          0.002410026108053748,
          0.00254549532927779,
          0.0027225081460833253,
          0.002737183949439921,
          0.0025812244459447018,
          0.00237410519975895,
          0.0022532669898910683,
          0.0022690849634074864,
          0.002366205177825281,
          0.0024635032329882703,
          0.002514059044538254,
          0.0025095689303808503,
          0.0024624094642568244,
          0.002391425242454622,
          0.0023142892834577505,
          0.00224293387610061,
          0.0021826798020696103,
          0.0021356672922490825,
          0.0021021520191126116,
          0.0020809112188087137,
          0.002072032910798536,
          0.0020756521748378663,
          0.002090678980679198,
          0.0021133043773086243,
          0.002134954254011159,
          0.002141400733405221,
          0.002114719259446121,
          0.0020400897167482616,
          0.0019191214584193502,
          0.0017878547505069907,
          0.0017207697196698441,
          0.0017753365117747688,
          0.0019010598576682115,
          0.0019607946607123872,
          0.0018588520171924055,
          0.0016678978761138878,
          0.0016353121816869937,
          0.0018004559781035407,
          0.001842610144994171,
          0.0016376741928141474,
          0.0015617696732913465,
          0.0017563051468916274,
          0.0017012005016480306,
          0.0014864049940456223,
          0.0016617482399218766,
          0.001652941207062993,
          0.0014384496909262863,
          0.001652145856783079,
          0.0015036301733758015,
          0.0014772840530804673,
          0.001588195859289544,
          0.0013666557945359826,
          0.001582492958694827,
          0.001328177502815425,
          0.0015459483949631801,
          0.0012990871704050843,
          0.0015128899750819751,
          0.0012727788361513745,
          0.0014601602645432775,
          0.001302877877055749,
          0.0013305994442338424,
          0.0014001498068273734,
          0.0011990561662176148,
          0.0013554808361761928,
          0.0013240762459469366,
          0.001158909736678941
         ],
         "yaxis": "y"
        }
       ],
       "layout": {
        "legend": {
         "title": {
          "text": "variable"
         },
         "tracegroupgap": 0
        },
        "template": {
         "data": {
          "bar": [
           {
            "error_x": {
             "color": "#2a3f5f"
            },
            "error_y": {
             "color": "#2a3f5f"
            },
            "marker": {
             "line": {
              "color": "#E5ECF6",
              "width": 0.5
             },
             "pattern": {
              "fillmode": "overlay",
              "size": 10,
              "solidity": 0.2
             }
            },
            "type": "bar"
           }
          ],
          "barpolar": [
           {
            "marker": {
             "line": {
              "color": "#E5ECF6",
              "width": 0.5
             },
             "pattern": {
              "fillmode": "overlay",
              "size": 10,
              "solidity": 0.2
             }
            },
            "type": "barpolar"
           }
          ],
          "carpet": [
           {
            "aaxis": {
             "endlinecolor": "#2a3f5f",
             "gridcolor": "white",
             "linecolor": "white",
             "minorgridcolor": "white",
             "startlinecolor": "#2a3f5f"
            },
            "baxis": {
             "endlinecolor": "#2a3f5f",
             "gridcolor": "white",
             "linecolor": "white",
             "minorgridcolor": "white",
             "startlinecolor": "#2a3f5f"
            },
            "type": "carpet"
           }
          ],
          "choropleth": [
           {
            "colorbar": {
             "outlinewidth": 0,
             "ticks": ""
            },
            "type": "choropleth"
           }
          ],
          "contour": [
           {
            "colorbar": {
             "outlinewidth": 0,
             "ticks": ""
            },
            "colorscale": [
             [
              0,
              "#0d0887"
             ],
             [
              0.1111111111111111,
              "#46039f"
             ],
             [
              0.2222222222222222,
              "#7201a8"
             ],
             [
              0.3333333333333333,
              "#9c179e"
             ],
             [
              0.4444444444444444,
              "#bd3786"
             ],
             [
              0.5555555555555556,
              "#d8576b"
             ],
             [
              0.6666666666666666,
              "#ed7953"
             ],
             [
              0.7777777777777778,
              "#fb9f3a"
             ],
             [
              0.8888888888888888,
              "#fdca26"
             ],
             [
              1,
              "#f0f921"
             ]
            ],
            "type": "contour"
           }
          ],
          "contourcarpet": [
           {
            "colorbar": {
             "outlinewidth": 0,
             "ticks": ""
            },
            "type": "contourcarpet"
           }
          ],
          "heatmap": [
           {
            "colorbar": {
             "outlinewidth": 0,
             "ticks": ""
            },
            "colorscale": [
             [
              0,
              "#0d0887"
             ],
             [
              0.1111111111111111,
              "#46039f"
             ],
             [
              0.2222222222222222,
              "#7201a8"
             ],
             [
              0.3333333333333333,
              "#9c179e"
             ],
             [
              0.4444444444444444,
              "#bd3786"
             ],
             [
              0.5555555555555556,
              "#d8576b"
             ],
             [
              0.6666666666666666,
              "#ed7953"
             ],
             [
              0.7777777777777778,
              "#fb9f3a"
             ],
             [
              0.8888888888888888,
              "#fdca26"
             ],
             [
              1,
              "#f0f921"
             ]
            ],
            "type": "heatmap"
           }
          ],
          "heatmapgl": [
           {
            "colorbar": {
             "outlinewidth": 0,
             "ticks": ""
            },
            "colorscale": [
             [
              0,
              "#0d0887"
             ],
             [
              0.1111111111111111,
              "#46039f"
             ],
             [
              0.2222222222222222,
              "#7201a8"
             ],
             [
              0.3333333333333333,
              "#9c179e"
             ],
             [
              0.4444444444444444,
              "#bd3786"
             ],
             [
              0.5555555555555556,
              "#d8576b"
             ],
             [
              0.6666666666666666,
              "#ed7953"
             ],
             [
              0.7777777777777778,
              "#fb9f3a"
             ],
             [
              0.8888888888888888,
              "#fdca26"
             ],
             [
              1,
              "#f0f921"
             ]
            ],
            "type": "heatmapgl"
           }
          ],
          "histogram": [
           {
            "marker": {
             "pattern": {
              "fillmode": "overlay",
              "size": 10,
              "solidity": 0.2
             }
            },
            "type": "histogram"
           }
          ],
          "histogram2d": [
           {
            "colorbar": {
             "outlinewidth": 0,
             "ticks": ""
            },
            "colorscale": [
             [
              0,
              "#0d0887"
             ],
             [
              0.1111111111111111,
              "#46039f"
             ],
             [
              0.2222222222222222,
              "#7201a8"
             ],
             [
              0.3333333333333333,
              "#9c179e"
             ],
             [
              0.4444444444444444,
              "#bd3786"
             ],
             [
              0.5555555555555556,
              "#d8576b"
             ],
             [
              0.6666666666666666,
              "#ed7953"
             ],
             [
              0.7777777777777778,
              "#fb9f3a"
             ],
             [
              0.8888888888888888,
              "#fdca26"
             ],
             [
              1,
              "#f0f921"
             ]
            ],
            "type": "histogram2d"
           }
          ],
          "histogram2dcontour": [
           {
            "colorbar": {
             "outlinewidth": 0,
             "ticks": ""
            },
            "colorscale": [
             [
              0,
              "#0d0887"
             ],
             [
              0.1111111111111111,
              "#46039f"
             ],
             [
              0.2222222222222222,
              "#7201a8"
             ],
             [
              0.3333333333333333,
              "#9c179e"
             ],
             [
              0.4444444444444444,
              "#bd3786"
             ],
             [
              0.5555555555555556,
              "#d8576b"
             ],
             [
              0.6666666666666666,
              "#ed7953"
             ],
             [
              0.7777777777777778,
              "#fb9f3a"
             ],
             [
              0.8888888888888888,
              "#fdca26"
             ],
             [
              1,
              "#f0f921"
             ]
            ],
            "type": "histogram2dcontour"
           }
          ],
          "mesh3d": [
           {
            "colorbar": {
             "outlinewidth": 0,
             "ticks": ""
            },
            "type": "mesh3d"
           }
          ],
          "parcoords": [
           {
            "line": {
             "colorbar": {
              "outlinewidth": 0,
              "ticks": ""
             }
            },
            "type": "parcoords"
           }
          ],
          "pie": [
           {
            "automargin": true,
            "type": "pie"
           }
          ],
          "scatter": [
           {
            "fillpattern": {
             "fillmode": "overlay",
             "size": 10,
             "solidity": 0.2
            },
            "type": "scatter"
           }
          ],
          "scatter3d": [
           {
            "line": {
             "colorbar": {
              "outlinewidth": 0,
              "ticks": ""
             }
            },
            "marker": {
             "colorbar": {
              "outlinewidth": 0,
              "ticks": ""
             }
            },
            "type": "scatter3d"
           }
          ],
          "scattercarpet": [
           {
            "marker": {
             "colorbar": {
              "outlinewidth": 0,
              "ticks": ""
             }
            },
            "type": "scattercarpet"
           }
          ],
          "scattergeo": [
           {
            "marker": {
             "colorbar": {
              "outlinewidth": 0,
              "ticks": ""
             }
            },
            "type": "scattergeo"
           }
          ],
          "scattergl": [
           {
            "marker": {
             "colorbar": {
              "outlinewidth": 0,
              "ticks": ""
             }
            },
            "type": "scattergl"
           }
          ],
          "scattermapbox": [
           {
            "marker": {
             "colorbar": {
              "outlinewidth": 0,
              "ticks": ""
             }
            },
            "type": "scattermapbox"
           }
          ],
          "scatterpolar": [
           {
            "marker": {
             "colorbar": {
              "outlinewidth": 0,
              "ticks": ""
             }
            },
            "type": "scatterpolar"
           }
          ],
          "scatterpolargl": [
           {
            "marker": {
             "colorbar": {
              "outlinewidth": 0,
              "ticks": ""
             }
            },
            "type": "scatterpolargl"
           }
          ],
          "scatterternary": [
           {
            "marker": {
             "colorbar": {
              "outlinewidth": 0,
              "ticks": ""
             }
            },
            "type": "scatterternary"
           }
          ],
          "surface": [
           {
            "colorbar": {
             "outlinewidth": 0,
             "ticks": ""
            },
            "colorscale": [
             [
              0,
              "#0d0887"
             ],
             [
              0.1111111111111111,
              "#46039f"
             ],
             [
              0.2222222222222222,
              "#7201a8"
             ],
             [
              0.3333333333333333,
              "#9c179e"
             ],
             [
              0.4444444444444444,
              "#bd3786"
             ],
             [
              0.5555555555555556,
              "#d8576b"
             ],
             [
              0.6666666666666666,
              "#ed7953"
             ],
             [
              0.7777777777777778,
              "#fb9f3a"
             ],
             [
              0.8888888888888888,
              "#fdca26"
             ],
             [
              1,
              "#f0f921"
             ]
            ],
            "type": "surface"
           }
          ],
          "table": [
           {
            "cells": {
             "fill": {
              "color": "#EBF0F8"
             },
             "line": {
              "color": "white"
             }
            },
            "header": {
             "fill": {
              "color": "#C8D4E3"
             },
             "line": {
              "color": "white"
             }
            },
            "type": "table"
           }
          ]
         },
         "layout": {
          "annotationdefaults": {
           "arrowcolor": "#2a3f5f",
           "arrowhead": 0,
           "arrowwidth": 1
          },
          "autotypenumbers": "strict",
          "coloraxis": {
           "colorbar": {
            "outlinewidth": 0,
            "ticks": ""
           }
          },
          "colorscale": {
           "diverging": [
            [
             0,
             "#8e0152"
            ],
            [
             0.1,
             "#c51b7d"
            ],
            [
             0.2,
             "#de77ae"
            ],
            [
             0.3,
             "#f1b6da"
            ],
            [
             0.4,
             "#fde0ef"
            ],
            [
             0.5,
             "#f7f7f7"
            ],
            [
             0.6,
             "#e6f5d0"
            ],
            [
             0.7,
             "#b8e186"
            ],
            [
             0.8,
             "#7fbc41"
            ],
            [
             0.9,
             "#4d9221"
            ],
            [
             1,
             "#276419"
            ]
           ],
           "sequential": [
            [
             0,
             "#0d0887"
            ],
            [
             0.1111111111111111,
             "#46039f"
            ],
            [
             0.2222222222222222,
             "#7201a8"
            ],
            [
             0.3333333333333333,
             "#9c179e"
            ],
            [
             0.4444444444444444,
             "#bd3786"
            ],
            [
             0.5555555555555556,
             "#d8576b"
            ],
            [
             0.6666666666666666,
             "#ed7953"
            ],
            [
             0.7777777777777778,
             "#fb9f3a"
            ],
            [
             0.8888888888888888,
             "#fdca26"
            ],
            [
             1,
             "#f0f921"
            ]
           ],
           "sequentialminus": [
            [
             0,
             "#0d0887"
            ],
            [
             0.1111111111111111,
             "#46039f"
            ],
            [
             0.2222222222222222,
             "#7201a8"
            ],
            [
             0.3333333333333333,
             "#9c179e"
            ],
            [
             0.4444444444444444,
             "#bd3786"
            ],
            [
             0.5555555555555556,
             "#d8576b"
            ],
            [
             0.6666666666666666,
             "#ed7953"
            ],
            [
             0.7777777777777778,
             "#fb9f3a"
            ],
            [
             0.8888888888888888,
             "#fdca26"
            ],
            [
             1,
             "#f0f921"
            ]
           ]
          },
          "colorway": [
           "#636efa",
           "#EF553B",
           "#00cc96",
           "#ab63fa",
           "#FFA15A",
           "#19d3f3",
           "#FF6692",
           "#B6E880",
           "#FF97FF",
           "#FECB52"
          ],
          "font": {
           "color": "#2a3f5f"
          },
          "geo": {
           "bgcolor": "white",
           "lakecolor": "white",
           "landcolor": "#E5ECF6",
           "showlakes": true,
           "showland": true,
           "subunitcolor": "white"
          },
          "hoverlabel": {
           "align": "left"
          },
          "hovermode": "closest",
          "mapbox": {
           "style": "light"
          },
          "paper_bgcolor": "white",
          "plot_bgcolor": "#E5ECF6",
          "polar": {
           "angularaxis": {
            "gridcolor": "white",
            "linecolor": "white",
            "ticks": ""
           },
           "bgcolor": "#E5ECF6",
           "radialaxis": {
            "gridcolor": "white",
            "linecolor": "white",
            "ticks": ""
           }
          },
          "scene": {
           "xaxis": {
            "backgroundcolor": "#E5ECF6",
            "gridcolor": "white",
            "gridwidth": 2,
            "linecolor": "white",
            "showbackground": true,
            "ticks": "",
            "zerolinecolor": "white"
           },
           "yaxis": {
            "backgroundcolor": "#E5ECF6",
            "gridcolor": "white",
            "gridwidth": 2,
            "linecolor": "white",
            "showbackground": true,
            "ticks": "",
            "zerolinecolor": "white"
           },
           "zaxis": {
            "backgroundcolor": "#E5ECF6",
            "gridcolor": "white",
            "gridwidth": 2,
            "linecolor": "white",
            "showbackground": true,
            "ticks": "",
            "zerolinecolor": "white"
           }
          },
          "shapedefaults": {
           "line": {
            "color": "#2a3f5f"
           }
          },
          "ternary": {
           "aaxis": {
            "gridcolor": "white",
            "linecolor": "white",
            "ticks": ""
           },
           "baxis": {
            "gridcolor": "white",
            "linecolor": "white",
            "ticks": ""
           },
           "bgcolor": "#E5ECF6",
           "caxis": {
            "gridcolor": "white",
            "linecolor": "white",
            "ticks": ""
           }
          },
          "title": {
           "x": 0.05
          },
          "xaxis": {
           "automargin": true,
           "gridcolor": "white",
           "linecolor": "white",
           "ticks": "",
           "title": {
            "standoff": 15
           },
           "zerolinecolor": "white",
           "zerolinewidth": 2
          },
          "yaxis": {
           "automargin": true,
           "gridcolor": "white",
           "linecolor": "white",
           "ticks": "",
           "title": {
            "standoff": 15
           },
           "zerolinecolor": "white",
           "zerolinewidth": 2
          }
         }
        },
        "title": {
         "text": "Tranverse Magenetization"
        },
        "xaxis": {
         "anchor": "y",
         "domain": [
          0,
          1
         ],
         "title": {
          "text": "x"
         }
        },
        "yaxis": {
         "anchor": "x",
         "domain": [
          0,
          1
         ],
         "title": {
          "text": "value"
         }
        }
       }
      }
     },
     "metadata": {},
     "output_type": "display_data"
    },
    {
     "data": {
      "application/vnd.plotly.v1+json": {
       "config": {
        "plotlyServerURL": "https://plot.ly"
       },
       "data": [
        {
         "hovertemplate": "variable=wide_variable_0<br>x=%{x}<br>value=%{y}<extra></extra>",
         "legendgroup": "wide_variable_0",
         "line": {
          "color": "#636efa",
          "dash": "solid"
         },
         "marker": {
          "symbol": "circle"
         },
         "mode": "lines",
         "name": "wide_variable_0",
         "showlegend": true,
         "type": "scattergl",
         "x": [
          -10,
          -9.8876475392,
          -9.776557386,
          -9.6667153579,
          -9.5581074321,
          -9.4507197431,
          -9.3445385811,
          -9.2395503907,
          -9.1357417684,
          -9.0330994615,
          -8.9316103662,
          -8.8312615259,
          -8.7320401295,
          -8.6339335098,
          -8.5369291422,
          -8.4410146426,
          -8.3461777659,
          -8.2524064049,
          -8.1596885882,
          -8.068012479,
          -7.9773663734,
          -7.8877386991,
          -7.7991180139,
          -7.7114930038,
          -7.6248524822,
          -7.5391853883,
          -7.4544807852,
          -7.3707278592,
          -7.2879159179,
          -7.2060343892,
          -7.1250728196,
          -7.0450208731,
          -6.96586833,
          -6.8876050852,
          -6.8102211471,
          -6.7337066367,
          -6.6580517856,
          -6.5832469354,
          -6.5092825361,
          -6.436149145,
          -6.3638374256,
          -6.2923381461,
          -6.2216421786,
          -6.1517404977,
          -6.0826241794,
          -6.0142844,
          -5.9467124347,
          -5.8798996572,
          -5.8138375376,
          -5.7485176422,
          -5.6839316319,
          -5.6200712613,
          -5.5569283777,
          -5.49449492,
          -5.4327629175,
          -5.3717244892,
          -5.3113718427,
          -5.251697273,
          -5.1926931618,
          -5.1343519764,
          -5.0766662685,
          -5.0196286737,
          -4.9632319103,
          -4.9074687784,
          -4.8523321591,
          -4.7978150132,
          -4.7439103809,
          -4.6906113804,
          -4.6379112073,
          -4.5858031336,
          -4.5342805069,
          -4.4833367496,
          -4.432965358,
          -4.3831599013,
          -4.3339140213,
          -4.2852214307,
          -4.2370759135,
          -4.1894713229,
          -4.1424015817,
          -4.0958606805,
          -4.0498426779,
          -4.0043416988,
          -3.9593519345,
          -3.9148676412,
          -3.8708831399,
          -3.8273928152,
          -3.7843911151,
          -3.7418725497,
          -3.6998316908,
          -3.6582631713,
          -3.6171616844,
          -3.5765219827,
          -3.5363388781,
          -3.4966072406,
          -3.4573219978,
          -3.4184781344,
          -3.3800706914,
          -3.3420947654,
          -3.3045455083,
          -3.2674181263,
          -3.2307078796,
          -3.1944100816,
          -3.1585200982,
          -3.1230333477,
          -3.0879452995,
          -3.0532514742,
          -3.0189474426,
          -2.9850288251,
          -2.9514912917,
          -2.9183305608,
          -2.8855423988,
          -2.8531226199,
          -2.8210670851,
          -2.7893717022,
          -2.7580324248,
          -2.7270452518,
          -2.6964062273,
          -2.6661114398,
          -2.6361570217,
          -2.6065391489,
          -2.5772540401,
          -2.5482979568,
          -2.5196672022,
          -2.4913581211,
          -2.4633670995,
          -2.435690564,
          -2.4083249811,
          -2.3812668573,
          -2.3545127382,
          -2.3280592082,
          -2.3019028901,
          -2.2760404447,
          -2.2504685702,
          -2.225184002,
          -2.2001835122,
          -2.175463909,
          -2.1510220367,
          -2.1268547748,
          -2.102959038,
          -2.0793317757,
          -2.0559699715,
          -2.032870643,
          -2.0100308411,
          -1.9874476499,
          -1.9651181865,
          -1.9430396001,
          -1.9212090721,
          -1.8996238154,
          -1.8782810744,
          -1.8571781243,
          -1.836312271,
          -1.8156808508,
          -1.7952812296,
          -1.7751108033,
          -1.7551669966,
          -1.7354472634,
          -1.7159490864,
          -1.6966699761,
          -1.6776074714,
          -1.6587591387,
          -1.6401225716,
          -1.6216953909,
          -1.6034752441,
          -1.5854598052,
          -1.5676467741,
          -1.5500338768,
          -1.5326188648,
          -1.5153995147,
          -1.4983736282,
          -1.4815390318,
          -1.4648935762,
          -1.4484351364,
          -1.4321616112,
          -1.4160709231,
          -1.4001610178,
          -1.3844298642,
          -1.368875454,
          -1.3534958014,
          -1.338288943,
          -1.3232529374,
          -1.3083858651,
          -1.2936858279,
          -1.2791509493,
          -1.2647793736,
          -1.2505692661,
          -1.2365188127,
          -1.2226262195,
          -1.2088897131,
          -1.1953075397,
          -1.1818779653,
          -1.1685992756,
          -1.1554697751,
          -1.1424877879,
          -1.1296516564,
          -1.1169597421,
          -1.1044104245,
          -1.0920021016,
          -1.0797331893,
          -1.0676021212,
          -1.0556073487,
          -1.0437473403,
          -1.0320205821,
          -1.0204255769,
          -1.0089608445,
          -0.9976249211,
          -0.9864163596,
          -0.9753337291,
          -0.9643756146,
          -0.9535406173,
          -0.9428273538,
          -0.9322344565,
          -0.921760573,
          -0.9114043661,
          -0.9011645138,
          -0.8910397087,
          -0.8810286583,
          -0.8711300845,
          -0.8613427237,
          -0.8516653262,
          -0.8420966567,
          -0.8326354935,
          -0.8232806289,
          -0.8140308684,
          -0.8048850313,
          -0.7958419499,
          -0.7869004697,
          -0.7780594493,
          -0.7693177599,
          -0.7606742856,
          -0.7521279228,
          -0.7436775805,
          -0.7353221799,
          -0.7270606543,
          -0.7188919489,
          -0.710815021,
          -0.7028288393,
          -0.6949323843,
          -0.687124648,
          -0.6794046335,
          -0.6717713552,
          -0.6642238387,
          -0.6567611205,
          -0.6493822477,
          -0.6420862783,
          -0.634872281,
          -0.6277393347,
          -0.6206865288,
          -0.6137129629,
          -0.6068177467,
          -0.6,
          -0.5958333333,
          -0.5916666667,
          -0.5875,
          -0.5833333333,
          -0.5791666667,
          -0.575,
          -0.5708333333,
          -0.5666666667,
          -0.5625,
          -0.5583333333,
          -0.5541666667,
          -0.55,
          -0.5458333333,
          -0.5416666667,
          -0.5375,
          -0.5333333333,
          -0.5291666667,
          -0.525,
          -0.5208333333,
          -0.5166666667,
          -0.5125,
          -0.5083333333,
          -0.5041666667,
          -0.5,
          -0.475,
          -0.45,
          -0.425,
          -0.4,
          -0.375,
          -0.35,
          -0.325,
          -0.3,
          -0.275,
          -0.25,
          -0.225,
          -0.2,
          -0.175,
          -0.15,
          -0.125,
          -0.1,
          -0.075,
          -0.05,
          -0.025,
          0,
          0.025,
          0.05,
          0.075,
          0.1,
          0.125,
          0.15,
          0.175,
          0.2,
          0.225,
          0.25,
          0.275,
          0.3,
          0.325,
          0.35,
          0.375,
          0.4,
          0.425,
          0.45,
          0.475,
          0.5,
          0.5041666667,
          0.5083333333,
          0.5125,
          0.5166666667,
          0.5208333333,
          0.525,
          0.5291666667,
          0.5333333333,
          0.5375,
          0.5416666667,
          0.5458333333,
          0.55,
          0.5541666667,
          0.5583333333,
          0.5625,
          0.5666666667,
          0.5708333333,
          0.575,
          0.5791666667,
          0.5833333333,
          0.5875,
          0.5916666667,
          0.5958333333,
          0.6,
          0.6068177467,
          0.6137129629,
          0.6206865288,
          0.6277393347,
          0.634872281,
          0.6420862783,
          0.6493822477,
          0.6567611205,
          0.6642238387,
          0.6717713552,
          0.6794046335,
          0.687124648,
          0.6949323843,
          0.7028288393,
          0.710815021,
          0.7188919489,
          0.7270606543,
          0.7353221799,
          0.7436775805,
          0.7521279228,
          0.7606742856,
          0.7693177599,
          0.7780594493,
          0.7869004697,
          0.7958419499,
          0.8048850313,
          0.8140308684,
          0.8232806289,
          0.8326354935,
          0.8420966567,
          0.8516653262,
          0.8613427237,
          0.8711300845,
          0.8810286583,
          0.8910397087,
          0.9011645138,
          0.9114043661,
          0.921760573,
          0.9322344565,
          0.9428273538,
          0.9535406173,
          0.9643756146,
          0.9753337291,
          0.9864163596,
          0.9976249211,
          1.0089608445,
          1.0204255769,
          1.0320205821,
          1.0437473403,
          1.0556073487,
          1.0676021212,
          1.0797331893,
          1.0920021016,
          1.1044104245,
          1.1169597421,
          1.1296516564,
          1.1424877879,
          1.1554697751,
          1.1685992756,
          1.1818779653,
          1.1953075397,
          1.2088897131,
          1.2226262195,
          1.2365188127,
          1.2505692661,
          1.2647793736,
          1.2791509493,
          1.2936858279,
          1.3083858651,
          1.3232529374,
          1.338288943,
          1.3534958014,
          1.368875454,
          1.3844298642,
          1.4001610178,
          1.4160709231,
          1.4321616112,
          1.4484351364,
          1.4648935762,
          1.4815390318,
          1.4983736282,
          1.5153995147,
          1.5326188648,
          1.5500338768,
          1.5676467741,
          1.5854598052,
          1.6034752441,
          1.6216953909,
          1.6401225716,
          1.6587591387,
          1.6776074714,
          1.6966699761,
          1.7159490864,
          1.7354472634,
          1.7551669966,
          1.7751108033,
          1.7952812296,
          1.8156808508,
          1.836312271,
          1.8571781243,
          1.8782810744,
          1.8996238154,
          1.9212090721,
          1.9430396001,
          1.9651181865,
          1.9874476499,
          2.0100308411,
          2.032870643,
          2.0559699715,
          2.0793317757,
          2.102959038,
          2.1268547748,
          2.1510220367,
          2.175463909,
          2.2001835122,
          2.225184002,
          2.2504685702,
          2.2760404447,
          2.3019028901,
          2.3280592082,
          2.3545127382,
          2.3812668573,
          2.4083249811,
          2.435690564,
          2.4633670995,
          2.4913581211,
          2.5196672022,
          2.5482979568,
          2.5772540401,
          2.6065391489,
          2.6361570217,
          2.6661114398,
          2.6964062273,
          2.7270452518,
          2.7580324248,
          2.7893717022,
          2.8210670851,
          2.8531226199,
          2.8855423988,
          2.9183305608,
          2.9514912917,
          2.9850288251,
          3.0189474426,
          3.0532514742,
          3.0879452995,
          3.1230333477,
          3.1585200982,
          3.1944100816,
          3.2307078796,
          3.2674181263,
          3.3045455083,
          3.3420947654,
          3.3800706914,
          3.4184781344,
          3.4573219978,
          3.4966072406,
          3.5363388781,
          3.5765219827,
          3.6171616844,
          3.6582631713,
          3.6998316908,
          3.7418725497,
          3.7843911151,
          3.8273928152,
          3.8708831399,
          3.9148676412,
          3.9593519345,
          4.0043416988,
          4.0498426779,
          4.0958606805,
          4.1424015817,
          4.1894713229,
          4.2370759135,
          4.2852214307,
          4.3339140213,
          4.3831599013,
          4.432965358,
          4.4833367496,
          4.5342805069,
          4.5858031336,
          4.6379112073,
          4.6906113804,
          4.7439103809,
          4.7978150132,
          4.8523321591,
          4.9074687784,
          4.9632319103,
          5.0196286737,
          5.0766662685,
          5.1343519764,
          5.1926931618,
          5.251697273,
          5.3113718427,
          5.3717244892,
          5.4327629175,
          5.49449492,
          5.5569283777,
          5.6200712613,
          5.6839316319,
          5.7485176422,
          5.8138375376,
          5.8798996572,
          5.9467124347,
          6.0142844,
          6.0826241794,
          6.1517404977,
          6.2216421786,
          6.2923381461,
          6.3638374256,
          6.436149145,
          6.5092825361,
          6.5832469354,
          6.6580517856,
          6.7337066367,
          6.8102211471,
          6.8876050852,
          6.96586833,
          7.0450208731,
          7.1250728196,
          7.2060343892,
          7.2879159179,
          7.3707278592,
          7.4544807852,
          7.5391853883,
          7.6248524822,
          7.7114930038,
          7.7991180139,
          7.8877386991,
          7.9773663734,
          8.068012479,
          8.1596885882,
          8.2524064049,
          8.3461777659,
          8.4410146426,
          8.5369291422,
          8.6339335098,
          8.7320401295,
          8.8312615259,
          8.9316103662,
          9.0330994615,
          9.1357417684,
          9.2395503907,
          9.3445385811,
          9.4507197431,
          9.5581074321,
          9.6667153579,
          9.776557386,
          9.8876475392,
          10
         ],
         "xaxis": "x",
         "y": [
          3.1121555565159276,
          3.0429562699722585,
          3.180772474999334,
          3.1176278370267463,
          3.0659237641979913,
          3.205204643309574,
          3.049999741464102,
          3.170036590324004,
          3.107056620135615,
          3.1295664488890007,
          3.1449617487750055,
          3.1198961933245997,
          3.144687179529712,
          3.1422620018490925,
          3.1075619900167695,
          3.192148331582663,
          3.062286088718345,
          3.2242796860820504,
          3.0986566130787274,
          3.133484044173705,
          3.214970364529726,
          3.0773187603071728,
          3.156672970561112,
          3.222693404291081,
          3.0991159443897933,
          3.107692277296574,
          3.233464289357556,
          3.18786639940182,
          3.0882825748693916,
          3.1121863373972936,
          3.2224600489993764,
          3.235064197486417,
          3.160978916932886,
          3.094311755419443,
          3.0966079807787485,
          3.1645592494382133,
          3.2328071581161906,
          3.2542706861624544,
          3.2345435979715234,
          3.196543457632105,
          3.157968346714297,
          3.1280763991742857,
          3.109636269089361,
          3.1013337205042326,
          3.099914592914218,
          3.101863529555656,
          3.10444652526878,
          3.1061659351694035,
          3.1065301062980715,
          3.1068678463359207,
          3.109320189940376,
          3.1168370726940373,
          3.1324813638788123,
          3.1583527697363065,
          3.1938560519251875,
          3.234360225153286,
          3.2692798012725626,
          3.282136796978461,
          3.2558074022424086,
          3.192392079490759,
          3.1338584839255175,
          3.129896334501699,
          3.1853648015975007,
          3.2607314356102273,
          3.2916654983952895,
          3.2279030157075894,
          3.1403749516476456,
          3.156245945695715,
          3.250525224310252,
          3.298955314891246,
          3.209018632676523,
          3.1394254198233664,
          3.2223230131170015,
          3.3062580125676764,
          3.2181459305663562,
          3.148514642708093,
          3.2575271633719787,
          3.3010336174562007,
          3.165068071758991,
          3.2070361716825384,
          3.317409237553746,
          3.199001615021802,
          3.1916295388997784,
          3.320597138587531,
          3.2048007868721027,
          3.205191303381464,
          3.3274309655068044,
          3.1823523503214375,
          3.2502562138816353,
          3.3102896421611736,
          3.171054095297317,
          3.3184242109951834,
          3.2275911549732608,
          3.2363190591524895,
          3.32401790112466,
          3.1822156626984355,
          3.340270522116512,
          3.1986537902485326,
          3.3011345552762323,
          3.258289688789506,
          3.2547023770460703,
          3.313382640424226,
          3.222569695819012,
          3.3453585493486675,
          3.2074409477070307,
          3.359624639213111,
          3.2041660011555004,
          3.3660125205972524,
          3.2062386060699892,
          3.3695179502286896,
          3.2124572681217574,
          3.3712850080448025,
          3.223751777935516,
          3.366012945165247,
          3.2447980903495006,
          3.3461723847738227,
          3.2819789298082545,
          3.309553827136836,
          3.3340800337201153,
          3.2576532929981807,
          3.3822174585370544,
          3.233333387740066,
          3.3974521687613084,
          3.2665200511011894,
          3.3449100658772277,
          3.3454572855291054,
          3.26224889574004,
          3.4097801558251297,
          3.261796900824788,
          3.3721354854012695,
          3.35482968032083,
          3.2696142893845135,
          3.424375337539237,
          3.2943712561486147,
          3.3402719500320646,
          3.4107730505905574,
          3.272677296436621,
          3.401487336660408,
          3.383945149088501,
          3.2808884797838065,
          3.433807861883476,
          3.36857565223061,
          3.29689092414441,
          3.4493140957738273,
          3.369894284684477,
          3.3070836031338953,
          3.457052090585706,
          3.387712967218465,
          3.310054082265967,
          3.4550927039994335,
          3.420951213594827,
          3.3153011435655313,
          3.4329179039658846,
          3.463552638929962,
          3.340036156457732,
          3.384876429978817,
          3.4944525814191953,
          3.396682956443317,
          3.3390789985907556,
          3.4722811809462217,
          3.4717772369748463,
          3.352859750484578,
          3.3873051544698125,
          3.522640112130574,
          3.4691290831059574,
          3.3800855230206244,
          3.4610930485455413,
          3.549483185397371,
          3.469530566937107,
          3.394906466925328,
          3.4802657393217693,
          3.5580585495559256,
          3.485094964841652,
          3.41014389489137,
          3.4750230705180947,
          3.563602523644604,
          3.51593682099768,
          3.430627364678018,
          3.447384214144023,
          3.5401780418360227,
          3.5383979726877235,
          3.4578142807053456,
          3.426490493843663,
          3.50831606179658,
          3.576086087956762,
          3.534895291712358,
          3.4645371664446434,
          3.4707725446291886,
          3.5554832842775923,
          3.5871218283263584,
          3.5310661214843426,
          3.474194647816525,
          3.5080711416929686,
          3.609537040735301,
          3.635502266495995,
          3.561271786111511,
          3.472895907170615,
          3.475200460189233,
          3.6104715895510466,
          3.722509865943426,
          3.692289071658657,
          3.583244418612884,
          3.495536116294308,
          3.5315086774061784,
          3.7142680881151766,
          3.8472226648369268,
          3.826161301716257,
          3.7294973158747133,
          3.65100040370022,
          3.676880813992014,
          3.8354534522384722,
          3.983798822288573,
          4.004940250704463,
          3.9435896780464703,
          3.877227987567395,
          3.8728237610116447,
          3.964799472447487,
          4.091205711142207,
          4.14606568092042,
          4.116192193704618,
          4.049500814664404,
          4.0014709210520145,
          4.02666063171117,
          4.154036241322377,
          4.318859002761029,
          4.412800092486332,
          4.420272019441444,
          4.38495327306466,
          4.352903840257612,
          4.361558697010696,
          4.4312567441424875,
          4.543409605118397,
          4.645033978187517,
          4.702906042288094,
          4.725423997518807,
          4.739153152206438,
          4.769485991528512,
          4.830697708016568,
          4.918307718517225,
          5.011910112776737,
          5.094178503259723,
          5.16556145627787,
          5.240350200507233,
          5.334017514758804,
          5.450954447327272,
          5.580592452947552,
          5.712236672193427,
          5.859823398146954,
          6.076841609296277,
          6.429137875198065,
          6.686382304517728,
          6.9060044381596395,
          7.0518069865658495,
          7.1275854564464804,
          7.15116575760831,
          7.138517342827171,
          7.100867282183961,
          7.045694197042945,
          6.978010126777242,
          6.901269181706497,
          6.817941139259717,
          6.729867128600946,
          6.638483435475243,
          6.544965793852121,
          6.450324479986486,
          6.3554674458795635,
          6.261241114216151,
          6.168454179274999,
          6.077887296037281,
          5.99029014868849,
          5.9063668533405185,
          5.826750585981234,
          5.751968714664893,
          5.682400802881148,
          5.3675587052146065,
          5.107052118327212,
          4.787252597423706,
          4.484482843454501,
          4.234434594636044,
          3.9854417127333055,
          3.7523507938702454,
          3.5508658468644083,
          3.3501555191160866,
          3.160305823610079,
          2.9857104393686833,
          2.8102008374229683,
          2.6450268962562715,
          2.484886563157568,
          2.324901419220155,
          2.175213735486179,
          2.0204976559089536,
          1.8664753264236134,
          1.7240870374732762,
          1.5707963267948966,
          1.4175056161165172,
          1.27511732716618,
          1.1210949976808395,
          0.9663789181036144,
          0.816691234369638,
          0.656706090432225,
          0.49656575733352154,
          0.33139181616682495,
          0.15588221422111015,
          -0.018713170020285975,
          -0.20856286552629352,
          -0.4092731932746153,
          -0.6107581402804523,
          -0.8438490591435126,
          -1.0928419410462507,
          -1.3428901898647072,
          -1.645659943833913,
          -1.9654594647374193,
          -2.225966051624814,
          -2.5408081492913546,
          -2.6103760610751006,
          -2.6851579323914407,
          -2.7647741997507254,
          -2.848697495098697,
          -2.936294642447488,
          -3.0268615256852063,
          -3.119648460626358,
          -3.21387479228977,
          -3.3087318263966927,
          -3.403373140262328,
          -3.49689078188545,
          -3.588274475011153,
          -3.6763484856699233,
          -3.759676528116704,
          -3.8364174731874487,
          -3.9041015434531516,
          -3.9592746285941676,
          -3.9969246892373786,
          -4.009573104018517,
          -3.985992802856687,
          -3.9102143329760564,
          -3.7644117845698464,
          -3.544789650927935,
          -3.287545221608272,
          -2.9352489557064843,
          -2.7182307445571614,
          -2.5706440186036343,
          -2.4389997993577586,
          -2.3093617937374793,
          -2.1924248611690107,
          -2.0987575469174407,
          -2.023968802688077,
          -1.9525858496699302,
          -1.8703174591869438,
          -1.776715064927432,
          -1.6891050544267752,
          -1.6278933379387195,
          -1.5975604986166447,
          -1.5838313439290144,
          -1.5613133886983015,
          -1.503441324597724,
          -1.4018169515286039,
          -1.289664090552695,
          -1.219966043420903,
          -1.21131118666782,
          -1.2433606194748672,
          -1.2786793658516509,
          -1.2712074388965395,
          -1.1772663491712367,
          -1.0124435877325837,
          -0.8850679781213775,
          -0.8598782674622212,
          -0.9079081610746101,
          -0.9745995401148247,
          -1.0044730273306266,
          -0.9496130575524139,
          -0.8232068188576942,
          -0.7312311074218516,
          -0.7356353339776021,
          -0.8019970244566774,
          -0.8633475971146702,
          -0.8422061686987801,
          -0.6938607986486792,
          -0.5352881604022207,
          -0.5094077501104273,
          -0.5879046622849201,
          -0.6845686481264638,
          -0.7056300112471338,
          -0.5726754345253836,
          -0.3899160238163855,
          -0.35394346270451493,
          -0.44165176502309095,
          -0.550696418068864,
          -0.5809172123536329,
          -0.4688789359612537,
          -0.3336078065994401,
          -0.33130325358082213,
          -0.4196791325217179,
          -0.49390961290620183,
          -0.4679443871455077,
          -0.36647848810317574,
          -0.3326019942267323,
          -0.3894734678945495,
          -0.4455291747365652,
          -0.41389063068779924,
          -0.3291798910393958,
          -0.32294451285485054,
          -0.39330263812256494,
          -0.43449343436696913,
          -0.3667234082067873,
          -0.2848978402538703,
          -0.3162216271155527,
          -0.3968053190979305,
          -0.3985853882462299,
          -0.30579156055423,
          -0.2890347110882248,
          -0.37434416740788684,
          -0.42200987005481116,
          -0.3334304169283018,
          -0.2685512413015772,
          -0.34350231125185887,
          -0.4164658959661324,
          -0.3386730857319764,
          -0.25331381333553477,
          -0.3279379133473139,
          -0.407890531807578,
          -0.31950039495574856,
          -0.2384928694308312,
          -0.32753642951616424,
          -0.3810474585407813,
          -0.24571250088001953,
          -0.21126709689478512,
          -0.3301845833850535,
          -0.33068852735642895,
          -0.19748634500096265,
          -0.25509030285352435,
          -0.3528599278294025,
          -0.24328377638902443,
          -0.19844350286793927,
          -0.321959985340169,
          -0.2913252503760917,
          -0.17370848997573823,
          -0.27935856000503356,
          -0.31350005040964035,
          -0.168461428676174,
          -0.24612031362867182,
          -0.315459436995913,
          -0.1654909495441021,
          -0.22830163109468374,
          -0.3077214421840344,
          -0.1552982705546171,
          -0.2269829986408169,
          -0.2922152082936828,
          -0.1392958261940137,
          -0.24235249549870772,
          -0.2598946830706151,
          -0.13108464284682775,
          -0.2691803970007644,
          -0.19867929644227159,
          -0.15277860255882172,
          -0.2827826839494439,
          -0.12802163579472048,
          -0.21323702673103706,
          -0.2305428318114763,
          -0.12020424723499508,
          -0.26818750223533666,
          -0.12065624215024703,
          -0.2038646319393123,
          -0.20331741228743477,
          -0.12492739751139635,
          -0.2558595151715155,
          -0.09174073415027303,
          -0.24062480494726154,
          -0.11606063940838769,
          -0.19248738013032216,
          -0.16796117354704307,
          -0.14038627621846161,
          -0.20457973118402967,
          -0.10320543675970759,
          -0.22442029157545412,
          -0.08215912434572287,
          -0.22969235445500943,
          -0.0708646145319644,
          -0.2279252966388965,
          -0.06464595248019608,
          -0.22441986700745942,
          -0.06257334756570726,
          -0.21803198562331827,
          -0.0658482941172379,
          -0.2037658957588746,
          -0.08097704222921924,
          -0.17178998683443272,
          -0.11310972345627747,
          -0.11669703519971274,
          -0.15954190168643947,
          -0.05706113665873953,
          -0.1986778685267192,
          -0.04062300910864227,
          -0.18242524753486697,
          -0.09472640556269665,
          -0.08599850138346787,
          -0.17683155740539017,
          -0.02946144170752396,
          -0.16869698857138063,
          -0.10866356029184236,
          -0.0407596967316446,
          -0.1858383119170116,
          -0.0635986497916711,
          -0.06320813328230962,
          -0.17900448499773788,
          -0.05003688530998539,
          -0.057408961432008736,
          -0.17581658396395314,
          -0.06544351809274547,
          -0.02347541816919813,
          -0.15944096386640771,
          -0.11593450978218568,
          -0.006921989118299907,
          -0.07655327697656325,
          -0.16466535897788337,
          -0.08073035952720839,
          0.002167233766426887,
          -0.06742597908673105,
          -0.1573626613014538,
          -0.10893257072045984,
          -0.01465329210592253,
          0.0012177019421469794,
          -0.08631036211779718,
          -0.15007284480549743,
          -0.11913878202043518,
          -0.043772148007708636,
          0.011696319088093592,
          0.007734169664275039,
          -0.050799425900967275,
          -0.1142147486526164,
          -0.14054414338866902,
          -0.12768714768277034,
          -0.09276757156349374,
          -0.052263398335395436,
          -0.016760116146514632,
          0.009111289710980304,
          0.02475558089575524,
          0.032272463649415994,
          0.03472480725387145,
          0.03506254729172092,
          0.03542671842038894,
          0.0371461283210123,
          0.03972912403413621,
          0.04167806067557467,
          0.04025893308555954,
          0.03195638450043124,
          0.013516254415506529,
          -0.016375693124505188,
          -0.05495080404231262,
          -0.09295094438173118,
          -0.11267803257266222,
          -0.09121450452639839,
          -0.02296659584842131,
          0.04498467281104402,
          0.047280898170349736,
          -0.01938626334309306,
          -0.09347154389662377,
          -0.08086739540958346,
          0.029406316192499615,
          0.053310078720401416,
          -0.04627374581202711,
          -0.09187163576776276,
          0.0339003762932194,
          0.042476709199999796,
          -0.08110075070128708,
          -0.015080316971317785,
          0.06427389328262118,
          -0.0733777109399323,
          0.008108609416089062,
          0.04293604051106657,
          -0.08268703249225648,
          0.07930656487144926,
          -0.05055567799286929,
          0.034030663573024866,
          -0.0006693482592984803,
          -0.003094525939918318,
          0.021696460265194437,
          -0.003369095185211784,
          0.012026204700793566,
          0.03453603345417924,
          -0.028443936734210164,
          0.09159291212569216,
          -0.06361198971978113,
          0.075668889391802,
          0.023964816563047088,
          -0.03917982140954072,
          0.09863638361753463,
          0.02943709707386545
         ],
         "yaxis": "y"
        },
        {
         "hovertemplate": "variable=wide_variable_1<br>x=%{x}<br>value=%{y}<extra></extra>",
         "legendgroup": "wide_variable_1",
         "line": {
          "color": "#EF553B",
          "dash": "solid"
         },
         "marker": {
          "symbol": "circle"
         },
         "mode": "lines",
         "name": "wide_variable_1",
         "showlegend": true,
         "type": "scattergl",
         "x": [
          -10,
          -9.8876475392,
          -9.776557386,
          -9.6667153579,
          -9.5581074321,
          -9.4507197431,
          -9.3445385811,
          -9.2395503907,
          -9.1357417684,
          -9.0330994615,
          -8.9316103662,
          -8.8312615259,
          -8.7320401295,
          -8.6339335098,
          -8.5369291422,
          -8.4410146426,
          -8.3461777659,
          -8.2524064049,
          -8.1596885882,
          -8.068012479,
          -7.9773663734,
          -7.8877386991,
          -7.7991180139,
          -7.7114930038,
          -7.6248524822,
          -7.5391853883,
          -7.4544807852,
          -7.3707278592,
          -7.2879159179,
          -7.2060343892,
          -7.1250728196,
          -7.0450208731,
          -6.96586833,
          -6.8876050852,
          -6.8102211471,
          -6.7337066367,
          -6.6580517856,
          -6.5832469354,
          -6.5092825361,
          -6.436149145,
          -6.3638374256,
          -6.2923381461,
          -6.2216421786,
          -6.1517404977,
          -6.0826241794,
          -6.0142844,
          -5.9467124347,
          -5.8798996572,
          -5.8138375376,
          -5.7485176422,
          -5.6839316319,
          -5.6200712613,
          -5.5569283777,
          -5.49449492,
          -5.4327629175,
          -5.3717244892,
          -5.3113718427,
          -5.251697273,
          -5.1926931618,
          -5.1343519764,
          -5.0766662685,
          -5.0196286737,
          -4.9632319103,
          -4.9074687784,
          -4.8523321591,
          -4.7978150132,
          -4.7439103809,
          -4.6906113804,
          -4.6379112073,
          -4.5858031336,
          -4.5342805069,
          -4.4833367496,
          -4.432965358,
          -4.3831599013,
          -4.3339140213,
          -4.2852214307,
          -4.2370759135,
          -4.1894713229,
          -4.1424015817,
          -4.0958606805,
          -4.0498426779,
          -4.0043416988,
          -3.9593519345,
          -3.9148676412,
          -3.8708831399,
          -3.8273928152,
          -3.7843911151,
          -3.7418725497,
          -3.6998316908,
          -3.6582631713,
          -3.6171616844,
          -3.5765219827,
          -3.5363388781,
          -3.4966072406,
          -3.4573219978,
          -3.4184781344,
          -3.3800706914,
          -3.3420947654,
          -3.3045455083,
          -3.2674181263,
          -3.2307078796,
          -3.1944100816,
          -3.1585200982,
          -3.1230333477,
          -3.0879452995,
          -3.0532514742,
          -3.0189474426,
          -2.9850288251,
          -2.9514912917,
          -2.9183305608,
          -2.8855423988,
          -2.8531226199,
          -2.8210670851,
          -2.7893717022,
          -2.7580324248,
          -2.7270452518,
          -2.6964062273,
          -2.6661114398,
          -2.6361570217,
          -2.6065391489,
          -2.5772540401,
          -2.5482979568,
          -2.5196672022,
          -2.4913581211,
          -2.4633670995,
          -2.435690564,
          -2.4083249811,
          -2.3812668573,
          -2.3545127382,
          -2.3280592082,
          -2.3019028901,
          -2.2760404447,
          -2.2504685702,
          -2.225184002,
          -2.2001835122,
          -2.175463909,
          -2.1510220367,
          -2.1268547748,
          -2.102959038,
          -2.0793317757,
          -2.0559699715,
          -2.032870643,
          -2.0100308411,
          -1.9874476499,
          -1.9651181865,
          -1.9430396001,
          -1.9212090721,
          -1.8996238154,
          -1.8782810744,
          -1.8571781243,
          -1.836312271,
          -1.8156808508,
          -1.7952812296,
          -1.7751108033,
          -1.7551669966,
          -1.7354472634,
          -1.7159490864,
          -1.6966699761,
          -1.6776074714,
          -1.6587591387,
          -1.6401225716,
          -1.6216953909,
          -1.6034752441,
          -1.5854598052,
          -1.5676467741,
          -1.5500338768,
          -1.5326188648,
          -1.5153995147,
          -1.4983736282,
          -1.4815390318,
          -1.4648935762,
          -1.4484351364,
          -1.4321616112,
          -1.4160709231,
          -1.4001610178,
          -1.3844298642,
          -1.368875454,
          -1.3534958014,
          -1.338288943,
          -1.3232529374,
          -1.3083858651,
          -1.2936858279,
          -1.2791509493,
          -1.2647793736,
          -1.2505692661,
          -1.2365188127,
          -1.2226262195,
          -1.2088897131,
          -1.1953075397,
          -1.1818779653,
          -1.1685992756,
          -1.1554697751,
          -1.1424877879,
          -1.1296516564,
          -1.1169597421,
          -1.1044104245,
          -1.0920021016,
          -1.0797331893,
          -1.0676021212,
          -1.0556073487,
          -1.0437473403,
          -1.0320205821,
          -1.0204255769,
          -1.0089608445,
          -0.9976249211,
          -0.9864163596,
          -0.9753337291,
          -0.9643756146,
          -0.9535406173,
          -0.9428273538,
          -0.9322344565,
          -0.921760573,
          -0.9114043661,
          -0.9011645138,
          -0.8910397087,
          -0.8810286583,
          -0.8711300845,
          -0.8613427237,
          -0.8516653262,
          -0.8420966567,
          -0.8326354935,
          -0.8232806289,
          -0.8140308684,
          -0.8048850313,
          -0.7958419499,
          -0.7869004697,
          -0.7780594493,
          -0.7693177599,
          -0.7606742856,
          -0.7521279228,
          -0.7436775805,
          -0.7353221799,
          -0.7270606543,
          -0.7188919489,
          -0.710815021,
          -0.7028288393,
          -0.6949323843,
          -0.687124648,
          -0.6794046335,
          -0.6717713552,
          -0.6642238387,
          -0.6567611205,
          -0.6493822477,
          -0.6420862783,
          -0.634872281,
          -0.6277393347,
          -0.6206865288,
          -0.6137129629,
          -0.6068177467,
          -0.6,
          -0.5958333333,
          -0.5916666667,
          -0.5875,
          -0.5833333333,
          -0.5791666667,
          -0.575,
          -0.5708333333,
          -0.5666666667,
          -0.5625,
          -0.5583333333,
          -0.5541666667,
          -0.55,
          -0.5458333333,
          -0.5416666667,
          -0.5375,
          -0.5333333333,
          -0.5291666667,
          -0.525,
          -0.5208333333,
          -0.5166666667,
          -0.5125,
          -0.5083333333,
          -0.5041666667,
          -0.5,
          -0.475,
          -0.45,
          -0.425,
          -0.4,
          -0.375,
          -0.35,
          -0.325,
          -0.3,
          -0.275,
          -0.25,
          -0.225,
          -0.2,
          -0.175,
          -0.15,
          -0.125,
          -0.1,
          -0.075,
          -0.05,
          -0.025,
          0,
          0.025,
          0.05,
          0.075,
          0.1,
          0.125,
          0.15,
          0.175,
          0.2,
          0.225,
          0.25,
          0.275,
          0.3,
          0.325,
          0.35,
          0.375,
          0.4,
          0.425,
          0.45,
          0.475,
          0.5,
          0.5041666667,
          0.5083333333,
          0.5125,
          0.5166666667,
          0.5208333333,
          0.525,
          0.5291666667,
          0.5333333333,
          0.5375,
          0.5416666667,
          0.5458333333,
          0.55,
          0.5541666667,
          0.5583333333,
          0.5625,
          0.5666666667,
          0.5708333333,
          0.575,
          0.5791666667,
          0.5833333333,
          0.5875,
          0.5916666667,
          0.5958333333,
          0.6,
          0.6068177467,
          0.6137129629,
          0.6206865288,
          0.6277393347,
          0.634872281,
          0.6420862783,
          0.6493822477,
          0.6567611205,
          0.6642238387,
          0.6717713552,
          0.6794046335,
          0.687124648,
          0.6949323843,
          0.7028288393,
          0.710815021,
          0.7188919489,
          0.7270606543,
          0.7353221799,
          0.7436775805,
          0.7521279228,
          0.7606742856,
          0.7693177599,
          0.7780594493,
          0.7869004697,
          0.7958419499,
          0.8048850313,
          0.8140308684,
          0.8232806289,
          0.8326354935,
          0.8420966567,
          0.8516653262,
          0.8613427237,
          0.8711300845,
          0.8810286583,
          0.8910397087,
          0.9011645138,
          0.9114043661,
          0.921760573,
          0.9322344565,
          0.9428273538,
          0.9535406173,
          0.9643756146,
          0.9753337291,
          0.9864163596,
          0.9976249211,
          1.0089608445,
          1.0204255769,
          1.0320205821,
          1.0437473403,
          1.0556073487,
          1.0676021212,
          1.0797331893,
          1.0920021016,
          1.1044104245,
          1.1169597421,
          1.1296516564,
          1.1424877879,
          1.1554697751,
          1.1685992756,
          1.1818779653,
          1.1953075397,
          1.2088897131,
          1.2226262195,
          1.2365188127,
          1.2505692661,
          1.2647793736,
          1.2791509493,
          1.2936858279,
          1.3083858651,
          1.3232529374,
          1.338288943,
          1.3534958014,
          1.368875454,
          1.3844298642,
          1.4001610178,
          1.4160709231,
          1.4321616112,
          1.4484351364,
          1.4648935762,
          1.4815390318,
          1.4983736282,
          1.5153995147,
          1.5326188648,
          1.5500338768,
          1.5676467741,
          1.5854598052,
          1.6034752441,
          1.6216953909,
          1.6401225716,
          1.6587591387,
          1.6776074714,
          1.6966699761,
          1.7159490864,
          1.7354472634,
          1.7551669966,
          1.7751108033,
          1.7952812296,
          1.8156808508,
          1.836312271,
          1.8571781243,
          1.8782810744,
          1.8996238154,
          1.9212090721,
          1.9430396001,
          1.9651181865,
          1.9874476499,
          2.0100308411,
          2.032870643,
          2.0559699715,
          2.0793317757,
          2.102959038,
          2.1268547748,
          2.1510220367,
          2.175463909,
          2.2001835122,
          2.225184002,
          2.2504685702,
          2.2760404447,
          2.3019028901,
          2.3280592082,
          2.3545127382,
          2.3812668573,
          2.4083249811,
          2.435690564,
          2.4633670995,
          2.4913581211,
          2.5196672022,
          2.5482979568,
          2.5772540401,
          2.6065391489,
          2.6361570217,
          2.6661114398,
          2.6964062273,
          2.7270452518,
          2.7580324248,
          2.7893717022,
          2.8210670851,
          2.8531226199,
          2.8855423988,
          2.9183305608,
          2.9514912917,
          2.9850288251,
          3.0189474426,
          3.0532514742,
          3.0879452995,
          3.1230333477,
          3.1585200982,
          3.1944100816,
          3.2307078796,
          3.2674181263,
          3.3045455083,
          3.3420947654,
          3.3800706914,
          3.4184781344,
          3.4573219978,
          3.4966072406,
          3.5363388781,
          3.5765219827,
          3.6171616844,
          3.6582631713,
          3.6998316908,
          3.7418725497,
          3.7843911151,
          3.8273928152,
          3.8708831399,
          3.9148676412,
          3.9593519345,
          4.0043416988,
          4.0498426779,
          4.0958606805,
          4.1424015817,
          4.1894713229,
          4.2370759135,
          4.2852214307,
          4.3339140213,
          4.3831599013,
          4.432965358,
          4.4833367496,
          4.5342805069,
          4.5858031336,
          4.6379112073,
          4.6906113804,
          4.7439103809,
          4.7978150132,
          4.8523321591,
          4.9074687784,
          4.9632319103,
          5.0196286737,
          5.0766662685,
          5.1343519764,
          5.1926931618,
          5.251697273,
          5.3113718427,
          5.3717244892,
          5.4327629175,
          5.49449492,
          5.5569283777,
          5.6200712613,
          5.6839316319,
          5.7485176422,
          5.8138375376,
          5.8798996572,
          5.9467124347,
          6.0142844,
          6.0826241794,
          6.1517404977,
          6.2216421786,
          6.2923381461,
          6.3638374256,
          6.436149145,
          6.5092825361,
          6.5832469354,
          6.6580517856,
          6.7337066367,
          6.8102211471,
          6.8876050852,
          6.96586833,
          7.0450208731,
          7.1250728196,
          7.2060343892,
          7.2879159179,
          7.3707278592,
          7.4544807852,
          7.5391853883,
          7.6248524822,
          7.7114930038,
          7.7991180139,
          7.8877386991,
          7.9773663734,
          8.068012479,
          8.1596885882,
          8.2524064049,
          8.3461777659,
          8.4410146426,
          8.5369291422,
          8.6339335098,
          8.7320401295,
          8.8312615259,
          8.9316103662,
          9.0330994615,
          9.1357417684,
          9.2395503907,
          9.3445385811,
          9.4507197431,
          9.5581074321,
          9.6667153579,
          9.776557386,
          9.8876475392,
          10
         ],
         "xaxis": "x",
         "y": [
          3.0786439853462686,
          3.0132953707881063,
          3.153800741210555,
          3.0917676709422612,
          3.0439986503668255,
          3.1851100337377027,
          3.03189933673708,
          3.1553155180546715,
          3.0930181875496836,
          3.1195106382933426,
          3.1353483104798094,
          3.11425109528421,
          3.1393879011627686,
          3.1409322534743938,
          3.106545758592791,
          3.1948411581430856,
          3.066087849422773,
          3.23022391016225,
          3.107531313783657,
          3.1425395038713506,
          3.2276276018796,
          3.0918588538762104,
          3.171589134837642,
          3.2411786307817763,
          3.1197498151380767,
          3.128581752366493,
          3.2568016507672906,
          3.2144325882179277,
          3.116322061483778,
          3.1406311665665156,
          3.2529312969791984,
          3.2687635389267498,
          3.197053940222316,
          3.131716097301019,
          3.1347384955463258,
          3.2038648558378937,
          3.2744243613936606,
          3.2986608011797784,
          3.2814812036897267,
          3.2456562420612194,
          3.208950861102057,
          3.180724131910302,
          3.163841356612473,
          3.1570725052421644,
          3.157228269607303,
          3.160838132207365,
          3.165182518845997,
          3.1685529839547137,
          3.1709259865023354,
          3.1733093878232657,
          3.1779632993707883,
          3.18766606492797,
          3.2054842117988334,
          3.2336485669163935,
          3.2713356018581474,
          3.313602553732117,
          3.3500002246286518,
          3.3639689742813497,
          3.3384922596648834,
          3.2765813275061233,
          3.2208556468330225,
          3.2202756414032936,
          3.278588592862711,
          3.355713308222925,
          3.387185101311638,
          3.3239295247378715,
          3.239404735027934,
          3.259251617093946,
          3.355938896715123,
          3.4046665703641588,
          3.315221879108223,
          3.2498279091002984,
          3.336329600094883,
          3.4208687169391956,
          3.332769589313949,
          3.2678222402749606,
          3.380167773211156,
          3.423210669819044,
          3.2893022913513583,
          3.3364157057871395,
          3.4474814102511138,
          3.3292964478460827,
          3.3277013244213483,
          3.457896613682682,
          3.3420014858935687,
          3.348488184675495,
          3.471310716025389,
          3.327340753775097,
          3.4011051450747414,
          3.4600253975242854,
          3.3252211148066655,
          3.476129167955956,
          3.3842002858102833,
          3.3999111388137226,
          3.4866903325177847,
          3.3497495401158672,
          3.5106642973464215,
          3.3696507646336142,
          3.4783621168790626,
          3.433943937932923,
          3.4377876525321427,
          3.4948807233592682,
          3.411431853334869,
          3.5325866394283487,
          3.4015301972633454,
          3.552445025665945,
          3.402777341775535,
          3.5649651519125496,
          3.4094446377684062,
          3.575514922981321,
          3.4211093418556873,
          3.582102458974507,
          3.4400982526532875,
          3.5814199724016604,
          3.467934431523516,
          3.5676694315934747,
          3.509689625242177,
          3.5327304857995037,
          3.56931797472343,
          3.494073069920944,
          3.628091975909774,
          3.4801680710668763,
          3.6470284223541727,
          3.5224115581018136,
          3.5985708198409467,
          3.6091500234071825,
          3.5244382077434757,
          3.678762706218559,
          3.5355838827948207,
          3.644840988838765,
          3.6380850591109697,
          3.5517331341964895,
          3.712644978336165,
          3.589578064577777,
          3.6330786123649568,
          3.7144075214010606,
          3.579142286560422,
          3.7082697204300694,
          3.7021083346269528,
          3.599311122957735,
          3.7557090029983717,
          3.7010497497535693,
          3.6284311314426185,
          3.786008776451656,
          3.716765122086695,
          3.6527096901171405,
          3.8077340830782913,
          3.7490927925357727,
          3.6706972763413344,
          3.8189525549839174,
          3.7968510458325535,
          3.6922714964738916,
          3.809962354842501,
          3.853779835293182,
          3.734740331827256,
          3.777702107347867,
          3.900014768627841,
          3.8126244555983777,
          3.7592514100690346,
          3.9117183157057736,
          3.9334949421656127,
          3.826055443525189,
          3.8664345003896248,
          4.000562594976076,
          3.9431436436623266,
          3.8470820401632717,
          3.928977920643243,
          4.039009860185545,
          3.9701893158756816,
          3.891296991997163,
          3.9744223978765634,
          4.074964319334507,
          4.022283531654531,
          3.9544132756026005,
          4.01657284607338,
          4.107674657747654,
          4.069086664854691,
          3.9927753162840935,
          4.0195707347942,
          4.117595199254977,
          4.107316381493088,
          4.010441294358498,
          3.9717257947291347,
          4.091137161199244,
          4.205986293877231,
          4.161791967339223,
          4.065636609412314,
          4.099466563036787,
          4.369710045843087,
          4.551625095517908,
          4.522975668196832,
          4.473816798529393,
          4.602867474541648,
          4.912214829372066,
          5.043654455251552,
          4.994473213212292,
          4.920850179079747,
          4.9335057099604285,
          5.059203955721894,
          5.171079900008431,
          5.176409591493165,
          5.117773991354729,
          5.0614992806896035,
          5.0490188573422214,
          5.076525162013963,
          5.098188064065103,
          5.0805881764877645,
          5.031923868800952,
          4.979998667829196,
          4.94900678090036,
          4.945639641080332,
          4.954158453565889,
          4.950992386442889,
          4.926725956398779,
          4.889742487257069,
          4.855759655907279,
          4.837331764727322,
          4.836695238441065,
          4.84431800992224,
          4.846573798872875,
          4.836565742996818,
          4.817490675298076,
          4.79836009834004,
          4.787963985792041,
          4.790077102394906,
          4.801312280258583,
          4.81343323913004,
          4.819210698020349,
          4.816942331147136,
          4.810508649036664,
          4.806434950407101,
          4.810389016042431,
          4.8243286253008035,
          4.845307790939595,
          4.867076282381609,
          4.883930139325919,
          4.894028659180757,
          4.900060387483851,
          4.9076912475289385,
          4.923148414184028,
          4.950642621707622,
          4.990123996085884,
          5.036653148023861,
          5.082772643595863,
          5.122957928083396,
          5.156997215008321,
          5.190590703174095,
          5.234177403741941,
          5.301206154648768,
          5.40532305618923,
          5.492098403221484,
          5.597045866744357,
          5.718465403535746,
          5.853777179564678,
          6.001793392755716,
          6.165010091431109,
          6.349881197764431,
          6.562624153807853,
          6.799061431306577,
          7.035778139475806,
          7.239862525557746,
          7.3913132728572535,
          7.489365894851891,
          7.543081930972099,
          7.562884085246837,
          7.557377550870891,
          7.532962720312348,
          7.494255407094606,
          7.444577336999991,
          7.386340324267554,
          7.321317084057618,
          7.25082671150838,
          7.175861946981004,
          7.0971780881255375,
          6.572654715844008,
          6.007317304385706,
          5.4814748114374705,
          5.050725886920022,
          4.687094997930355,
          4.364986245429284,
          4.0864127085636825,
          3.8302279376418857,
          3.5895027042418497,
          3.3732813205888723,
          3.1645921172528158,
          2.9626619940679766,
          2.77798344481764,
          2.593464678661249,
          2.4119705584297977,
          2.2439749618609834,
          2.0714317185593467,
          1.9000314319980696,
          1.7393830979756784,
          1.5707963267948966,
          1.4022095556141148,
          1.2415612215917236,
          1.0701609350304464,
          0.8976176917288096,
          0.7296220951599954,
          0.5481279749285441,
          0.3636092087721534,
          0.1789306595218168,
          -0.022999463663022753,
          -0.23168866699907917,
          -0.4479100506520568,
          -0.6886352840520928,
          -0.9448200549738894,
          -1.2233935918394911,
          -1.5455023443405622,
          -1.9091332333302282,
          -2.339882157847678,
          -2.8657246507959133,
          -3.431062062254215,
          -3.955585434535744,
          -4.03426929339121,
          -4.109234057918587,
          -4.179724430467825,
          -4.244747670677761,
          -4.302984683410198,
          -4.352662753504813,
          -4.391370066722555,
          -4.415784897281098,
          -4.4212914316570435,
          -4.401489277382306,
          -4.347773241262097,
          -4.24972061926746,
          -4.098269871967952,
          -3.894185485886012,
          -3.657468777716784,
          -3.4210315002180596,
          -3.208288544174638,
          -3.0234174378413154,
          -2.860200739165923,
          -2.7121845259748847,
          -2.5768727499459536,
          -2.455453213154563,
          -2.350505749631691,
          -2.2637304025994376,
          -2.159613501058975,
          -2.0925847501521484,
          -2.048998049584302,
          -2.015404561418528,
          -1.9813652744936034,
          -1.94117999000607,
          -1.8950604944340679,
          -1.8485313424960907,
          -1.8090499681178283,
          -1.7815557605942347,
          -1.7660985939391454,
          -1.7584677338940577,
          -1.7524360055909631,
          -1.742337485736126,
          -1.7254836287918158,
          -1.7037151373498023,
          -1.6827359717110106,
          -1.6687963624526383,
          -1.664842296817308,
          -1.6689159954468706,
          -1.6753496775573433,
          -1.677618044430556,
          -1.6718405855402474,
          -1.6597196266687897,
          -1.648484448805113,
          -1.6463713322022488,
          -1.6567674447502467,
          -1.6758980217082835,
          -1.694973089407025,
          -1.7049811452830814,
          -1.7027253563324478,
          -1.6951025848512715,
          -1.6957391111375286,
          -1.7141670023174858,
          -1.7481498336672767,
          -1.785133302808986,
          -1.8093997328530953,
          -1.8125657999760962,
          -1.8040469874905387,
          -1.807414127310567,
          -1.8384060142394028,
          -1.8903312152111587,
          -1.9389955228979718,
          -1.95659541047531,
          -1.9349325084241702,
          -1.9074262037524283,
          -1.9199066270998109,
          -1.9761813377649358,
          -2.0348169379033725,
          -2.0294872464186384,
          -1.9176113021321004,
          -1.7919130563706358,
          -1.779257525489954,
          -1.852880559622499,
          -1.902061801661759,
          -1.7706221757822724,
          -1.461274820951855,
          -1.3322241449396,
          -1.3813830146070392,
          -1.4100324419281154,
          -1.2281173922532937,
          -0.957873909446993,
          -0.924043955822521,
          -1.02019931374943,
          -1.0643936402874379,
          -0.9495445076094503,
          -0.8301331411393419,
          -0.8688486407687047,
          -0.9657237279032949,
          -0.9760025456651832,
          -0.8779780812044067,
          -0.8511826626943005,
          -0.9274940112648975,
          -0.9660820041578608,
          -0.8749801924835874,
          -0.8128206220128074,
          -0.8806908780647379,
          -0.9333716657447133,
          -0.8328297442867704,
          -0.7497043384073703,
          -0.8285966622858887,
          -0.8974172065957523,
          -0.7873852670534501,
          -0.7054893865734786,
          -0.8015509900725336,
          -0.8589699413862835,
          -0.7248418467998319,
          -0.6844627899353956,
          -0.7919022885758199,
          -0.7701256621159803,
          -0.6176587564792416,
          -0.6710318020085847,
          -0.7584221150380481,
          -0.636109453758074,
          -0.593147678237463,
          -0.7121871817033891,
          -0.6683697012527078,
          -0.5506788428840984,
          -0.6552583922427604,
          -0.6773599013941243,
          -0.5291046227515414,
          -0.6075001389459795,
          -0.6661414294884985,
          -0.5111170365273473,
          -0.5751724684969021,
          -0.6444161228618631,
          -0.48683847785282564,
          -0.5594570961637765,
          -0.6141163494085788,
          -0.4577184693679417,
          -0.5605156810371599,
          -0.5666770668402766,
          -0.4375496329706291,
          -0.5728148678112677,
          -0.491485958775164,
          -0.4479854109879836,
          -0.5710523247463719,
          -0.41014048060669644,
          -0.49649240552117674,
          -0.5032483352489717,
          -0.3939912292050279,
          -0.537170052628766,
          -0.3828455541536826,
          -0.46755736981738943,
          -0.4569781662511538,
          -0.38081890451202083,
          -0.5054357687643798,
          -0.3385754174770834,
          -0.486499322319981,
          -0.352480416331151,
          -0.42772532113363665,
          -0.39113783220971066,
          -0.36809697165238403,
          -0.4260767780036817,
          -0.3263417779337232,
          -0.4398273188118673,
          -0.2985055990634947,
          -0.4405098053847143,
          -0.2795166882658941,
          -0.43392226939152795,
          -0.2678519841786134,
          -0.42337249832275636,
          -0.2611846881857418,
          -0.41085237207615216,
          -0.2599375436735525,
          -0.39099398583855555,
          -0.269839199745076,
          -0.35328806976947547,
          -0.29619499894234974,
          -0.29235128434312985,
          -0.33676946328926965,
          -0.22805811104382145,
          -0.3690716437566287,
          -0.20815688652607423,
          -0.3450976789279917,
          -0.25831848522392953,
          -0.24260763222049023,
          -0.334536514366163,
          -0.1836284612168726,
          -0.31843274393449217,
          -0.2595124914849486,
          -0.18574810018530377,
          -0.3297180624355962,
          -0.20689553108570188,
          -0.2004088323037758,
          -0.316303960092889,
          -0.1861086708315554,
          -0.18770379425628952,
          -0.3058887566613207,
          -0.19482305219734639,
          -0.14770963776156526,
          -0.2816180162292507,
          -0.2385751196213633,
          -0.1262295866851676,
          -0.1911769357241561,
          -0.2792760633494026,
          -0.1947369465050901,
          -0.10823525551050547,
          -0.17362922551843005,
          -0.2630739167743656,
          -0.21434624312533035,
          -0.11765896350415299,
          -0.0978120814381409,
          -0.1823368711480785,
          -0.24559244772184483,
          -0.21412065463313212,
          -0.1369959392729179,
          -0.0786829878135008,
          -0.07926299324322963,
          -0.13498867391633013,
          -0.19689960607509044,
          -0.2223763206915567,
          -0.20840757103885893,
          -0.1720099001423241,
          -0.12974294826835447,
          -0.09205591332660046,
          -0.06389155820904055,
          -0.046073411338177245,
          -0.03637064578099515,
          -0.03171673423347273,
          -0.02933333291254234,
          -0.02696033036492089,
          -0.023589865256204025,
          -0.01924547861757205,
          -0.01563561601750989,
          -0.015479851652371503,
          -0.022248703022679842,
          -0.039131478320508804,
          -0.067358207512264,
          -0.10406358847142648,
          -0.13988855009993387,
          -0.15706814758998563,
          -0.13283170780386758,
          -0.062272202248100574,
          0.00685415804346731,
          0.009876556288774192,
          -0.05546128663252275,
          -0.1271708853369568,
          -0.1113386433894055,
          0.0009614870232777285,
          0.025270592106015163,
          -0.07283993462813457,
          -0.11520899717749741,
          0.013010901223299854,
          0.021842838451716574,
          -0.09958597719198314,
          -0.029996481247848962,
          0.04973379971358278,
          -0.08603494828980715,
          -0.0009468502815577812,
          0.034061339806136084,
          -0.088631256572457,
          0.07550480416702028,
          -0.053248504553292504,
          0.03504689499700253,
          0.0006604001153995853,
          0.0022047524270247818,
          0.02734155830558323,
          0.006244343109983803,
          0.02208201529645076,
          0.04857446604010979,
          -0.013722864464878368,
          0.10969331685271301,
          -0.04351738014790995,
          0.09759400322296777,
          0.0498249826475321,
          -0.012208087620761926,
          0.12829728280168712,
          0.06294866824352448
         ],
         "yaxis": "y"
        }
       ],
       "layout": {
        "legend": {
         "title": {
          "text": "variable"
         },
         "tracegroupgap": 0
        },
        "template": {
         "data": {
          "bar": [
           {
            "error_x": {
             "color": "#2a3f5f"
            },
            "error_y": {
             "color": "#2a3f5f"
            },
            "marker": {
             "line": {
              "color": "#E5ECF6",
              "width": 0.5
             },
             "pattern": {
              "fillmode": "overlay",
              "size": 10,
              "solidity": 0.2
             }
            },
            "type": "bar"
           }
          ],
          "barpolar": [
           {
            "marker": {
             "line": {
              "color": "#E5ECF6",
              "width": 0.5
             },
             "pattern": {
              "fillmode": "overlay",
              "size": 10,
              "solidity": 0.2
             }
            },
            "type": "barpolar"
           }
          ],
          "carpet": [
           {
            "aaxis": {
             "endlinecolor": "#2a3f5f",
             "gridcolor": "white",
             "linecolor": "white",
             "minorgridcolor": "white",
             "startlinecolor": "#2a3f5f"
            },
            "baxis": {
             "endlinecolor": "#2a3f5f",
             "gridcolor": "white",
             "linecolor": "white",
             "minorgridcolor": "white",
             "startlinecolor": "#2a3f5f"
            },
            "type": "carpet"
           }
          ],
          "choropleth": [
           {
            "colorbar": {
             "outlinewidth": 0,
             "ticks": ""
            },
            "type": "choropleth"
           }
          ],
          "contour": [
           {
            "colorbar": {
             "outlinewidth": 0,
             "ticks": ""
            },
            "colorscale": [
             [
              0,
              "#0d0887"
             ],
             [
              0.1111111111111111,
              "#46039f"
             ],
             [
              0.2222222222222222,
              "#7201a8"
             ],
             [
              0.3333333333333333,
              "#9c179e"
             ],
             [
              0.4444444444444444,
              "#bd3786"
             ],
             [
              0.5555555555555556,
              "#d8576b"
             ],
             [
              0.6666666666666666,
              "#ed7953"
             ],
             [
              0.7777777777777778,
              "#fb9f3a"
             ],
             [
              0.8888888888888888,
              "#fdca26"
             ],
             [
              1,
              "#f0f921"
             ]
            ],
            "type": "contour"
           }
          ],
          "contourcarpet": [
           {
            "colorbar": {
             "outlinewidth": 0,
             "ticks": ""
            },
            "type": "contourcarpet"
           }
          ],
          "heatmap": [
           {
            "colorbar": {
             "outlinewidth": 0,
             "ticks": ""
            },
            "colorscale": [
             [
              0,
              "#0d0887"
             ],
             [
              0.1111111111111111,
              "#46039f"
             ],
             [
              0.2222222222222222,
              "#7201a8"
             ],
             [
              0.3333333333333333,
              "#9c179e"
             ],
             [
              0.4444444444444444,
              "#bd3786"
             ],
             [
              0.5555555555555556,
              "#d8576b"
             ],
             [
              0.6666666666666666,
              "#ed7953"
             ],
             [
              0.7777777777777778,
              "#fb9f3a"
             ],
             [
              0.8888888888888888,
              "#fdca26"
             ],
             [
              1,
              "#f0f921"
             ]
            ],
            "type": "heatmap"
           }
          ],
          "heatmapgl": [
           {
            "colorbar": {
             "outlinewidth": 0,
             "ticks": ""
            },
            "colorscale": [
             [
              0,
              "#0d0887"
             ],
             [
              0.1111111111111111,
              "#46039f"
             ],
             [
              0.2222222222222222,
              "#7201a8"
             ],
             [
              0.3333333333333333,
              "#9c179e"
             ],
             [
              0.4444444444444444,
              "#bd3786"
             ],
             [
              0.5555555555555556,
              "#d8576b"
             ],
             [
              0.6666666666666666,
              "#ed7953"
             ],
             [
              0.7777777777777778,
              "#fb9f3a"
             ],
             [
              0.8888888888888888,
              "#fdca26"
             ],
             [
              1,
              "#f0f921"
             ]
            ],
            "type": "heatmapgl"
           }
          ],
          "histogram": [
           {
            "marker": {
             "pattern": {
              "fillmode": "overlay",
              "size": 10,
              "solidity": 0.2
             }
            },
            "type": "histogram"
           }
          ],
          "histogram2d": [
           {
            "colorbar": {
             "outlinewidth": 0,
             "ticks": ""
            },
            "colorscale": [
             [
              0,
              "#0d0887"
             ],
             [
              0.1111111111111111,
              "#46039f"
             ],
             [
              0.2222222222222222,
              "#7201a8"
             ],
             [
              0.3333333333333333,
              "#9c179e"
             ],
             [
              0.4444444444444444,
              "#bd3786"
             ],
             [
              0.5555555555555556,
              "#d8576b"
             ],
             [
              0.6666666666666666,
              "#ed7953"
             ],
             [
              0.7777777777777778,
              "#fb9f3a"
             ],
             [
              0.8888888888888888,
              "#fdca26"
             ],
             [
              1,
              "#f0f921"
             ]
            ],
            "type": "histogram2d"
           }
          ],
          "histogram2dcontour": [
           {
            "colorbar": {
             "outlinewidth": 0,
             "ticks": ""
            },
            "colorscale": [
             [
              0,
              "#0d0887"
             ],
             [
              0.1111111111111111,
              "#46039f"
             ],
             [
              0.2222222222222222,
              "#7201a8"
             ],
             [
              0.3333333333333333,
              "#9c179e"
             ],
             [
              0.4444444444444444,
              "#bd3786"
             ],
             [
              0.5555555555555556,
              "#d8576b"
             ],
             [
              0.6666666666666666,
              "#ed7953"
             ],
             [
              0.7777777777777778,
              "#fb9f3a"
             ],
             [
              0.8888888888888888,
              "#fdca26"
             ],
             [
              1,
              "#f0f921"
             ]
            ],
            "type": "histogram2dcontour"
           }
          ],
          "mesh3d": [
           {
            "colorbar": {
             "outlinewidth": 0,
             "ticks": ""
            },
            "type": "mesh3d"
           }
          ],
          "parcoords": [
           {
            "line": {
             "colorbar": {
              "outlinewidth": 0,
              "ticks": ""
             }
            },
            "type": "parcoords"
           }
          ],
          "pie": [
           {
            "automargin": true,
            "type": "pie"
           }
          ],
          "scatter": [
           {
            "fillpattern": {
             "fillmode": "overlay",
             "size": 10,
             "solidity": 0.2
            },
            "type": "scatter"
           }
          ],
          "scatter3d": [
           {
            "line": {
             "colorbar": {
              "outlinewidth": 0,
              "ticks": ""
             }
            },
            "marker": {
             "colorbar": {
              "outlinewidth": 0,
              "ticks": ""
             }
            },
            "type": "scatter3d"
           }
          ],
          "scattercarpet": [
           {
            "marker": {
             "colorbar": {
              "outlinewidth": 0,
              "ticks": ""
             }
            },
            "type": "scattercarpet"
           }
          ],
          "scattergeo": [
           {
            "marker": {
             "colorbar": {
              "outlinewidth": 0,
              "ticks": ""
             }
            },
            "type": "scattergeo"
           }
          ],
          "scattergl": [
           {
            "marker": {
             "colorbar": {
              "outlinewidth": 0,
              "ticks": ""
             }
            },
            "type": "scattergl"
           }
          ],
          "scattermapbox": [
           {
            "marker": {
             "colorbar": {
              "outlinewidth": 0,
              "ticks": ""
             }
            },
            "type": "scattermapbox"
           }
          ],
          "scatterpolar": [
           {
            "marker": {
             "colorbar": {
              "outlinewidth": 0,
              "ticks": ""
             }
            },
            "type": "scatterpolar"
           }
          ],
          "scatterpolargl": [
           {
            "marker": {
             "colorbar": {
              "outlinewidth": 0,
              "ticks": ""
             }
            },
            "type": "scatterpolargl"
           }
          ],
          "scatterternary": [
           {
            "marker": {
             "colorbar": {
              "outlinewidth": 0,
              "ticks": ""
             }
            },
            "type": "scatterternary"
           }
          ],
          "surface": [
           {
            "colorbar": {
             "outlinewidth": 0,
             "ticks": ""
            },
            "colorscale": [
             [
              0,
              "#0d0887"
             ],
             [
              0.1111111111111111,
              "#46039f"
             ],
             [
              0.2222222222222222,
              "#7201a8"
             ],
             [
              0.3333333333333333,
              "#9c179e"
             ],
             [
              0.4444444444444444,
              "#bd3786"
             ],
             [
              0.5555555555555556,
              "#d8576b"
             ],
             [
              0.6666666666666666,
              "#ed7953"
             ],
             [
              0.7777777777777778,
              "#fb9f3a"
             ],
             [
              0.8888888888888888,
              "#fdca26"
             ],
             [
              1,
              "#f0f921"
             ]
            ],
            "type": "surface"
           }
          ],
          "table": [
           {
            "cells": {
             "fill": {
              "color": "#EBF0F8"
             },
             "line": {
              "color": "white"
             }
            },
            "header": {
             "fill": {
              "color": "#C8D4E3"
             },
             "line": {
              "color": "white"
             }
            },
            "type": "table"
           }
          ]
         },
         "layout": {
          "annotationdefaults": {
           "arrowcolor": "#2a3f5f",
           "arrowhead": 0,
           "arrowwidth": 1
          },
          "autotypenumbers": "strict",
          "coloraxis": {
           "colorbar": {
            "outlinewidth": 0,
            "ticks": ""
           }
          },
          "colorscale": {
           "diverging": [
            [
             0,
             "#8e0152"
            ],
            [
             0.1,
             "#c51b7d"
            ],
            [
             0.2,
             "#de77ae"
            ],
            [
             0.3,
             "#f1b6da"
            ],
            [
             0.4,
             "#fde0ef"
            ],
            [
             0.5,
             "#f7f7f7"
            ],
            [
             0.6,
             "#e6f5d0"
            ],
            [
             0.7,
             "#b8e186"
            ],
            [
             0.8,
             "#7fbc41"
            ],
            [
             0.9,
             "#4d9221"
            ],
            [
             1,
             "#276419"
            ]
           ],
           "sequential": [
            [
             0,
             "#0d0887"
            ],
            [
             0.1111111111111111,
             "#46039f"
            ],
            [
             0.2222222222222222,
             "#7201a8"
            ],
            [
             0.3333333333333333,
             "#9c179e"
            ],
            [
             0.4444444444444444,
             "#bd3786"
            ],
            [
             0.5555555555555556,
             "#d8576b"
            ],
            [
             0.6666666666666666,
             "#ed7953"
            ],
            [
             0.7777777777777778,
             "#fb9f3a"
            ],
            [
             0.8888888888888888,
             "#fdca26"
            ],
            [
             1,
             "#f0f921"
            ]
           ],
           "sequentialminus": [
            [
             0,
             "#0d0887"
            ],
            [
             0.1111111111111111,
             "#46039f"
            ],
            [
             0.2222222222222222,
             "#7201a8"
            ],
            [
             0.3333333333333333,
             "#9c179e"
            ],
            [
             0.4444444444444444,
             "#bd3786"
            ],
            [
             0.5555555555555556,
             "#d8576b"
            ],
            [
             0.6666666666666666,
             "#ed7953"
            ],
            [
             0.7777777777777778,
             "#fb9f3a"
            ],
            [
             0.8888888888888888,
             "#fdca26"
            ],
            [
             1,
             "#f0f921"
            ]
           ]
          },
          "colorway": [
           "#636efa",
           "#EF553B",
           "#00cc96",
           "#ab63fa",
           "#FFA15A",
           "#19d3f3",
           "#FF6692",
           "#B6E880",
           "#FF97FF",
           "#FECB52"
          ],
          "font": {
           "color": "#2a3f5f"
          },
          "geo": {
           "bgcolor": "white",
           "lakecolor": "white",
           "landcolor": "#E5ECF6",
           "showlakes": true,
           "showland": true,
           "subunitcolor": "white"
          },
          "hoverlabel": {
           "align": "left"
          },
          "hovermode": "closest",
          "mapbox": {
           "style": "light"
          },
          "paper_bgcolor": "white",
          "plot_bgcolor": "#E5ECF6",
          "polar": {
           "angularaxis": {
            "gridcolor": "white",
            "linecolor": "white",
            "ticks": ""
           },
           "bgcolor": "#E5ECF6",
           "radialaxis": {
            "gridcolor": "white",
            "linecolor": "white",
            "ticks": ""
           }
          },
          "scene": {
           "xaxis": {
            "backgroundcolor": "#E5ECF6",
            "gridcolor": "white",
            "gridwidth": 2,
            "linecolor": "white",
            "showbackground": true,
            "ticks": "",
            "zerolinecolor": "white"
           },
           "yaxis": {
            "backgroundcolor": "#E5ECF6",
            "gridcolor": "white",
            "gridwidth": 2,
            "linecolor": "white",
            "showbackground": true,
            "ticks": "",
            "zerolinecolor": "white"
           },
           "zaxis": {
            "backgroundcolor": "#E5ECF6",
            "gridcolor": "white",
            "gridwidth": 2,
            "linecolor": "white",
            "showbackground": true,
            "ticks": "",
            "zerolinecolor": "white"
           }
          },
          "shapedefaults": {
           "line": {
            "color": "#2a3f5f"
           }
          },
          "ternary": {
           "aaxis": {
            "gridcolor": "white",
            "linecolor": "white",
            "ticks": ""
           },
           "baxis": {
            "gridcolor": "white",
            "linecolor": "white",
            "ticks": ""
           },
           "bgcolor": "#E5ECF6",
           "caxis": {
            "gridcolor": "white",
            "linecolor": "white",
            "ticks": ""
           }
          },
          "title": {
           "x": 0.05
          },
          "xaxis": {
           "automargin": true,
           "gridcolor": "white",
           "linecolor": "white",
           "ticks": "",
           "title": {
            "standoff": 15
           },
           "zerolinecolor": "white",
           "zerolinewidth": 2
          },
          "yaxis": {
           "automargin": true,
           "gridcolor": "white",
           "linecolor": "white",
           "ticks": "",
           "title": {
            "standoff": 15
           },
           "zerolinecolor": "white",
           "zerolinewidth": 2
          }
         }
        },
        "title": {
         "text": "Phase"
        },
        "xaxis": {
         "anchor": "y",
         "domain": [
          0,
          1
         ],
         "title": {
          "text": "x"
         }
        },
        "yaxis": {
         "anchor": "x",
         "domain": [
          0,
          1
         ],
         "title": {
          "text": "value"
         }
        }
       }
      }
     },
     "metadata": {},
     "output_type": "display_data"
    }
   ],
   "source": [
    "analysis_parameters = copy.deepcopy(optim_parameters)\n",
    "\n",
    "analysis_parameters['geometry'].halfPos             = False\n",
    "analysis_parameters['geometry'].max_stopBand_mm      = 10\n",
    "analysis_parameters['geometry'].nb_stopBand          = 500\n",
    "analysis_parameters['geometry'].nb_transBand        = 50\n",
    "\n",
    "oc_analysis     = COPT.OC(optim_parameters=analysis_parameters, population_list=population_list, control_fields=optimized_control_fields)\n",
    "oc_analysis_slr = COPT.OC(optim_parameters=analysis_parameters, population_list=population_list, control_fields=initial_control_fields)\n",
    "\n",
    "\n",
    "\n",
    "oc_analysis.export_tempcontrol_uT(optimized_control_fields, sol_folder)\n",
    "oc_analysis_slr.export_tempcontrol_uT(initial_control_fields, sol_folder+'/SLR')\n",
    "\n",
    "oc_analysis.export_final_transverseMagn(sol_folder)\n",
    "oc_analysis_slr.export_final_transverseMagn(sol_folder+'/SLR')\n",
    "\n",
    "t, rf_oc = optimized_control_fields['w1x'].plot_tempControl(plot=False)\n",
    "df_analysis = Analysis.plot_final_magn(oc_analysis.isoList,plot=False,export=True,folder=sol_folder)\n",
    "\n",
    "\n",
    "t, rf_slr = initial_control_fields['w1x'].plot_tempControl(plot=False)\n",
    "df_slr = Analysis.plot_final_magn(oc_analysis_slr.isoList,plot=False,export=True,folder=sol_folder+'/SLR')\n",
    "\n",
    "\n",
    "fig_rf = px.line(x=t, y=[rf_oc, rf_slr], labels={'x':\"Time (ms)\", 'y':\"(µt)\"},title='Controls w_x')\n",
    "fig_m = px.line(x=df_analysis['Position (mm)'], y=[df_analysis['Transverse magn.'], df_slr['Transverse magn.']],title='Tranverse Magenetization')\n",
    "fig_p = px.line(x=df_analysis['Position (mm)'], y=[df_analysis['Phase (rad)'], df_slr['Phase (rad)']],title='Phase')\n",
    "\n",
    "fig_rf.show()\n",
    "fig_m.show()\n",
    "fig_p.show()\n"
   ]
  },
  {
   "cell_type": "markdown",
   "metadata": {},
   "source": [
    "# Finding the best refocusing setting"
   ]
  },
  {
   "cell_type": "code",
   "execution_count": 36,
   "metadata": {},
   "outputs": [
    {
     "data": {
      "application/vnd.plotly.v1+json": {
       "config": {
        "plotlyServerURL": "https://plot.ly"
       },
       "data": [
        {
         "hovertemplate": "variable=wide_variable_0<br>x=%{x}<br>value=%{y}<extra></extra>",
         "legendgroup": "wide_variable_0",
         "line": {
          "color": "#636efa",
          "dash": "solid"
         },
         "marker": {
          "symbol": "circle"
         },
         "mode": "lines",
         "name": "wide_variable_0",
         "orientation": "v",
         "showlegend": true,
         "type": "scatter",
         "x": [
          -0.5,
          -0.475,
          -0.45,
          -0.425,
          -0.4,
          -0.375,
          -0.35,
          -0.325,
          -0.3,
          -0.275,
          -0.25,
          -0.225,
          -0.2,
          -0.175,
          -0.15,
          -0.125,
          -0.1,
          -0.075,
          -0.05,
          -0.025,
          0,
          0.025,
          0.05,
          0.075,
          0.1,
          0.125,
          0.15,
          0.175,
          0.2,
          0.225,
          0.25,
          0.275,
          0.3,
          0.325,
          0.35,
          0.375,
          0.4,
          0.425,
          0.45,
          0.475,
          0.5
         ],
         "xaxis": "x",
         "y": [
          5.682400802881148,
          5.3675587052146065,
          5.107052118327212,
          4.787252597423706,
          4.484482843454501,
          4.234434594636044,
          3.9854417127333055,
          3.7523507938702454,
          3.5508658468644083,
          3.3501555191160866,
          3.160305823610079,
          2.9857104393686833,
          2.8102008374229683,
          2.6450268962562715,
          2.484886563157568,
          2.324901419220155,
          2.175213735486179,
          2.0204976559089536,
          1.8664753264236134,
          1.7240870374732762,
          1.5707963267948966,
          1.4175056161165172,
          1.27511732716618,
          1.1210949976808395,
          0.9663789181036144,
          0.816691234369638,
          0.656706090432225,
          0.49656575733352154,
          0.33139181616682495,
          0.15588221422111015,
          -0.018713170020285975,
          -0.20856286552629352,
          -0.4092731932746153,
          -0.6107581402804523,
          -0.8438490591435126,
          -1.0928419410462507,
          -1.3428901898647072,
          -1.645659943833913,
          -1.9654594647374193,
          -2.225966051624814,
          -2.5408081492913546
         ],
         "yaxis": "y"
        },
        {
         "hovertemplate": "variable=wide_variable_1<br>x=%{x}<br>value=%{y}<extra></extra>",
         "legendgroup": "wide_variable_1",
         "line": {
          "color": "#EF553B",
          "dash": "solid"
         },
         "marker": {
          "symbol": "circle"
         },
         "mode": "lines",
         "name": "wide_variable_1",
         "orientation": "v",
         "showlegend": true,
         "type": "scatter",
         "x": [
          -0.5,
          -0.475,
          -0.45,
          -0.425,
          -0.4,
          -0.375,
          -0.35,
          -0.325,
          -0.3,
          -0.275,
          -0.25,
          -0.225,
          -0.2,
          -0.175,
          -0.15,
          -0.125,
          -0.1,
          -0.075,
          -0.05,
          -0.025,
          0,
          0.025,
          0.05,
          0.075,
          0.1,
          0.125,
          0.15,
          0.175,
          0.2,
          0.225,
          0.25,
          0.275,
          0.3,
          0.325,
          0.35,
          0.375,
          0.4,
          0.425,
          0.45,
          0.475,
          0.5
         ],
         "xaxis": "x",
         "y": [
          5.22658854937707,
          5.043798938247962,
          4.861009327118853,
          4.678219715989744,
          4.4954301048606355,
          4.312640493731527,
          4.129850882602418,
          3.9470612714733098,
          3.7642716603442006,
          3.5814820492150923,
          3.3986924380859835,
          3.2159028269568752,
          3.0331132158277665,
          2.8503236046986578,
          2.667533993569549,
          2.4847443824404403,
          2.3019547713113315,
          2.119165160182223,
          1.9363755490531143,
          1.7535859379240057,
          1.570796326794897,
          1.3880067156657883,
          1.2052171045366797,
          1.0224274934075712,
          0.8396378822784624,
          0.6568482711493537,
          0.4740586600202452,
          0.2912690488911365,
          0.10847943776202773,
          -0.07431017336708101,
          -0.25709978449618953,
          -0.4398893956252983,
          -0.6226790067544066,
          -0.8054686178835158,
          -0.9882582290126241,
          -1.1710478401417328,
          -1.3538374512708415,
          -1.5366270623999498,
          -1.719416673529059,
          -1.9022062846581673,
          -2.084995895787276
         ],
         "yaxis": "y"
        }
       ],
       "layout": {
        "legend": {
         "title": {
          "text": "variable"
         },
         "tracegroupgap": 0
        },
        "margin": {
         "t": 60
        },
        "template": {
         "data": {
          "bar": [
           {
            "error_x": {
             "color": "#2a3f5f"
            },
            "error_y": {
             "color": "#2a3f5f"
            },
            "marker": {
             "line": {
              "color": "#E5ECF6",
              "width": 0.5
             },
             "pattern": {
              "fillmode": "overlay",
              "size": 10,
              "solidity": 0.2
             }
            },
            "type": "bar"
           }
          ],
          "barpolar": [
           {
            "marker": {
             "line": {
              "color": "#E5ECF6",
              "width": 0.5
             },
             "pattern": {
              "fillmode": "overlay",
              "size": 10,
              "solidity": 0.2
             }
            },
            "type": "barpolar"
           }
          ],
          "carpet": [
           {
            "aaxis": {
             "endlinecolor": "#2a3f5f",
             "gridcolor": "white",
             "linecolor": "white",
             "minorgridcolor": "white",
             "startlinecolor": "#2a3f5f"
            },
            "baxis": {
             "endlinecolor": "#2a3f5f",
             "gridcolor": "white",
             "linecolor": "white",
             "minorgridcolor": "white",
             "startlinecolor": "#2a3f5f"
            },
            "type": "carpet"
           }
          ],
          "choropleth": [
           {
            "colorbar": {
             "outlinewidth": 0,
             "ticks": ""
            },
            "type": "choropleth"
           }
          ],
          "contour": [
           {
            "colorbar": {
             "outlinewidth": 0,
             "ticks": ""
            },
            "colorscale": [
             [
              0,
              "#0d0887"
             ],
             [
              0.1111111111111111,
              "#46039f"
             ],
             [
              0.2222222222222222,
              "#7201a8"
             ],
             [
              0.3333333333333333,
              "#9c179e"
             ],
             [
              0.4444444444444444,
              "#bd3786"
             ],
             [
              0.5555555555555556,
              "#d8576b"
             ],
             [
              0.6666666666666666,
              "#ed7953"
             ],
             [
              0.7777777777777778,
              "#fb9f3a"
             ],
             [
              0.8888888888888888,
              "#fdca26"
             ],
             [
              1,
              "#f0f921"
             ]
            ],
            "type": "contour"
           }
          ],
          "contourcarpet": [
           {
            "colorbar": {
             "outlinewidth": 0,
             "ticks": ""
            },
            "type": "contourcarpet"
           }
          ],
          "heatmap": [
           {
            "colorbar": {
             "outlinewidth": 0,
             "ticks": ""
            },
            "colorscale": [
             [
              0,
              "#0d0887"
             ],
             [
              0.1111111111111111,
              "#46039f"
             ],
             [
              0.2222222222222222,
              "#7201a8"
             ],
             [
              0.3333333333333333,
              "#9c179e"
             ],
             [
              0.4444444444444444,
              "#bd3786"
             ],
             [
              0.5555555555555556,
              "#d8576b"
             ],
             [
              0.6666666666666666,
              "#ed7953"
             ],
             [
              0.7777777777777778,
              "#fb9f3a"
             ],
             [
              0.8888888888888888,
              "#fdca26"
             ],
             [
              1,
              "#f0f921"
             ]
            ],
            "type": "heatmap"
           }
          ],
          "heatmapgl": [
           {
            "colorbar": {
             "outlinewidth": 0,
             "ticks": ""
            },
            "colorscale": [
             [
              0,
              "#0d0887"
             ],
             [
              0.1111111111111111,
              "#46039f"
             ],
             [
              0.2222222222222222,
              "#7201a8"
             ],
             [
              0.3333333333333333,
              "#9c179e"
             ],
             [
              0.4444444444444444,
              "#bd3786"
             ],
             [
              0.5555555555555556,
              "#d8576b"
             ],
             [
              0.6666666666666666,
              "#ed7953"
             ],
             [
              0.7777777777777778,
              "#fb9f3a"
             ],
             [
              0.8888888888888888,
              "#fdca26"
             ],
             [
              1,
              "#f0f921"
             ]
            ],
            "type": "heatmapgl"
           }
          ],
          "histogram": [
           {
            "marker": {
             "pattern": {
              "fillmode": "overlay",
              "size": 10,
              "solidity": 0.2
             }
            },
            "type": "histogram"
           }
          ],
          "histogram2d": [
           {
            "colorbar": {
             "outlinewidth": 0,
             "ticks": ""
            },
            "colorscale": [
             [
              0,
              "#0d0887"
             ],
             [
              0.1111111111111111,
              "#46039f"
             ],
             [
              0.2222222222222222,
              "#7201a8"
             ],
             [
              0.3333333333333333,
              "#9c179e"
             ],
             [
              0.4444444444444444,
              "#bd3786"
             ],
             [
              0.5555555555555556,
              "#d8576b"
             ],
             [
              0.6666666666666666,
              "#ed7953"
             ],
             [
              0.7777777777777778,
              "#fb9f3a"
             ],
             [
              0.8888888888888888,
              "#fdca26"
             ],
             [
              1,
              "#f0f921"
             ]
            ],
            "type": "histogram2d"
           }
          ],
          "histogram2dcontour": [
           {
            "colorbar": {
             "outlinewidth": 0,
             "ticks": ""
            },
            "colorscale": [
             [
              0,
              "#0d0887"
             ],
             [
              0.1111111111111111,
              "#46039f"
             ],
             [
              0.2222222222222222,
              "#7201a8"
             ],
             [
              0.3333333333333333,
              "#9c179e"
             ],
             [
              0.4444444444444444,
              "#bd3786"
             ],
             [
              0.5555555555555556,
              "#d8576b"
             ],
             [
              0.6666666666666666,
              "#ed7953"
             ],
             [
              0.7777777777777778,
              "#fb9f3a"
             ],
             [
              0.8888888888888888,
              "#fdca26"
             ],
             [
              1,
              "#f0f921"
             ]
            ],
            "type": "histogram2dcontour"
           }
          ],
          "mesh3d": [
           {
            "colorbar": {
             "outlinewidth": 0,
             "ticks": ""
            },
            "type": "mesh3d"
           }
          ],
          "parcoords": [
           {
            "line": {
             "colorbar": {
              "outlinewidth": 0,
              "ticks": ""
             }
            },
            "type": "parcoords"
           }
          ],
          "pie": [
           {
            "automargin": true,
            "type": "pie"
           }
          ],
          "scatter": [
           {
            "fillpattern": {
             "fillmode": "overlay",
             "size": 10,
             "solidity": 0.2
            },
            "type": "scatter"
           }
          ],
          "scatter3d": [
           {
            "line": {
             "colorbar": {
              "outlinewidth": 0,
              "ticks": ""
             }
            },
            "marker": {
             "colorbar": {
              "outlinewidth": 0,
              "ticks": ""
             }
            },
            "type": "scatter3d"
           }
          ],
          "scattercarpet": [
           {
            "marker": {
             "colorbar": {
              "outlinewidth": 0,
              "ticks": ""
             }
            },
            "type": "scattercarpet"
           }
          ],
          "scattergeo": [
           {
            "marker": {
             "colorbar": {
              "outlinewidth": 0,
              "ticks": ""
             }
            },
            "type": "scattergeo"
           }
          ],
          "scattergl": [
           {
            "marker": {
             "colorbar": {
              "outlinewidth": 0,
              "ticks": ""
             }
            },
            "type": "scattergl"
           }
          ],
          "scattermapbox": [
           {
            "marker": {
             "colorbar": {
              "outlinewidth": 0,
              "ticks": ""
             }
            },
            "type": "scattermapbox"
           }
          ],
          "scatterpolar": [
           {
            "marker": {
             "colorbar": {
              "outlinewidth": 0,
              "ticks": ""
             }
            },
            "type": "scatterpolar"
           }
          ],
          "scatterpolargl": [
           {
            "marker": {
             "colorbar": {
              "outlinewidth": 0,
              "ticks": ""
             }
            },
            "type": "scatterpolargl"
           }
          ],
          "scatterternary": [
           {
            "marker": {
             "colorbar": {
              "outlinewidth": 0,
              "ticks": ""
             }
            },
            "type": "scatterternary"
           }
          ],
          "surface": [
           {
            "colorbar": {
             "outlinewidth": 0,
             "ticks": ""
            },
            "colorscale": [
             [
              0,
              "#0d0887"
             ],
             [
              0.1111111111111111,
              "#46039f"
             ],
             [
              0.2222222222222222,
              "#7201a8"
             ],
             [
              0.3333333333333333,
              "#9c179e"
             ],
             [
              0.4444444444444444,
              "#bd3786"
             ],
             [
              0.5555555555555556,
              "#d8576b"
             ],
             [
              0.6666666666666666,
              "#ed7953"
             ],
             [
              0.7777777777777778,
              "#fb9f3a"
             ],
             [
              0.8888888888888888,
              "#fdca26"
             ],
             [
              1,
              "#f0f921"
             ]
            ],
            "type": "surface"
           }
          ],
          "table": [
           {
            "cells": {
             "fill": {
              "color": "#EBF0F8"
             },
             "line": {
              "color": "white"
             }
            },
            "header": {
             "fill": {
              "color": "#C8D4E3"
             },
             "line": {
              "color": "white"
             }
            },
            "type": "table"
           }
          ]
         },
         "layout": {
          "annotationdefaults": {
           "arrowcolor": "#2a3f5f",
           "arrowhead": 0,
           "arrowwidth": 1
          },
          "autotypenumbers": "strict",
          "coloraxis": {
           "colorbar": {
            "outlinewidth": 0,
            "ticks": ""
           }
          },
          "colorscale": {
           "diverging": [
            [
             0,
             "#8e0152"
            ],
            [
             0.1,
             "#c51b7d"
            ],
            [
             0.2,
             "#de77ae"
            ],
            [
             0.3,
             "#f1b6da"
            ],
            [
             0.4,
             "#fde0ef"
            ],
            [
             0.5,
             "#f7f7f7"
            ],
            [
             0.6,
             "#e6f5d0"
            ],
            [
             0.7,
             "#b8e186"
            ],
            [
             0.8,
             "#7fbc41"
            ],
            [
             0.9,
             "#4d9221"
            ],
            [
             1,
             "#276419"
            ]
           ],
           "sequential": [
            [
             0,
             "#0d0887"
            ],
            [
             0.1111111111111111,
             "#46039f"
            ],
            [
             0.2222222222222222,
             "#7201a8"
            ],
            [
             0.3333333333333333,
             "#9c179e"
            ],
            [
             0.4444444444444444,
             "#bd3786"
            ],
            [
             0.5555555555555556,
             "#d8576b"
            ],
            [
             0.6666666666666666,
             "#ed7953"
            ],
            [
             0.7777777777777778,
             "#fb9f3a"
            ],
            [
             0.8888888888888888,
             "#fdca26"
            ],
            [
             1,
             "#f0f921"
            ]
           ],
           "sequentialminus": [
            [
             0,
             "#0d0887"
            ],
            [
             0.1111111111111111,
             "#46039f"
            ],
            [
             0.2222222222222222,
             "#7201a8"
            ],
            [
             0.3333333333333333,
             "#9c179e"
            ],
            [
             0.4444444444444444,
             "#bd3786"
            ],
            [
             0.5555555555555556,
             "#d8576b"
            ],
            [
             0.6666666666666666,
             "#ed7953"
            ],
            [
             0.7777777777777778,
             "#fb9f3a"
            ],
            [
             0.8888888888888888,
             "#fdca26"
            ],
            [
             1,
             "#f0f921"
            ]
           ]
          },
          "colorway": [
           "#636efa",
           "#EF553B",
           "#00cc96",
           "#ab63fa",
           "#FFA15A",
           "#19d3f3",
           "#FF6692",
           "#B6E880",
           "#FF97FF",
           "#FECB52"
          ],
          "font": {
           "color": "#2a3f5f"
          },
          "geo": {
           "bgcolor": "white",
           "lakecolor": "white",
           "landcolor": "#E5ECF6",
           "showlakes": true,
           "showland": true,
           "subunitcolor": "white"
          },
          "hoverlabel": {
           "align": "left"
          },
          "hovermode": "closest",
          "mapbox": {
           "style": "light"
          },
          "paper_bgcolor": "white",
          "plot_bgcolor": "#E5ECF6",
          "polar": {
           "angularaxis": {
            "gridcolor": "white",
            "linecolor": "white",
            "ticks": ""
           },
           "bgcolor": "#E5ECF6",
           "radialaxis": {
            "gridcolor": "white",
            "linecolor": "white",
            "ticks": ""
           }
          },
          "scene": {
           "xaxis": {
            "backgroundcolor": "#E5ECF6",
            "gridcolor": "white",
            "gridwidth": 2,
            "linecolor": "white",
            "showbackground": true,
            "ticks": "",
            "zerolinecolor": "white"
           },
           "yaxis": {
            "backgroundcolor": "#E5ECF6",
            "gridcolor": "white",
            "gridwidth": 2,
            "linecolor": "white",
            "showbackground": true,
            "ticks": "",
            "zerolinecolor": "white"
           },
           "zaxis": {
            "backgroundcolor": "#E5ECF6",
            "gridcolor": "white",
            "gridwidth": 2,
            "linecolor": "white",
            "showbackground": true,
            "ticks": "",
            "zerolinecolor": "white"
           }
          },
          "shapedefaults": {
           "line": {
            "color": "#2a3f5f"
           }
          },
          "ternary": {
           "aaxis": {
            "gridcolor": "white",
            "linecolor": "white",
            "ticks": ""
           },
           "baxis": {
            "gridcolor": "white",
            "linecolor": "white",
            "ticks": ""
           },
           "bgcolor": "#E5ECF6",
           "caxis": {
            "gridcolor": "white",
            "linecolor": "white",
            "ticks": ""
           }
          },
          "title": {
           "x": 0.05
          },
          "xaxis": {
           "automargin": true,
           "gridcolor": "white",
           "linecolor": "white",
           "ticks": "",
           "title": {
            "standoff": 15
           },
           "zerolinecolor": "white",
           "zerolinewidth": 2
          },
          "yaxis": {
           "automargin": true,
           "gridcolor": "white",
           "linecolor": "white",
           "ticks": "",
           "title": {
            "standoff": 15
           },
           "zerolinecolor": "white",
           "zerolinewidth": 2
          }
         }
        },
        "xaxis": {
         "anchor": "y",
         "domain": [
          0,
          1
         ],
         "title": {
          "text": "x"
         }
        },
        "yaxis": {
         "anchor": "x",
         "domain": [
          0,
          1
         ],
         "title": {
          "text": "value"
         }
        }
       }
      }
     },
     "metadata": {},
     "output_type": "display_data"
    },
    {
     "name": "stdout",
     "output_type": "stream",
     "text": [
      "phase factor oc 0.07757832041878127\n"
     ]
    },
    {
     "data": {
      "application/vnd.plotly.v1+json": {
       "config": {
        "plotlyServerURL": "https://plot.ly"
       },
       "data": [
        {
         "hovertemplate": "variable=wide_variable_0<br>x=%{x}<br>value=%{y}<extra></extra>",
         "legendgroup": "wide_variable_0",
         "line": {
          "color": "#636efa",
          "dash": "solid"
         },
         "marker": {
          "symbol": "circle"
         },
         "mode": "lines",
         "name": "wide_variable_0",
         "orientation": "v",
         "showlegend": true,
         "type": "scatter",
         "x": [
          -0.5,
          -0.475,
          -0.45,
          -0.425,
          -0.4,
          -0.375,
          -0.35,
          -0.325,
          -0.3,
          -0.275,
          -0.25,
          -0.225,
          -0.2,
          -0.175,
          -0.15,
          -0.125,
          -0.1,
          -0.075,
          -0.05,
          -0.025,
          0,
          0.025,
          0.05,
          0.075,
          0.1,
          0.125,
          0.15,
          0.175,
          0.2,
          0.225,
          0.25,
          0.275,
          0.3,
          0.325,
          0.35,
          0.375,
          0.4,
          0.425,
          0.45,
          0.475,
          0.5
         ],
         "xaxis": "x",
         "y": [
          7.0971780881255375,
          6.572654715844008,
          6.007317304385706,
          5.4814748114374705,
          5.050725886920022,
          4.687094997930355,
          4.364986245429284,
          4.0864127085636825,
          3.8302279376418857,
          3.5895027042418497,
          3.3732813205888723,
          3.1645921172528158,
          2.9626619940679766,
          2.77798344481764,
          2.593464678661249,
          2.4119705584297977,
          2.2439749618609834,
          2.0714317185593467,
          1.9000314319980696,
          1.7393830979756784,
          1.5707963267948966,
          1.4022095556141148,
          1.2415612215917236,
          1.0701609350304464,
          0.8976176917288096,
          0.7296220951599954,
          0.5481279749285441,
          0.3636092087721534,
          0.1789306595218168,
          -0.022999463663022753,
          -0.23168866699907917,
          -0.4479100506520568,
          -0.6886352840520928,
          -0.9448200549738894,
          -1.2233935918394911,
          -1.5455023443405622,
          -1.9091332333302282,
          -2.339882157847678,
          -2.8657246507959133,
          -3.431062062254215,
          -3.955585434535744
         ],
         "yaxis": "y"
        },
        {
         "hovertemplate": "variable=wide_variable_1<br>x=%{x}<br>value=%{y}<extra></extra>",
         "legendgroup": "wide_variable_1",
         "line": {
          "color": "#EF553B",
          "dash": "solid"
         },
         "marker": {
          "symbol": "circle"
         },
         "mode": "lines",
         "name": "wide_variable_1",
         "orientation": "v",
         "showlegend": true,
         "type": "scatter",
         "x": [
          -0.5,
          -0.475,
          -0.45,
          -0.425,
          -0.4,
          -0.375,
          -0.35,
          -0.325,
          -0.3,
          -0.275,
          -0.25,
          -0.225,
          -0.2,
          -0.175,
          -0.15,
          -0.125,
          -0.1,
          -0.075,
          -0.05,
          -0.025,
          0,
          0.025,
          0.05,
          0.075,
          0.1,
          0.125,
          0.15,
          0.175,
          0.2,
          0.225,
          0.25,
          0.275,
          0.3,
          0.325,
          0.35,
          0.375,
          0.4,
          0.425,
          0.45,
          0.475,
          0.5
         ],
         "xaxis": "x",
         "y": [
          6.050124807436127,
          5.826158383404065,
          5.6021919593720035,
          5.378225535339942,
          5.154259111307881,
          4.93029268727582,
          4.706326263243758,
          4.482359839211696,
          4.2583934151796345,
          4.034426991147574,
          3.810460567115512,
          3.5864941430834505,
          3.362527719051389,
          3.1385612950193273,
          2.9145948709872656,
          2.6906284469552046,
          2.466662022923143,
          2.2426955988910815,
          2.01872917485902,
          1.7947627508269586,
          1.570796326794897,
          1.3468299027628354,
          1.122863478730774,
          0.8988970546987126,
          0.674930630666651,
          0.4509642066345896,
          0.22699778260252823,
          0.003031358570466658,
          -0.22093506546159491,
          -0.4449014894936565,
          -0.6688679135257178,
          -0.8928343375577796,
          -1.1168007615898405,
          -1.3407671856219023,
          -1.5647336096539637,
          -1.7887000336860255,
          -2.012666457718087,
          -2.236632881750148,
          -2.46059930578221,
          -2.684565729814271,
          -2.9085321538463327
         ],
         "yaxis": "y"
        }
       ],
       "layout": {
        "legend": {
         "title": {
          "text": "variable"
         },
         "tracegroupgap": 0
        },
        "margin": {
         "t": 60
        },
        "template": {
         "data": {
          "bar": [
           {
            "error_x": {
             "color": "#2a3f5f"
            },
            "error_y": {
             "color": "#2a3f5f"
            },
            "marker": {
             "line": {
              "color": "#E5ECF6",
              "width": 0.5
             },
             "pattern": {
              "fillmode": "overlay",
              "size": 10,
              "solidity": 0.2
             }
            },
            "type": "bar"
           }
          ],
          "barpolar": [
           {
            "marker": {
             "line": {
              "color": "#E5ECF6",
              "width": 0.5
             },
             "pattern": {
              "fillmode": "overlay",
              "size": 10,
              "solidity": 0.2
             }
            },
            "type": "barpolar"
           }
          ],
          "carpet": [
           {
            "aaxis": {
             "endlinecolor": "#2a3f5f",
             "gridcolor": "white",
             "linecolor": "white",
             "minorgridcolor": "white",
             "startlinecolor": "#2a3f5f"
            },
            "baxis": {
             "endlinecolor": "#2a3f5f",
             "gridcolor": "white",
             "linecolor": "white",
             "minorgridcolor": "white",
             "startlinecolor": "#2a3f5f"
            },
            "type": "carpet"
           }
          ],
          "choropleth": [
           {
            "colorbar": {
             "outlinewidth": 0,
             "ticks": ""
            },
            "type": "choropleth"
           }
          ],
          "contour": [
           {
            "colorbar": {
             "outlinewidth": 0,
             "ticks": ""
            },
            "colorscale": [
             [
              0,
              "#0d0887"
             ],
             [
              0.1111111111111111,
              "#46039f"
             ],
             [
              0.2222222222222222,
              "#7201a8"
             ],
             [
              0.3333333333333333,
              "#9c179e"
             ],
             [
              0.4444444444444444,
              "#bd3786"
             ],
             [
              0.5555555555555556,
              "#d8576b"
             ],
             [
              0.6666666666666666,
              "#ed7953"
             ],
             [
              0.7777777777777778,
              "#fb9f3a"
             ],
             [
              0.8888888888888888,
              "#fdca26"
             ],
             [
              1,
              "#f0f921"
             ]
            ],
            "type": "contour"
           }
          ],
          "contourcarpet": [
           {
            "colorbar": {
             "outlinewidth": 0,
             "ticks": ""
            },
            "type": "contourcarpet"
           }
          ],
          "heatmap": [
           {
            "colorbar": {
             "outlinewidth": 0,
             "ticks": ""
            },
            "colorscale": [
             [
              0,
              "#0d0887"
             ],
             [
              0.1111111111111111,
              "#46039f"
             ],
             [
              0.2222222222222222,
              "#7201a8"
             ],
             [
              0.3333333333333333,
              "#9c179e"
             ],
             [
              0.4444444444444444,
              "#bd3786"
             ],
             [
              0.5555555555555556,
              "#d8576b"
             ],
             [
              0.6666666666666666,
              "#ed7953"
             ],
             [
              0.7777777777777778,
              "#fb9f3a"
             ],
             [
              0.8888888888888888,
              "#fdca26"
             ],
             [
              1,
              "#f0f921"
             ]
            ],
            "type": "heatmap"
           }
          ],
          "heatmapgl": [
           {
            "colorbar": {
             "outlinewidth": 0,
             "ticks": ""
            },
            "colorscale": [
             [
              0,
              "#0d0887"
             ],
             [
              0.1111111111111111,
              "#46039f"
             ],
             [
              0.2222222222222222,
              "#7201a8"
             ],
             [
              0.3333333333333333,
              "#9c179e"
             ],
             [
              0.4444444444444444,
              "#bd3786"
             ],
             [
              0.5555555555555556,
              "#d8576b"
             ],
             [
              0.6666666666666666,
              "#ed7953"
             ],
             [
              0.7777777777777778,
              "#fb9f3a"
             ],
             [
              0.8888888888888888,
              "#fdca26"
             ],
             [
              1,
              "#f0f921"
             ]
            ],
            "type": "heatmapgl"
           }
          ],
          "histogram": [
           {
            "marker": {
             "pattern": {
              "fillmode": "overlay",
              "size": 10,
              "solidity": 0.2
             }
            },
            "type": "histogram"
           }
          ],
          "histogram2d": [
           {
            "colorbar": {
             "outlinewidth": 0,
             "ticks": ""
            },
            "colorscale": [
             [
              0,
              "#0d0887"
             ],
             [
              0.1111111111111111,
              "#46039f"
             ],
             [
              0.2222222222222222,
              "#7201a8"
             ],
             [
              0.3333333333333333,
              "#9c179e"
             ],
             [
              0.4444444444444444,
              "#bd3786"
             ],
             [
              0.5555555555555556,
              "#d8576b"
             ],
             [
              0.6666666666666666,
              "#ed7953"
             ],
             [
              0.7777777777777778,
              "#fb9f3a"
             ],
             [
              0.8888888888888888,
              "#fdca26"
             ],
             [
              1,
              "#f0f921"
             ]
            ],
            "type": "histogram2d"
           }
          ],
          "histogram2dcontour": [
           {
            "colorbar": {
             "outlinewidth": 0,
             "ticks": ""
            },
            "colorscale": [
             [
              0,
              "#0d0887"
             ],
             [
              0.1111111111111111,
              "#46039f"
             ],
             [
              0.2222222222222222,
              "#7201a8"
             ],
             [
              0.3333333333333333,
              "#9c179e"
             ],
             [
              0.4444444444444444,
              "#bd3786"
             ],
             [
              0.5555555555555556,
              "#d8576b"
             ],
             [
              0.6666666666666666,
              "#ed7953"
             ],
             [
              0.7777777777777778,
              "#fb9f3a"
             ],
             [
              0.8888888888888888,
              "#fdca26"
             ],
             [
              1,
              "#f0f921"
             ]
            ],
            "type": "histogram2dcontour"
           }
          ],
          "mesh3d": [
           {
            "colorbar": {
             "outlinewidth": 0,
             "ticks": ""
            },
            "type": "mesh3d"
           }
          ],
          "parcoords": [
           {
            "line": {
             "colorbar": {
              "outlinewidth": 0,
              "ticks": ""
             }
            },
            "type": "parcoords"
           }
          ],
          "pie": [
           {
            "automargin": true,
            "type": "pie"
           }
          ],
          "scatter": [
           {
            "fillpattern": {
             "fillmode": "overlay",
             "size": 10,
             "solidity": 0.2
            },
            "type": "scatter"
           }
          ],
          "scatter3d": [
           {
            "line": {
             "colorbar": {
              "outlinewidth": 0,
              "ticks": ""
             }
            },
            "marker": {
             "colorbar": {
              "outlinewidth": 0,
              "ticks": ""
             }
            },
            "type": "scatter3d"
           }
          ],
          "scattercarpet": [
           {
            "marker": {
             "colorbar": {
              "outlinewidth": 0,
              "ticks": ""
             }
            },
            "type": "scattercarpet"
           }
          ],
          "scattergeo": [
           {
            "marker": {
             "colorbar": {
              "outlinewidth": 0,
              "ticks": ""
             }
            },
            "type": "scattergeo"
           }
          ],
          "scattergl": [
           {
            "marker": {
             "colorbar": {
              "outlinewidth": 0,
              "ticks": ""
             }
            },
            "type": "scattergl"
           }
          ],
          "scattermapbox": [
           {
            "marker": {
             "colorbar": {
              "outlinewidth": 0,
              "ticks": ""
             }
            },
            "type": "scattermapbox"
           }
          ],
          "scatterpolar": [
           {
            "marker": {
             "colorbar": {
              "outlinewidth": 0,
              "ticks": ""
             }
            },
            "type": "scatterpolar"
           }
          ],
          "scatterpolargl": [
           {
            "marker": {
             "colorbar": {
              "outlinewidth": 0,
              "ticks": ""
             }
            },
            "type": "scatterpolargl"
           }
          ],
          "scatterternary": [
           {
            "marker": {
             "colorbar": {
              "outlinewidth": 0,
              "ticks": ""
             }
            },
            "type": "scatterternary"
           }
          ],
          "surface": [
           {
            "colorbar": {
             "outlinewidth": 0,
             "ticks": ""
            },
            "colorscale": [
             [
              0,
              "#0d0887"
             ],
             [
              0.1111111111111111,
              "#46039f"
             ],
             [
              0.2222222222222222,
              "#7201a8"
             ],
             [
              0.3333333333333333,
              "#9c179e"
             ],
             [
              0.4444444444444444,
              "#bd3786"
             ],
             [
              0.5555555555555556,
              "#d8576b"
             ],
             [
              0.6666666666666666,
              "#ed7953"
             ],
             [
              0.7777777777777778,
              "#fb9f3a"
             ],
             [
              0.8888888888888888,
              "#fdca26"
             ],
             [
              1,
              "#f0f921"
             ]
            ],
            "type": "surface"
           }
          ],
          "table": [
           {
            "cells": {
             "fill": {
              "color": "#EBF0F8"
             },
             "line": {
              "color": "white"
             }
            },
            "header": {
             "fill": {
              "color": "#C8D4E3"
             },
             "line": {
              "color": "white"
             }
            },
            "type": "table"
           }
          ]
         },
         "layout": {
          "annotationdefaults": {
           "arrowcolor": "#2a3f5f",
           "arrowhead": 0,
           "arrowwidth": 1
          },
          "autotypenumbers": "strict",
          "coloraxis": {
           "colorbar": {
            "outlinewidth": 0,
            "ticks": ""
           }
          },
          "colorscale": {
           "diverging": [
            [
             0,
             "#8e0152"
            ],
            [
             0.1,
             "#c51b7d"
            ],
            [
             0.2,
             "#de77ae"
            ],
            [
             0.3,
             "#f1b6da"
            ],
            [
             0.4,
             "#fde0ef"
            ],
            [
             0.5,
             "#f7f7f7"
            ],
            [
             0.6,
             "#e6f5d0"
            ],
            [
             0.7,
             "#b8e186"
            ],
            [
             0.8,
             "#7fbc41"
            ],
            [
             0.9,
             "#4d9221"
            ],
            [
             1,
             "#276419"
            ]
           ],
           "sequential": [
            [
             0,
             "#0d0887"
            ],
            [
             0.1111111111111111,
             "#46039f"
            ],
            [
             0.2222222222222222,
             "#7201a8"
            ],
            [
             0.3333333333333333,
             "#9c179e"
            ],
            [
             0.4444444444444444,
             "#bd3786"
            ],
            [
             0.5555555555555556,
             "#d8576b"
            ],
            [
             0.6666666666666666,
             "#ed7953"
            ],
            [
             0.7777777777777778,
             "#fb9f3a"
            ],
            [
             0.8888888888888888,
             "#fdca26"
            ],
            [
             1,
             "#f0f921"
            ]
           ],
           "sequentialminus": [
            [
             0,
             "#0d0887"
            ],
            [
             0.1111111111111111,
             "#46039f"
            ],
            [
             0.2222222222222222,
             "#7201a8"
            ],
            [
             0.3333333333333333,
             "#9c179e"
            ],
            [
             0.4444444444444444,
             "#bd3786"
            ],
            [
             0.5555555555555556,
             "#d8576b"
            ],
            [
             0.6666666666666666,
             "#ed7953"
            ],
            [
             0.7777777777777778,
             "#fb9f3a"
            ],
            [
             0.8888888888888888,
             "#fdca26"
            ],
            [
             1,
             "#f0f921"
            ]
           ]
          },
          "colorway": [
           "#636efa",
           "#EF553B",
           "#00cc96",
           "#ab63fa",
           "#FFA15A",
           "#19d3f3",
           "#FF6692",
           "#B6E880",
           "#FF97FF",
           "#FECB52"
          ],
          "font": {
           "color": "#2a3f5f"
          },
          "geo": {
           "bgcolor": "white",
           "lakecolor": "white",
           "landcolor": "#E5ECF6",
           "showlakes": true,
           "showland": true,
           "subunitcolor": "white"
          },
          "hoverlabel": {
           "align": "left"
          },
          "hovermode": "closest",
          "mapbox": {
           "style": "light"
          },
          "paper_bgcolor": "white",
          "plot_bgcolor": "#E5ECF6",
          "polar": {
           "angularaxis": {
            "gridcolor": "white",
            "linecolor": "white",
            "ticks": ""
           },
           "bgcolor": "#E5ECF6",
           "radialaxis": {
            "gridcolor": "white",
            "linecolor": "white",
            "ticks": ""
           }
          },
          "scene": {
           "xaxis": {
            "backgroundcolor": "#E5ECF6",
            "gridcolor": "white",
            "gridwidth": 2,
            "linecolor": "white",
            "showbackground": true,
            "ticks": "",
            "zerolinecolor": "white"
           },
           "yaxis": {
            "backgroundcolor": "#E5ECF6",
            "gridcolor": "white",
            "gridwidth": 2,
            "linecolor": "white",
            "showbackground": true,
            "ticks": "",
            "zerolinecolor": "white"
           },
           "zaxis": {
            "backgroundcolor": "#E5ECF6",
            "gridcolor": "white",
            "gridwidth": 2,
            "linecolor": "white",
            "showbackground": true,
            "ticks": "",
            "zerolinecolor": "white"
           }
          },
          "shapedefaults": {
           "line": {
            "color": "#2a3f5f"
           }
          },
          "ternary": {
           "aaxis": {
            "gridcolor": "white",
            "linecolor": "white",
            "ticks": ""
           },
           "baxis": {
            "gridcolor": "white",
            "linecolor": "white",
            "ticks": ""
           },
           "bgcolor": "#E5ECF6",
           "caxis": {
            "gridcolor": "white",
            "linecolor": "white",
            "ticks": ""
           }
          },
          "title": {
           "x": 0.05
          },
          "xaxis": {
           "automargin": true,
           "gridcolor": "white",
           "linecolor": "white",
           "ticks": "",
           "title": {
            "standoff": 15
           },
           "zerolinecolor": "white",
           "zerolinewidth": 2
          },
          "yaxis": {
           "automargin": true,
           "gridcolor": "white",
           "linecolor": "white",
           "ticks": "",
           "title": {
            "standoff": 15
           },
           "zerolinecolor": "white",
           "zerolinewidth": 2
          }
         }
        },
        "xaxis": {
         "anchor": "y",
         "domain": [
          0,
          1
         ],
         "title": {
          "text": "x"
         }
        },
        "yaxis": {
         "anchor": "x",
         "domain": [
          0,
          1
         ],
         "title": {
          "text": "value"
         }
        }
       }
      }
     },
     "metadata": {},
     "output_type": "display_data"
    },
    {
     "name": "stdout",
     "output_type": "stream",
     "text": [
      "phase factor slr 0.09505430259018147\n"
     ]
    }
   ],
   "source": [
    "pos2 = df_analysis.loc[df_analysis['slice_status']=='in']['Position (mm)']\n",
    "phase2 = df_analysis.loc[df_analysis['slice_status']=='in']['Phase (rad)']\n",
    "p2=np.polyfit(pos2,phase2,1)\n",
    "fig_p = px.line(x=pos2, y=[phase2, p2[0]*np.array(pos2)+p2[1]])\n",
    "fig_p.show()\n",
    "\n",
    "phf_s_oc=-p2[0]/(gamma*g_init*1e-3)\n",
    "print('phase factor oc', phf_s_oc/global_parameters.T_s)\n",
    "\n",
    "\n",
    "pos = df_slr.loc[df_slr['slice_status']=='in']['Position (mm)']\n",
    "phase = df_slr.loc[df_slr['slice_status']=='in']['Phase (rad)']\n",
    "\n",
    "#print(phase)\n",
    "p=np.polyfit(pos,phase,1)\n",
    "fig_p = px.line(x=pos, y=[phase, p[0]*np.array(pos)+p[1]])\n",
    "fig_p.show()\n",
    "\n",
    "phf_s=-p[0]/(gamma*g_init*1e-3)\n",
    "print('phase factor slr', phf_s/global_parameters.T_s)\n",
    "\n",
    "name='pulse_min_peak_T2_inf_signal_in_TBP_'+str(TBP)+'_refoc_f_'+str(round(phf_s_oc/global_parameters.T_s,3))+'_OC'\n",
    "Bruker.exportBruker(optimized_control_fields,TBP,round(phf_s_oc/global_parameters.T_s,3),gamma,'exc',sol_folder,name)\n",
    "Analysis.disp_rfAnalysis(optimized_control_fields,global_parameters,sol_folder,name)\n",
    "\n"
   ]
  }
 ],
 "metadata": {
  "kernelspec": {
   "display_name": "base",
   "language": "python",
   "name": "python3"
  },
  "language_info": {
   "codemirror_mode": {
    "name": "ipython",
    "version": 3
   },
   "file_extension": ".py",
   "mimetype": "text/x-python",
   "name": "python",
   "nbconvert_exporter": "python",
   "pygments_lexer": "ipython3",
   "version": "3.11.5"
  }
 },
 "nbformat": 4,
 "nbformat_minor": 4
}
